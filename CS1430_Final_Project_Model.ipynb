{
  "cells": [
    {
      "cell_type": "code",
      "execution_count": null,
      "metadata": {
        "colab": {
          "base_uri": "https://localhost:8080/"
        },
        "id": "GrQ8x7J9BY8q",
        "outputId": "7f7605c8-119c-424c-f652-3b276078bc30"
      },
      "outputs": [
        {
          "name": "stdout",
          "output_type": "stream",
          "text": [
            "2.9.2\n"
          ]
        }
      ],
      "source": [
        "import tensorflow as tf\n",
        "tf . print(tf. __version__)\n",
        "\n",
        "!git clone --quiet https://github.com/Ayma-n/Mask_RCNN.git"
      ]
    },
    {
      "attachments": {},
      "cell_type": "markdown",
      "metadata": {},
      "source": [
        "# Overview\n",
        "This repo was taken from [here](https://www.immersivelimit.com/tutorials/using-mask-r-cnn-on-custom-coco-like-dataset)\n",
        "and modified to accomodate training our model on our dataset."
      ]
    },
    {
      "cell_type": "markdown",
      "metadata": {
        "id": "XaC8Ek2wWRv4"
      },
      "source": [
        "At this point, if you are testing, go straight to the testing section (after running that code chunk above!)"
      ]
    },
    {
      "cell_type": "code",
      "execution_count": null,
      "metadata": {
        "colab": {
          "base_uri": "https://localhost:8080/",
          "height": 1000
        },
        "id": "mq8MD_tESSWm",
        "outputId": "51fd0513-300e-401f-ef6f-2c95177a4de3"
      },
      "outputs": [
        {
          "name": "stdout",
          "output_type": "stream",
          "text": [
            "Found existing installation: tensorflow 2.9.2\n",
            "Uninstalling tensorflow-2.9.2:\n",
            "  Would remove:\n",
            "    /usr/local/bin/estimator_ckpt_converter\n",
            "    /usr/local/bin/import_pb_to_tensorboard\n",
            "    /usr/local/bin/saved_model_cli\n",
            "    /usr/local/bin/tensorboard\n",
            "    /usr/local/bin/tf_upgrade_v2\n",
            "    /usr/local/bin/tflite_convert\n",
            "    /usr/local/bin/toco\n",
            "    /usr/local/bin/toco_from_protos\n",
            "    /usr/local/lib/python3.8/dist-packages/tensorflow-2.9.2.dist-info/*\n",
            "    /usr/local/lib/python3.8/dist-packages/tensorflow/*\n",
            "Proceed (y/n)? y\n",
            "  Successfully uninstalled tensorflow-2.9.2\n",
            "Looking in indexes: https://pypi.org/simple, https://us-python.pkg.dev/colab-wheels/public/simple/\n",
            "Collecting tensorflow==2.9.0\n",
            "  Downloading tensorflow-2.9.0-cp38-cp38-manylinux_2_17_x86_64.manylinux2014_x86_64.whl (511.7 MB)\n",
            "\u001b[K     |████████████████████████████████| 511.7 MB 191 bytes/s \n",
            "\u001b[?25hRequirement already satisfied: astunparse>=1.6.0 in /usr/local/lib/python3.8/dist-packages (from tensorflow==2.9.0) (1.6.3)\n",
            "Requirement already satisfied: keras-preprocessing>=1.1.1 in /usr/local/lib/python3.8/dist-packages (from tensorflow==2.9.0) (1.1.2)\n",
            "Requirement already satisfied: tensorflow-estimator<2.10.0,>=2.9.0rc0 in /usr/local/lib/python3.8/dist-packages (from tensorflow==2.9.0) (2.9.0)\n",
            "Requirement already satisfied: wrapt>=1.11.0 in /usr/local/lib/python3.8/dist-packages (from tensorflow==2.9.0) (1.14.1)\n",
            "Requirement already satisfied: packaging in /usr/local/lib/python3.8/dist-packages (from tensorflow==2.9.0) (21.3)\n",
            "Requirement already satisfied: tensorflow-io-gcs-filesystem>=0.23.1 in /usr/local/lib/python3.8/dist-packages (from tensorflow==2.9.0) (0.28.0)\n",
            "Requirement already satisfied: typing-extensions>=3.6.6 in /usr/local/lib/python3.8/dist-packages (from tensorflow==2.9.0) (4.4.0)\n",
            "Requirement already satisfied: flatbuffers<2,>=1.12 in /usr/local/lib/python3.8/dist-packages (from tensorflow==2.9.0) (1.12)\n",
            "Requirement already satisfied: keras<2.10.0,>=2.9.0rc0 in /usr/local/lib/python3.8/dist-packages (from tensorflow==2.9.0) (2.9.0)\n",
            "Requirement already satisfied: h5py>=2.9.0 in /usr/local/lib/python3.8/dist-packages (from tensorflow==2.9.0) (3.1.0)\n",
            "Requirement already satisfied: libclang>=13.0.0 in /usr/local/lib/python3.8/dist-packages (from tensorflow==2.9.0) (14.0.6)\n",
            "Requirement already satisfied: google-pasta>=0.1.1 in /usr/local/lib/python3.8/dist-packages (from tensorflow==2.9.0) (0.2.0)\n",
            "Requirement already satisfied: absl-py>=1.0.0 in /usr/local/lib/python3.8/dist-packages (from tensorflow==2.9.0) (1.3.0)\n",
            "Requirement already satisfied: setuptools in /usr/local/lib/python3.8/dist-packages (from tensorflow==2.9.0) (57.4.0)\n",
            "Requirement already satisfied: numpy>=1.20 in /usr/local/lib/python3.8/dist-packages (from tensorflow==2.9.0) (1.21.6)\n",
            "Requirement already satisfied: tensorboard<2.10,>=2.9 in /usr/local/lib/python3.8/dist-packages (from tensorflow==2.9.0) (2.9.1)\n",
            "Requirement already satisfied: opt-einsum>=2.3.2 in /usr/local/lib/python3.8/dist-packages (from tensorflow==2.9.0) (3.3.0)\n",
            "Requirement already satisfied: termcolor>=1.1.0 in /usr/local/lib/python3.8/dist-packages (from tensorflow==2.9.0) (2.1.1)\n",
            "Requirement already satisfied: protobuf>=3.9.2 in /usr/local/lib/python3.8/dist-packages (from tensorflow==2.9.0) (3.19.6)\n",
            "Requirement already satisfied: gast<=0.4.0,>=0.2.1 in /usr/local/lib/python3.8/dist-packages (from tensorflow==2.9.0) (0.4.0)\n",
            "Requirement already satisfied: grpcio<2.0,>=1.24.3 in /usr/local/lib/python3.8/dist-packages (from tensorflow==2.9.0) (1.51.1)\n",
            "Requirement already satisfied: six>=1.12.0 in /usr/local/lib/python3.8/dist-packages (from tensorflow==2.9.0) (1.15.0)\n",
            "Requirement already satisfied: wheel<1.0,>=0.23.0 in /usr/local/lib/python3.8/dist-packages (from astunparse>=1.6.0->tensorflow==2.9.0) (0.38.4)\n",
            "Requirement already satisfied: tensorboard-plugin-wit>=1.6.0 in /usr/local/lib/python3.8/dist-packages (from tensorboard<2.10,>=2.9->tensorflow==2.9.0) (1.8.1)\n",
            "Requirement already satisfied: google-auth<3,>=1.6.3 in /usr/local/lib/python3.8/dist-packages (from tensorboard<2.10,>=2.9->tensorflow==2.9.0) (2.15.0)\n",
            "Requirement already satisfied: google-auth-oauthlib<0.5,>=0.4.1 in /usr/local/lib/python3.8/dist-packages (from tensorboard<2.10,>=2.9->tensorflow==2.9.0) (0.4.6)\n",
            "Requirement already satisfied: tensorboard-data-server<0.7.0,>=0.6.0 in /usr/local/lib/python3.8/dist-packages (from tensorboard<2.10,>=2.9->tensorflow==2.9.0) (0.6.1)\n",
            "Requirement already satisfied: markdown>=2.6.8 in /usr/local/lib/python3.8/dist-packages (from tensorboard<2.10,>=2.9->tensorflow==2.9.0) (3.4.1)\n",
            "Requirement already satisfied: requests<3,>=2.21.0 in /usr/local/lib/python3.8/dist-packages (from tensorboard<2.10,>=2.9->tensorflow==2.9.0) (2.23.0)\n",
            "Requirement already satisfied: werkzeug>=1.0.1 in /usr/local/lib/python3.8/dist-packages (from tensorboard<2.10,>=2.9->tensorflow==2.9.0) (1.0.1)\n",
            "Requirement already satisfied: rsa<5,>=3.1.4 in /usr/local/lib/python3.8/dist-packages (from google-auth<3,>=1.6.3->tensorboard<2.10,>=2.9->tensorflow==2.9.0) (4.9)\n",
            "Requirement already satisfied: pyasn1-modules>=0.2.1 in /usr/local/lib/python3.8/dist-packages (from google-auth<3,>=1.6.3->tensorboard<2.10,>=2.9->tensorflow==2.9.0) (0.2.8)\n",
            "Requirement already satisfied: cachetools<6.0,>=2.0.0 in /usr/local/lib/python3.8/dist-packages (from google-auth<3,>=1.6.3->tensorboard<2.10,>=2.9->tensorflow==2.9.0) (5.2.0)\n",
            "Requirement already satisfied: requests-oauthlib>=0.7.0 in /usr/local/lib/python3.8/dist-packages (from google-auth-oauthlib<0.5,>=0.4.1->tensorboard<2.10,>=2.9->tensorflow==2.9.0) (1.3.1)\n",
            "Requirement already satisfied: importlib-metadata>=4.4 in /usr/local/lib/python3.8/dist-packages (from markdown>=2.6.8->tensorboard<2.10,>=2.9->tensorflow==2.9.0) (4.13.0)\n",
            "Requirement already satisfied: zipp>=0.5 in /usr/local/lib/python3.8/dist-packages (from importlib-metadata>=4.4->markdown>=2.6.8->tensorboard<2.10,>=2.9->tensorflow==2.9.0) (3.11.0)\n",
            "Requirement already satisfied: pyasn1<0.5.0,>=0.4.6 in /usr/local/lib/python3.8/dist-packages (from pyasn1-modules>=0.2.1->google-auth<3,>=1.6.3->tensorboard<2.10,>=2.9->tensorflow==2.9.0) (0.4.8)\n",
            "Requirement already satisfied: chardet<4,>=3.0.2 in /usr/local/lib/python3.8/dist-packages (from requests<3,>=2.21.0->tensorboard<2.10,>=2.9->tensorflow==2.9.0) (3.0.4)\n",
            "Requirement already satisfied: idna<3,>=2.5 in /usr/local/lib/python3.8/dist-packages (from requests<3,>=2.21.0->tensorboard<2.10,>=2.9->tensorflow==2.9.0) (2.10)\n",
            "Requirement already satisfied: urllib3!=1.25.0,!=1.25.1,<1.26,>=1.21.1 in /usr/local/lib/python3.8/dist-packages (from requests<3,>=2.21.0->tensorboard<2.10,>=2.9->tensorflow==2.9.0) (1.24.3)\n",
            "Requirement already satisfied: certifi>=2017.4.17 in /usr/local/lib/python3.8/dist-packages (from requests<3,>=2.21.0->tensorboard<2.10,>=2.9->tensorflow==2.9.0) (2022.9.24)\n",
            "Requirement already satisfied: oauthlib>=3.0.0 in /usr/local/lib/python3.8/dist-packages (from requests-oauthlib>=0.7.0->google-auth-oauthlib<0.5,>=0.4.1->tensorboard<2.10,>=2.9->tensorflow==2.9.0) (3.2.2)\n",
            "Requirement already satisfied: pyparsing!=3.0.5,>=2.0.2 in /usr/local/lib/python3.8/dist-packages (from packaging->tensorflow==2.9.0) (3.0.9)\n",
            "Installing collected packages: tensorflow\n",
            "Successfully installed tensorflow-2.9.0\n"
          ]
        },
        {
          "data": {
            "application/vnd.colab-display-data+json": {
              "pip_warning": {
                "packages": [
                  "tensorflow"
                ]
              }
            }
          },
          "metadata": {},
          "output_type": "display_data"
        }
      ],
      "source": [
        "!pip uninstall tensorflow -y\n",
        "!pip install tensorflow==2.9.0 -y"
      ]
    },
    {
      "cell_type": "code",
      "execution_count": null,
      "metadata": {
        "colab": {
          "base_uri": "https://localhost:8080/"
        },
        "id": "25QJ61ymSNaw",
        "outputId": "ac66d7dd-28c4-4797-c651-a0c9832935a9"
      },
      "outputs": [
        {
          "name": "stdout",
          "output_type": "stream",
          "text": [
            "Archive:  /content/new_data.zip\n",
            "   creating: new_data/\n",
            "  inflating: new_data/.DS_Store      \n",
            "  inflating: __MACOSX/new_data/._.DS_Store  \n",
            "   creating: new_data/test/\n",
            "  inflating: new_data/test.json      \n",
            "  inflating: new_data/train.json     \n",
            "   creating: new_data/train/\n",
            "  inflating: new_data/test/176.png   \n",
            "  inflating: new_data/test/88.png    \n",
            "  inflating: new_data/test/162.png   \n",
            "  inflating: new_data/test/189.png   \n",
            "  inflating: new_data/test/77.png    \n",
            "  inflating: new_data/test/63.png    \n",
            "  inflating: new_data/test/200.png   \n",
            "  inflating: new_data/test/62.png    \n",
            "  inflating: new_data/test/188.png   \n",
            "  inflating: new_data/test/76.png    \n",
            "  inflating: new_data/test/163.png   \n",
            "  inflating: new_data/test/177.png   \n",
            "  inflating: new_data/test/89.png    \n",
            "  inflating: new_data/test/149.png   \n",
            "  inflating: new_data/test/161.png   \n",
            "  inflating: new_data/test/175.png   \n",
            "  inflating: new_data/test/60.png    \n",
            "  inflating: new_data/test/74.png    \n",
            "  inflating: new_data/test/48.png    \n",
            "  inflating: new_data/test/49.png    \n",
            "  inflating: new_data/test/75.png    \n",
            "  inflating: new_data/test/61.png    \n",
            "  inflating: new_data/test/174.png   \n",
            "  inflating: new_data/test/160.png   \n",
            "  inflating: new_data/test/148.png   \n",
            "  inflating: new_data/test/164.png   \n",
            "  inflating: new_data/test/170.png   \n",
            "  inflating: new_data/test/158.png   \n",
            "  inflating: new_data/test/59.png    \n",
            "  inflating: new_data/test/65.png    \n",
            "  inflating: new_data/test/71.png    \n",
            "  inflating: new_data/test/70.png    \n",
            "  inflating: new_data/test/64.png    \n",
            "  inflating: new_data/test/58.png    \n",
            "  inflating: new_data/test/159.png   \n",
            "  inflating: new_data/test/171.png   \n",
            "  inflating: new_data/test/165.png   \n",
            "  inflating: new_data/test/173.png   \n",
            "  inflating: new_data/test/167.png   \n",
            "  inflating: new_data/test/99.png    \n",
            "  inflating: new_data/test/8.png     \n",
            "  inflating: new_data/test/72.png    \n",
            "  inflating: new_data/test/198.png   \n",
            "  inflating: new_data/test/66.png    \n",
            "  inflating: new_data/test/199.png   \n",
            "  inflating: new_data/test/67.png    \n",
            "  inflating: new_data/test/73.png    \n",
            "  inflating: new_data/test/9.png     \n",
            "  inflating: new_data/test/166.png   \n",
            "  inflating: new_data/test/98.png    \n",
            "  inflating: new_data/test/172.png   \n",
            "  inflating: new_data/test/129.png   \n",
            "  inflating: new_data/test/115.png   \n",
            "  inflating: new_data/test/101.png   \n",
            "  inflating: new_data/test/14.png    \n",
            "  inflating: new_data/test/28.png    \n",
            "  inflating: new_data/test/29.png    \n",
            "  inflating: new_data/test/15.png    \n",
            "  inflating: new_data/test/100.png   \n",
            "  inflating: new_data/test/114.png   \n",
            "  inflating: new_data/test/128.png   \n",
            "  inflating: new_data/test/102.png   \n",
            "  inflating: new_data/test/116.png   \n",
            "  inflating: new_data/test/17.png    \n",
            "  inflating: new_data/test/16.png    \n",
            "  inflating: new_data/test/117.png   \n",
            "  inflating: new_data/test/103.png   \n",
            "  inflating: new_data/test/107.png   \n",
            "  inflating: new_data/test/113.png   \n",
            "  inflating: new_data/test/12.png    \n",
            "  inflating: new_data/test/13.png    \n",
            "  inflating: new_data/test/112.png   \n",
            "  inflating: new_data/test/106.png   \n",
            "  inflating: new_data/test/110.png   \n",
            "  inflating: new_data/test/104.png   \n",
            "  inflating: new_data/test/138.png   \n",
            "  inflating: new_data/test/39.png    \n",
            "  inflating: new_data/test/11.png    \n",
            "  inflating: new_data/test/10.png    \n",
            "  inflating: new_data/test/38.png    \n",
            "  inflating: new_data/test/139.png   \n",
            "  inflating: new_data/test/105.png   \n",
            "  inflating: new_data/test/111.png   \n",
            "  inflating: new_data/test/108.png   \n",
            "  inflating: new_data/test/134.png   \n",
            "  inflating: new_data/test/120.png   \n",
            "  inflating: new_data/test/35.png    \n",
            "  inflating: new_data/test/21.png    \n",
            "  inflating: new_data/test/20.png    \n",
            "  inflating: new_data/test/34.png    \n",
            "  inflating: new_data/test/121.png   \n",
            "  inflating: new_data/test/135.png   \n",
            "  inflating: new_data/test/109.png   \n",
            "  inflating: new_data/test/123.png   \n",
            "  inflating: new_data/test/137.png   \n",
            "  inflating: new_data/test/22.png    \n",
            "  inflating: new_data/test/36.png    \n",
            "  inflating: new_data/test/37.png    \n",
            "  inflating: new_data/test/23.png    \n",
            "  inflating: new_data/test/136.png   \n",
            "  inflating: new_data/test/122.png   \n",
            "  inflating: new_data/test/126.png   \n",
            "  inflating: new_data/test/132.png   \n",
            "  inflating: new_data/test/27.png    \n",
            "  inflating: new_data/test/33.png    \n",
            "  inflating: new_data/test/32.png    \n",
            "  inflating: new_data/test/26.png    \n",
            "  inflating: new_data/test/133.png   \n",
            "  inflating: new_data/test/127.png   \n",
            "  inflating: new_data/test/131.png   \n",
            "  inflating: new_data/test/125.png   \n",
            "  inflating: new_data/test/119.png   \n",
            "  inflating: new_data/test/18.png    \n",
            "  inflating: new_data/test/30.png    \n",
            "  inflating: new_data/test/24.png    \n",
            "  inflating: new_data/test/25.png    \n",
            "  inflating: new_data/test/31.png    \n",
            "  inflating: new_data/test/19.png    \n",
            "  inflating: new_data/test/118.png   \n",
            "  inflating: new_data/test/124.png   \n",
            "  inflating: new_data/test/130.png   \n",
            "  inflating: new_data/test/95.png    \n",
            "  inflating: new_data/test/81.png    \n",
            "  inflating: new_data/test/157.png   \n",
            "  inflating: new_data/test/143.png   \n",
            "  inflating: new_data/test/4.png     \n",
            "  inflating: new_data/test/56.png    \n",
            "  inflating: new_data/test/42.png    \n",
            "  inflating: new_data/test/194.png   \n",
            "  inflating: new_data/test/180.png   \n",
            "  inflating: new_data/test/181.png   \n",
            "  inflating: new_data/test/195.png   \n",
            "  inflating: new_data/test/43.png    \n",
            "  inflating: new_data/test/5.png     \n",
            "  inflating: new_data/test/57.png    \n",
            "  inflating: new_data/test/142.png   \n",
            "  inflating: new_data/test/156.png   \n",
            "  inflating: new_data/test/80.png    \n",
            "  inflating: new_data/test/94.png    \n",
            "  inflating: new_data/test/82.png    \n",
            "  inflating: new_data/test/96.png    \n",
            "  inflating: new_data/test/168.png   \n",
            "  inflating: new_data/test/140.png   \n",
            "  inflating: new_data/test/154.png   \n",
            "  inflating: new_data/test/41.png    \n",
            "  inflating: new_data/test/55.png    \n",
            "  inflating: new_data/test/7.png     \n",
            "  inflating: new_data/test/183.png   \n",
            "  inflating: new_data/test/69.png    \n",
            "  inflating: new_data/test/197.png   \n",
            "  inflating: new_data/test/68.png    \n",
            "  inflating: new_data/test/196.png   \n",
            "  inflating: new_data/test/182.png   \n",
            "  inflating: new_data/test/54.png    \n",
            "  inflating: new_data/test/6.png     \n",
            "  inflating: new_data/test/40.png    \n",
            "  inflating: new_data/test/155.png   \n",
            "  inflating: new_data/test/141.png   \n",
            "  inflating: new_data/test/97.png    \n",
            "  inflating: new_data/test/169.png   \n",
            "  inflating: new_data/test/83.png    \n",
            "  inflating: new_data/test/145.png   \n",
            "  inflating: new_data/test/151.png   \n",
            "  inflating: new_data/test/87.png    \n",
            "  inflating: new_data/test/179.png   \n",
            "  inflating: new_data/test/93.png    \n",
            "  inflating: new_data/test/78.png    \n",
            "  inflating: new_data/test/186.png   \n",
            "  inflating: new_data/test/192.png   \n",
            "  inflating: new_data/test/44.png    \n",
            "  inflating: new_data/test/2.png     \n",
            "  inflating: new_data/test/50.png    \n",
            "  inflating: new_data/test/3.png     \n",
            "  inflating: new_data/test/51.png    \n",
            "  inflating: new_data/test/45.png    \n",
            "  inflating: new_data/test/193.png   \n",
            "  inflating: new_data/test/79.png    \n",
            "  inflating: new_data/test/187.png   \n",
            "  inflating: new_data/test/text_box_data.json  \n",
            "  inflating: new_data/test/92.png    \n",
            "  inflating: new_data/test/86.png    \n",
            "  inflating: new_data/test/178.png   \n",
            "  inflating: new_data/test/150.png   \n",
            "  inflating: new_data/test/144.png   \n",
            "  inflating: new_data/test/152.png   \n",
            "  inflating: new_data/test/146.png   \n",
            "  inflating: new_data/test/90.png    \n",
            "  inflating: new_data/test/84.png    \n",
            "  inflating: new_data/test/191.png   \n",
            "  inflating: new_data/test/185.png   \n",
            "  inflating: new_data/test/53.png    \n",
            "  inflating: new_data/test/1.png     \n",
            "  inflating: new_data/test/47.png    \n",
            "  inflating: new_data/test/46.png    \n",
            "  inflating: new_data/test/52.png    \n",
            "  inflating: new_data/test/184.png   \n",
            "  inflating: new_data/test/190.png   \n",
            "  inflating: new_data/test/85.png    \n",
            "  inflating: new_data/test/91.png    \n",
            "  inflating: new_data/test/147.png   \n",
            "  inflating: new_data/test/153.png   \n",
            "  inflating: new_data/train/348.png  \n",
            "  inflating: new_data/train/412.png  \n",
            "  inflating: new_data/train/374.png  \n",
            "  inflating: new_data/train/360.png  \n",
            "  inflating: new_data/train/406.png  \n",
            "  inflating: new_data/train/638.png  \n",
            "  inflating: new_data/train/176.png  \n",
            "  inflating: new_data/train/88.png   \n",
            "  inflating: new_data/train/610.png  \n",
            "  inflating: new_data/train/604.png  \n",
            "  inflating: new_data/train/162.png  \n",
            "  inflating: new_data/train/189.png  \n",
            "  inflating: new_data/train/77.png   \n",
            "  inflating: new_data/train/63.png   \n",
            "  inflating: new_data/train/228.png  \n",
            "  inflating: new_data/train/566.png  \n",
            "  inflating: new_data/train/200.png  \n",
            "  inflating: new_data/train/214.png  \n",
            "  inflating: new_data/train/572.png  \n",
            "  inflating: new_data/train/599.png  \n",
            "  inflating: new_data/train/598.png  \n",
            "  inflating: new_data/train/215.png  \n",
            "  inflating: new_data/train/573.png  \n",
            "  inflating: new_data/train/567.png  \n",
            "  inflating: new_data/train/201.png  \n",
            "  inflating: new_data/train/229.png  \n",
            "  inflating: new_data/train/62.png   \n",
            "  inflating: new_data/train/188.png  \n",
            "  inflating: new_data/train/76.png   \n",
            "  inflating: new_data/train/605.png  \n",
            "  inflating: new_data/train/163.png  \n",
            "  inflating: new_data/train/177.png  \n",
            "  inflating: new_data/train/611.png  \n",
            "  inflating: new_data/train/89.png   \n",
            "  inflating: new_data/train/639.png  \n",
            "  inflating: new_data/train/361.png  \n",
            "  inflating: new_data/train/407.png  \n",
            "  inflating: new_data/train/413.png  \n",
            "  inflating: new_data/train/375.png  \n",
            "  inflating: new_data/train/349.png  \n",
            "  inflating: new_data/train/439.png  \n",
            "  inflating: new_data/train/405.png  \n",
            "  inflating: new_data/train/363.png  \n",
            "  inflating: new_data/train/377.png  \n",
            "  inflating: new_data/train/411.png  \n",
            "  inflating: new_data/train/388.png  \n",
            "  inflating: new_data/train/149.png  \n",
            "  inflating: new_data/train/161.png  \n",
            "  inflating: new_data/train/607.png  \n",
            "  inflating: new_data/train/613.png  \n",
            "  inflating: new_data/train/175.png  \n",
            "  inflating: new_data/train/60.png   \n",
            "  inflating: new_data/train/74.png   \n",
            "  inflating: new_data/train/48.png   \n",
            "  inflating: new_data/train/559.png  \n",
            "  inflating: new_data/train/571.png  \n",
            "  inflating: new_data/train/217.png  \n",
            "  inflating: new_data/train/203.png  \n",
            "  inflating: new_data/train/565.png  \n",
            "  inflating: new_data/train/202.png  \n",
            "  inflating: new_data/train/564.png  \n",
            "  inflating: new_data/train/570.png  \n",
            "  inflating: new_data/train/216.png  \n",
            "  inflating: new_data/train/558.png  \n",
            "  inflating: new_data/train/49.png   \n",
            "  inflating: new_data/train/75.png   \n",
            "  inflating: new_data/train/61.png   \n",
            "  inflating: new_data/train/612.png  \n",
            "  inflating: new_data/train/174.png  \n",
            "  inflating: new_data/train/160.png  \n",
            "  inflating: new_data/train/606.png  \n",
            "  inflating: new_data/train/148.png  \n",
            "  inflating: new_data/train/389.png  \n",
            "  inflating: new_data/train/376.png  \n",
            "  inflating: new_data/train/410.png  \n",
            "  inflating: new_data/train/404.png  \n",
            "  inflating: new_data/train/362.png  \n",
            "  inflating: new_data/train/438.png  \n",
            "  inflating: new_data/train/366.png  \n",
            "  inflating: new_data/train/400.png  \n",
            "  inflating: new_data/train/414.png  \n",
            "  inflating: new_data/train/372.png  \n",
            "  inflating: new_data/train/428.png  \n",
            "  inflating: new_data/train/399.png  \n",
            "  inflating: new_data/train/602.png  \n",
            "  inflating: new_data/train/164.png  \n",
            "  inflating: new_data/train/170.png  \n",
            "  inflating: new_data/train/616.png  \n",
            "  inflating: new_data/train/158.png  \n",
            "  inflating: new_data/train/59.png   \n",
            "  inflating: new_data/train/65.png   \n",
            "  inflating: new_data/train/71.png   \n",
            "  inflating: new_data/train/212.png  \n",
            "  inflating: new_data/train/574.png  \n",
            "  inflating: new_data/train/560.png  \n",
            "  inflating: new_data/train/206.png  \n",
            "  inflating: new_data/train/548.png  \n",
            "  inflating: new_data/train/549.png  \n",
            "  inflating: new_data/train/561.png  \n",
            "  inflating: new_data/train/207.png  \n",
            "  inflating: new_data/train/213.png  \n",
            "  inflating: new_data/train/575.png  \n",
            "  inflating: new_data/train/70.png   \n",
            "  inflating: new_data/train/64.png   \n",
            "  inflating: new_data/train/58.png   \n",
            "  inflating: new_data/train/159.png  \n",
            "  inflating: new_data/train/171.png  \n",
            "  inflating: new_data/train/617.png  \n",
            "  inflating: new_data/train/603.png  \n",
            "  inflating: new_data/train/165.png  \n",
            "  inflating: new_data/train/398.png  \n",
            "  inflating: new_data/train/429.png  \n",
            "  inflating: new_data/train/415.png  \n",
            "  inflating: new_data/train/373.png  \n",
            "  inflating: new_data/train/367.png  \n",
            "  inflating: new_data/train/401.png  \n",
            "  inflating: new_data/train/371.png  \n",
            "  inflating: new_data/train/417.png  \n",
            "  inflating: new_data/train/403.png  \n",
            "  inflating: new_data/train/365.png  \n",
            "  inflating: new_data/train/359.png  \n",
            "  inflating: new_data/train/615.png  \n",
            "  inflating: new_data/train/173.png  \n",
            "  inflating: new_data/train/167.png  \n",
            "  inflating: new_data/train/601.png  \n",
            "  inflating: new_data/train/99.png   \n",
            "  inflating: new_data/train/629.png  \n",
            "  inflating: new_data/train/8.png    \n",
            "  inflating: new_data/train/72.png   \n",
            "  inflating: new_data/train/198.png  \n",
            "  inflating: new_data/train/66.png   \n",
            "  inflating: new_data/train/205.png  \n",
            "  inflating: new_data/train/563.png  \n",
            "  inflating: new_data/train/577.png  \n",
            "  inflating: new_data/train/211.png  \n",
            "  inflating: new_data/train/239.png  \n",
            "  inflating: new_data/train/588.png  \n",
            "  inflating: new_data/train/589.png  \n",
            "  inflating: new_data/train/238.png  \n",
            "  inflating: new_data/train/576.png  \n",
            "  inflating: new_data/train/210.png  \n",
            "  inflating: new_data/train/204.png  \n",
            "  inflating: new_data/train/562.png  \n",
            "  inflating: new_data/train/199.png  \n",
            "  inflating: new_data/train/67.png   \n",
            "  inflating: new_data/train/73.png   \n",
            "  inflating: new_data/train/9.png    \n",
            "  inflating: new_data/train/628.png  \n",
            "  inflating: new_data/train/166.png  \n",
            "  inflating: new_data/train/98.png   \n",
            "  inflating: new_data/train/600.png  \n",
            "  inflating: new_data/train/614.png  \n",
            "  inflating: new_data/train/172.png  \n",
            "  inflating: new_data/train/358.png  \n",
            "  inflating: new_data/train/402.png  \n",
            "  inflating: new_data/train/364.png  \n",
            "  inflating: new_data/train/370.png  \n",
            "  inflating: new_data/train/416.png  \n",
            "  inflating: new_data/train/459.png  \n",
            "  inflating: new_data/train/317.png  \n",
            "  inflating: new_data/train/471.png  \n",
            "  inflating: new_data/train/465.png  \n",
            "  inflating: new_data/train/303.png  \n",
            "  inflating: new_data/train/129.png  \n",
            "  inflating: new_data/train/673.png  \n",
            "  inflating: new_data/train/115.png  \n",
            "  inflating: new_data/train/101.png  \n",
            "  inflating: new_data/train/667.png  \n",
            "  inflating: new_data/train/14.png   \n",
            "  inflating: new_data/train/698.png  \n",
            "  inflating: new_data/train/28.png   \n",
            "  inflating: new_data/train/539.png  \n",
            "  inflating: new_data/train/263.png  \n",
            "  inflating: new_data/train/505.png  \n",
            "  inflating: new_data/train/511.png  \n",
            "  inflating: new_data/train/277.png  \n",
            "  inflating: new_data/train/288.png  \n",
            "  inflating: new_data/train/289.png  \n",
            "  inflating: new_data/train/510.png  \n",
            "  inflating: new_data/train/276.png  \n",
            "  inflating: new_data/train/262.png  \n",
            "  inflating: new_data/train/504.png  \n",
            "  inflating: new_data/train/538.png  \n",
            "  inflating: new_data/train/29.png   \n",
            "  inflating: new_data/train/699.png  \n",
            "  inflating: new_data/train/15.png   \n",
            "  inflating: new_data/train/100.png  \n",
            "  inflating: new_data/train/666.png  \n",
            "  inflating: new_data/train/672.png  \n",
            "  inflating: new_data/train/114.png  \n",
            "  inflating: new_data/train/128.png  \n",
            "  inflating: new_data/train/464.png  \n",
            "  inflating: new_data/train/302.png  \n",
            "  inflating: new_data/train/316.png  \n",
            "  inflating: new_data/train/470.png  \n",
            "  inflating: new_data/train/458.png  \n",
            "  inflating: new_data/train/328.png  \n",
            "  inflating: new_data/train/300.png  \n",
            "  inflating: new_data/train/466.png  \n",
            "  inflating: new_data/train/472.png  \n",
            "  inflating: new_data/train/314.png  \n",
            "  inflating: new_data/train/499.png  \n",
            "  inflating: new_data/train/658.png  \n",
            "  inflating: new_data/train/664.png  \n",
            "  inflating: new_data/train/102.png  \n",
            "  inflating: new_data/train/116.png  \n",
            "  inflating: new_data/train/670.png  \n",
            "  inflating: new_data/train/17.png   \n",
            "  inflating: new_data/train/248.png  \n",
            "  inflating: new_data/train/274.png  \n",
            "  inflating: new_data/train/512.png  \n",
            "  inflating: new_data/train/506.png  \n",
            "  inflating: new_data/train/260.png  \n",
            "  inflating: new_data/train/507.png  \n",
            "  inflating: new_data/train/261.png  \n",
            "  inflating: new_data/train/275.png  \n",
            "  inflating: new_data/train/513.png  \n",
            "  inflating: new_data/train/249.png  \n",
            "  inflating: new_data/train/16.png   \n",
            "  inflating: new_data/train/117.png  \n",
            "  inflating: new_data/train/671.png  \n",
            "  inflating: new_data/train/665.png  \n",
            "  inflating: new_data/train/103.png  \n",
            "  inflating: new_data/train/659.png  \n",
            "  inflating: new_data/train/498.png  \n",
            "  inflating: new_data/train/473.png  \n",
            "  inflating: new_data/train/315.png  \n",
            "  inflating: new_data/train/301.png  \n",
            "  inflating: new_data/train/467.png  \n",
            "  inflating: new_data/train/329.png  \n",
            "  inflating: new_data/train/463.png  \n",
            "  inflating: new_data/train/305.png  \n",
            "  inflating: new_data/train/311.png  \n",
            "  inflating: new_data/train/477.png  \n",
            "  inflating: new_data/train/339.png  \n",
            "  inflating: new_data/train/488.png  \n",
            "  inflating: new_data/train/107.png  \n",
            "  inflating: new_data/train/661.png  \n",
            "  inflating: new_data/train/675.png  \n",
            "  inflating: new_data/train/113.png  \n",
            "  inflating: new_data/train/649.png  \n",
            "  inflating: new_data/train/12.png   \n",
            "  inflating: new_data/train/517.png  \n",
            "  inflating: new_data/train/271.png  \n",
            "  inflating: new_data/train/265.png  \n",
            "  inflating: new_data/train/503.png  \n",
            "  inflating: new_data/train/259.png  \n",
            "  inflating: new_data/train/258.png  \n",
            "  inflating: new_data/train/264.png  \n",
            "  inflating: new_data/train/502.png  \n",
            "  inflating: new_data/train/516.png  \n",
            "  inflating: new_data/train/270.png  \n",
            "  inflating: new_data/train/700.png  \n",
            "  inflating: new_data/train/13.png   \n",
            "  inflating: new_data/train/648.png  \n",
            "  inflating: new_data/train/674.png  \n",
            "  inflating: new_data/train/112.png  \n",
            "  inflating: new_data/train/106.png  \n",
            "  inflating: new_data/train/660.png  \n",
            "  inflating: new_data/train/489.png  \n",
            "  inflating: new_data/train/338.png  \n",
            "  inflating: new_data/train/310.png  \n",
            "  inflating: new_data/train/476.png  \n",
            "  inflating: new_data/train/462.png  \n",
            "  inflating: new_data/train/304.png  \n",
            "  inflating: new_data/train/474.png  \n",
            "  inflating: new_data/train/312.png  \n",
            "  inflating: new_data/train/306.png  \n",
            "  inflating: new_data/train/460.png  \n",
            "  inflating: new_data/train/448.png  \n",
            "  inflating: new_data/train/110.png  \n",
            "  inflating: new_data/train/676.png  \n",
            "  inflating: new_data/train/662.png  \n",
            "  inflating: new_data/train/104.png  \n",
            "  inflating: new_data/train/138.png  \n",
            "  inflating: new_data/train/39.png   \n",
            "  inflating: new_data/train/689.png  \n",
            "  inflating: new_data/train/11.png   \n",
            "  inflating: new_data/train/500.png  \n",
            "  inflating: new_data/train/266.png  \n",
            "  inflating: new_data/train/272.png  \n",
            "  inflating: new_data/train/514.png  \n",
            "  inflating: new_data/train/528.png  \n",
            "  inflating: new_data/train/299.png  \n",
            "  inflating: new_data/train/298.png  \n",
            "  inflating: new_data/train/529.png  \n",
            "  inflating: new_data/train/273.png  \n",
            "  inflating: new_data/train/515.png  \n",
            "  inflating: new_data/train/501.png  \n",
            "  inflating: new_data/train/267.png  \n",
            "  inflating: new_data/train/10.png   \n",
            "  inflating: new_data/train/688.png  \n",
            "  inflating: new_data/train/38.png   \n",
            "  inflating: new_data/train/139.png  \n",
            "  inflating: new_data/train/663.png  \n",
            "  inflating: new_data/train/105.png  \n",
            "  inflating: new_data/train/111.png  \n",
            "  inflating: new_data/train/677.png  \n",
            "  inflating: new_data/train/449.png  \n",
            "  inflating: new_data/train/307.png  \n",
            "  inflating: new_data/train/461.png  \n",
            "  inflating: new_data/train/475.png  \n",
            "  inflating: new_data/train/313.png  \n",
            "  inflating: new_data/train/478.png  \n",
            "  inflating: new_data/train/336.png  \n",
            "  inflating: new_data/train/450.png  \n",
            "  inflating: new_data/train/444.png  \n",
            "  inflating: new_data/train/322.png  \n",
            "  inflating: new_data/train/493.png  \n",
            "  inflating: new_data/train/487.png  \n",
            "  inflating: new_data/train/108.png  \n",
            "  inflating: new_data/train/652.png  \n",
            "  inflating: new_data/train/134.png  \n",
            "  inflating: new_data/train/120.png  \n",
            "  inflating: new_data/train/646.png  \n",
            "  inflating: new_data/train/35.png   \n",
            "  inflating: new_data/train/21.png   \n",
            "  inflating: new_data/train/691.png  \n",
            "  inflating: new_data/train/685.png  \n",
            "  inflating: new_data/train/518.png  \n",
            "  inflating: new_data/train/242.png  \n",
            "  inflating: new_data/train/524.png  \n",
            "  inflating: new_data/train/530.png  \n",
            "  inflating: new_data/train/256.png  \n",
            "  inflating: new_data/train/281.png  \n",
            "  inflating: new_data/train/295.png  \n",
            "  inflating: new_data/train/294.png  \n",
            "  inflating: new_data/train/280.png  \n",
            "  inflating: new_data/train/531.png  \n",
            "  inflating: new_data/train/257.png  \n",
            "  inflating: new_data/train/243.png  \n",
            "  inflating: new_data/train/525.png  \n",
            "  inflating: new_data/train/519.png  \n",
            "  inflating: new_data/train/684.png  \n",
            "  inflating: new_data/train/690.png  \n",
            "  inflating: new_data/train/20.png   \n",
            "  inflating: new_data/train/34.png   \n",
            "  inflating: new_data/train/121.png  \n",
            "  inflating: new_data/train/647.png  \n",
            "  inflating: new_data/train/653.png  \n",
            "  inflating: new_data/train/135.png  \n",
            "  inflating: new_data/train/109.png  \n",
            "  inflating: new_data/train/486.png  \n",
            "  inflating: new_data/train/492.png  \n",
            "  inflating: new_data/train/445.png  \n",
            "  inflating: new_data/train/323.png  \n",
            "  inflating: new_data/train/337.png  \n",
            "  inflating: new_data/train/451.png  \n",
            "  inflating: new_data/train/479.png  \n",
            "  inflating: new_data/train/309.png  \n",
            "  inflating: new_data/train/321.png  \n",
            "  inflating: new_data/train/447.png  \n",
            "  inflating: new_data/train/453.png  \n",
            "  inflating: new_data/train/335.png  \n",
            "  inflating: new_data/train/484.png  \n",
            "  inflating: new_data/train/490.png  \n",
            "  inflating: new_data/train/679.png  \n",
            "  inflating: new_data/train/645.png  \n",
            "  inflating: new_data/train/123.png  \n",
            "  inflating: new_data/train/137.png  \n",
            "  inflating: new_data/train/651.png  \n",
            "  inflating: new_data/train/22.png   \n",
            "  inflating: new_data/train/36.png   \n",
            "  inflating: new_data/train/686.png  \n",
            "  inflating: new_data/train/692.png  \n",
            "  inflating: new_data/train/269.png  \n",
            "  inflating: new_data/train/255.png  \n",
            "  inflating: new_data/train/533.png  \n",
            "  inflating: new_data/train/527.png  \n",
            "  inflating: new_data/train/241.png  \n",
            "  inflating: new_data/train/296.png  \n",
            "  inflating: new_data/train/282.png  \n",
            "  inflating: new_data/train/283.png  \n",
            "  inflating: new_data/train/297.png  \n",
            "  inflating: new_data/train/526.png  \n",
            "  inflating: new_data/train/240.png  \n",
            "  inflating: new_data/train/254.png  \n",
            "  inflating: new_data/train/532.png  \n",
            "  inflating: new_data/train/268.png  \n",
            "  inflating: new_data/train/693.png  \n",
            "  inflating: new_data/train/687.png  \n",
            "  inflating: new_data/train/37.png   \n",
            "  inflating: new_data/train/23.png   \n",
            "  inflating: new_data/train/136.png  \n",
            "  inflating: new_data/train/650.png  \n",
            "  inflating: new_data/train/644.png  \n",
            "  inflating: new_data/train/122.png  \n",
            "  inflating: new_data/train/678.png  \n",
            "  inflating: new_data/train/491.png  \n",
            "  inflating: new_data/train/485.png  \n",
            "  inflating: new_data/train/452.png  \n",
            "  inflating: new_data/train/334.png  \n",
            "  inflating: new_data/train/320.png  \n",
            "  inflating: new_data/train/446.png  \n",
            "  inflating: new_data/train/308.png  \n",
            "  inflating: new_data/train/442.png  \n",
            "  inflating: new_data/train/324.png  \n",
            "  inflating: new_data/train/330.png  \n",
            "  inflating: new_data/train/456.png  \n",
            "  inflating: new_data/train/318.png  \n",
            "  inflating: new_data/train/481.png  \n",
            "  inflating: new_data/train/495.png  \n",
            "  inflating: new_data/train/126.png  \n",
            "  inflating: new_data/train/640.png  \n",
            "  inflating: new_data/train/654.png  \n",
            "  inflating: new_data/train/132.png  \n",
            "  inflating: new_data/train/668.png  \n",
            "  inflating: new_data/train/683.png  \n",
            "  inflating: new_data/train/697.png  \n",
            "  inflating: __MACOSX/new_data/train/._697.png  \n",
            "  inflating: new_data/train/27.png   \n",
            "  inflating: new_data/train/33.png   \n",
            "  inflating: new_data/train/536.png  \n",
            "  inflating: new_data/train/250.png  \n",
            "  inflating: new_data/train/244.png  \n",
            "  inflating: new_data/train/522.png  \n",
            "  inflating: new_data/train/278.png  \n",
            "  inflating: new_data/train/293.png  \n",
            "  inflating: new_data/train/287.png  \n",
            "  inflating: new_data/train/286.png  \n",
            "  inflating: new_data/train/292.png  \n",
            "  inflating: new_data/train/279.png  \n",
            "  inflating: new_data/train/245.png  \n",
            "  inflating: new_data/train/523.png  \n",
            "  inflating: new_data/train/537.png  \n",
            "  inflating: new_data/train/251.png  \n",
            "  inflating: new_data/train/32.png   \n",
            "  inflating: new_data/train/26.png   \n",
            "  inflating: new_data/train/696.png  \n",
            "  inflating: new_data/train/682.png  \n",
            "  inflating: new_data/train/669.png  \n",
            "  inflating: new_data/train/655.png  \n",
            "  inflating: new_data/train/133.png  \n",
            "  inflating: new_data/train/127.png  \n",
            "  inflating: new_data/train/641.png  \n",
            "  inflating: new_data/train/494.png  \n",
            "  inflating: new_data/train/480.png  \n",
            "  inflating: new_data/train/319.png  \n",
            "  inflating: new_data/train/331.png  \n",
            "  inflating: new_data/train/457.png  \n",
            "  inflating: new_data/train/443.png  \n",
            "  inflating: new_data/train/325.png  \n",
            "  inflating: new_data/train/455.png  \n",
            "  inflating: new_data/train/333.png  \n",
            "  inflating: new_data/train/327.png  \n",
            "  inflating: new_data/train/441.png  \n",
            "  inflating: new_data/train/469.png  \n",
            "  inflating: new_data/train/496.png  \n",
            "  inflating: new_data/train/482.png  \n",
            "  inflating: new_data/train/131.png  \n",
            "  inflating: new_data/train/657.png  \n",
            "  inflating: new_data/train/643.png  \n",
            "  inflating: new_data/train/125.png  \n",
            "  inflating: new_data/train/119.png  \n",
            "  inflating: new_data/train/694.png  \n",
            "  inflating: new_data/train/680.png  \n",
            "  inflating: new_data/train/18.png   \n",
            "  inflating: new_data/train/30.png   \n",
            "  inflating: new_data/train/24.png   \n",
            "  inflating: new_data/train/521.png  \n",
            "  inflating: new_data/train/247.png  \n",
            "  inflating: new_data/train/253.png  \n",
            "  inflating: new_data/train/535.png  \n",
            "  inflating: new_data/train/509.png  \n",
            "  inflating: new_data/train/284.png  \n",
            "  inflating: new_data/train/290.png  \n",
            "  inflating: new_data/train/291.png  \n",
            "  inflating: new_data/train/285.png  \n",
            "  inflating: new_data/train/508.png  \n",
            "  inflating: new_data/train/252.png  \n",
            "  inflating: new_data/train/534.png  \n",
            "  inflating: new_data/train/520.png  \n",
            "  inflating: new_data/train/246.png  \n",
            "  inflating: new_data/train/25.png   \n",
            "  inflating: new_data/train/31.png   \n",
            "  inflating: new_data/train/19.png   \n",
            "  inflating: new_data/train/681.png  \n",
            "  inflating: new_data/train/695.png  \n",
            "  inflating: new_data/train/118.png  \n",
            "  inflating: new_data/train/642.png  \n",
            "  inflating: new_data/train/124.png  \n",
            "  inflating: new_data/train/130.png  \n",
            "  inflating: new_data/train/656.png  \n",
            "  inflating: new_data/train/483.png  \n",
            "  inflating: new_data/train/497.png  \n",
            "  inflating: new_data/train/468.png  \n",
            "  inflating: new_data/train/326.png  \n",
            "  inflating: new_data/train/440.png  \n",
            "  inflating: new_data/train/454.png  \n",
            "  inflating: new_data/train/332.png  \n",
            "  inflating: new_data/train/369.png  \n",
            "  inflating: new_data/train/433.png  \n",
            "  inflating: new_data/train/355.png  \n",
            "  inflating: new_data/train/341.png  \n",
            "  inflating: new_data/train/427.png  \n",
            "  inflating: new_data/train/396.png  \n",
            "  inflating: new_data/train/382.png  \n",
            "  inflating: new_data/train/95.png   \n",
            "  inflating: new_data/train/81.png   \n",
            "  inflating: new_data/train/619.png  \n",
            "  inflating: new_data/train/157.png  \n",
            "  inflating: new_data/train/631.png  \n",
            "  inflating: new_data/train/625.png  \n",
            "  inflating: new_data/train/143.png  \n",
            "  inflating: new_data/train/4.png    \n",
            "  inflating: new_data/train/56.png   \n",
            "  inflating: new_data/train/42.png   \n",
            "  inflating: new_data/train/194.png  \n",
            "  inflating: new_data/train/180.png  \n",
            "  inflating: new_data/train/209.png  \n",
            "  inflating: new_data/train/547.png  \n",
            "  inflating: new_data/train/221.png  \n",
            "  inflating: new_data/train/235.png  \n",
            "  inflating: new_data/train/553.png  \n",
            "  inflating: new_data/train/584.png  \n",
            "  inflating: new_data/train/590.png  \n",
            "  inflating: new_data/train/591.png  \n",
            "  inflating: new_data/train/585.png  \n",
            "  inflating: new_data/train/234.png  \n",
            "  inflating: new_data/train/552.png  \n",
            "  inflating: new_data/train/546.png  \n",
            "  inflating: new_data/train/220.png  \n",
            "  inflating: new_data/train/208.png  \n",
            "  inflating: new_data/train/181.png  \n",
            "  inflating: new_data/train/195.png  \n",
            "  inflating: new_data/train/43.png   \n",
            "  inflating: new_data/train/5.png    \n",
            "  inflating: new_data/train/57.png   \n",
            "  inflating: new_data/train/624.png  \n",
            "  inflating: new_data/train/142.png  \n",
            "  inflating: new_data/train/156.png  \n",
            "  inflating: new_data/train/630.png  \n",
            "  inflating: new_data/train/618.png  \n",
            "  inflating: new_data/train/80.png   \n",
            "  inflating: new_data/train/94.png   \n",
            "  inflating: new_data/train/383.png  \n",
            "  inflating: new_data/train/397.png  \n",
            "  inflating: new_data/train/340.png  \n",
            "  inflating: new_data/train/426.png  \n",
            "  inflating: new_data/train/432.png  \n",
            "  inflating: new_data/train/354.png  \n",
            "  inflating: new_data/train/368.png  \n",
            "  inflating: new_data/train/418.png  \n",
            "  inflating: new_data/train/424.png  \n",
            "  inflating: new_data/train/342.png  \n",
            "  inflating: new_data/train/356.png  \n",
            "  inflating: new_data/train/430.png  \n",
            "  inflating: new_data/train/381.png  \n",
            "  inflating: new_data/train/395.png  \n",
            "  inflating: new_data/train/82.png   \n",
            "  inflating: new_data/train/96.png   \n",
            "  inflating: new_data/train/168.png  \n",
            "  inflating: new_data/train/140.png  \n",
            "  inflating: new_data/train/626.png  \n",
            "  inflating: new_data/train/632.png  \n",
            "  inflating: new_data/train/154.png  \n",
            "  inflating: new_data/train/41.png   \n",
            "  inflating: new_data/train/55.png   \n",
            "  inflating: new_data/train/7.png    \n",
            "  inflating: new_data/train/183.png  \n",
            "  inflating: new_data/train/69.png   \n",
            "  inflating: new_data/train/197.png  \n",
            "  inflating: new_data/train/578.png  \n",
            "  inflating: new_data/train/550.png  \n",
            "  inflating: new_data/train/236.png  \n",
            "  inflating: new_data/train/222.png  \n",
            "  inflating: new_data/train/544.png  \n",
            "  inflating: new_data/train/593.png  \n",
            "  inflating: new_data/train/587.png  \n",
            "  inflating: new_data/train/586.png  \n",
            "  inflating: new_data/train/592.png  \n",
            "  inflating: new_data/train/223.png  \n",
            "  inflating: new_data/train/545.png  \n",
            "  inflating: new_data/train/551.png  \n",
            "  inflating: new_data/train/237.png  \n",
            "  inflating: new_data/train/579.png  \n",
            "  inflating: new_data/train/68.png   \n",
            "  inflating: new_data/train/196.png  \n",
            "  inflating: new_data/train/182.png  \n",
            "  inflating: new_data/train/54.png   \n",
            "  inflating: new_data/train/6.png    \n",
            "  inflating: new_data/train/40.png   \n",
            "  inflating: new_data/train/633.png  \n",
            "  inflating: new_data/train/155.png  \n",
            "  inflating: new_data/train/141.png  \n",
            "  inflating: new_data/train/627.png  \n",
            "  inflating: new_data/train/97.png   \n",
            "  inflating: new_data/train/169.png  \n",
            "  inflating: new_data/train/83.png   \n",
            "  inflating: new_data/train/394.png  \n",
            "  inflating: new_data/train/380.png  \n",
            "  inflating: new_data/train/357.png  \n",
            "  inflating: new_data/train/431.png  \n",
            "  inflating: new_data/train/425.png  \n",
            "  inflating: new_data/train/343.png  \n",
            "  inflating: new_data/train/419.png  \n",
            "  inflating: new_data/train/347.png  \n",
            "  inflating: new_data/train/421.png  \n",
            "  inflating: new_data/train/435.png  \n",
            "  inflating: new_data/train/353.png  \n",
            "  inflating: new_data/train/409.png  \n",
            "  inflating: new_data/train/384.png  \n",
            "  inflating: new_data/train/390.png  \n",
            "  inflating: new_data/train/623.png  \n",
            "  inflating: new_data/train/145.png  \n",
            "  inflating: new_data/train/151.png  \n",
            "  inflating: new_data/train/637.png  \n",
            "  inflating: new_data/train/87.png   \n",
            "  inflating: new_data/train/179.png  \n",
            "  inflating: new_data/train/93.png   \n",
            "  inflating: new_data/train/78.png   \n",
            "  inflating: new_data/train/186.png  \n",
            "  inflating: new_data/train/192.png  \n",
            "  inflating: new_data/train/44.png   \n",
            "  inflating: new_data/train/2.png    \n",
            "  inflating: new_data/train/50.png   \n",
            "  inflating: new_data/train/233.png  \n",
            "  inflating: new_data/train/555.png  \n",
            "  inflating: new_data/train/541.png  \n",
            "  inflating: new_data/train/227.png  \n",
            "  inflating: new_data/train/569.png  \n",
            "  inflating: new_data/train/596.png  \n",
            "  inflating: new_data/train/582.png  \n",
            "  inflating: new_data/train/583.png  \n",
            "  inflating: new_data/train/597.png  \n",
            "  inflating: new_data/train/568.png  \n",
            "  inflating: new_data/train/540.png  \n",
            "  inflating: new_data/train/226.png  \n",
            "  inflating: new_data/train/232.png  \n",
            "  inflating: new_data/train/554.png  \n",
            "  inflating: new_data/train/3.png    \n",
            "  inflating: new_data/train/51.png   \n",
            "  inflating: new_data/train/45.png   \n",
            "  inflating: new_data/train/193.png  \n",
            "  inflating: new_data/train/79.png   \n",
            "  inflating: new_data/train/187.png  \n",
            "  inflating: new_data/train/text_box_data.json  \n",
            "  inflating: new_data/train/92.png   \n",
            "  inflating: new_data/train/86.png   \n",
            "  inflating: new_data/train/178.png  \n",
            "  inflating: new_data/train/150.png  \n",
            "  inflating: new_data/train/636.png  \n",
            "  inflating: new_data/train/622.png  \n",
            "  inflating: new_data/train/144.png  \n",
            "  inflating: new_data/train/391.png  \n",
            "  inflating: new_data/train/385.png  \n",
            "  inflating: new_data/train/408.png  \n",
            "  inflating: new_data/train/434.png  \n",
            "  inflating: new_data/train/352.png  \n",
            "  inflating: new_data/train/346.png  \n",
            "  inflating: new_data/train/420.png  \n",
            "  inflating: new_data/train/350.png  \n",
            "  inflating: new_data/train/436.png  \n",
            "  inflating: new_data/train/422.png  \n",
            "  inflating: new_data/train/344.png  \n",
            "  inflating: new_data/train/378.png  \n",
            "  inflating: new_data/train/393.png  \n",
            "  inflating: new_data/train/387.png  \n",
            "  inflating: new_data/train/634.png  \n",
            "  inflating: new_data/train/152.png  \n",
            "  inflating: new_data/train/146.png  \n",
            "  inflating: new_data/train/620.png  \n",
            "  inflating: new_data/train/608.png  \n",
            "  inflating: new_data/train/90.png   \n",
            "  inflating: new_data/train/84.png   \n",
            "  inflating: new_data/train/191.png  \n",
            "  inflating: new_data/train/185.png  \n",
            "  inflating: new_data/train/53.png   \n",
            "  inflating: new_data/train/1.png    \n",
            "  inflating: new_data/train/47.png   \n",
            "  inflating: new_data/train/224.png  \n",
            "  inflating: new_data/train/542.png  \n",
            "  inflating: new_data/train/556.png  \n",
            "  inflating: new_data/train/230.png  \n",
            "  inflating: new_data/train/218.png  \n",
            "  inflating: new_data/train/581.png  \n",
            "  inflating: new_data/train/595.png  \n",
            "  inflating: new_data/train/594.png  \n",
            "  inflating: new_data/train/580.png  \n",
            "  inflating: new_data/train/219.png  \n",
            "  inflating: new_data/train/557.png  \n",
            "  inflating: new_data/train/231.png  \n",
            "  inflating: new_data/train/225.png  \n",
            "  inflating: new_data/train/543.png  \n",
            "  inflating: new_data/train/46.png   \n",
            "  inflating: new_data/train/52.png   \n",
            "  inflating: new_data/train/184.png  \n",
            "  inflating: new_data/train/190.png  \n",
            "  inflating: new_data/train/85.png   \n",
            "  inflating: new_data/train/91.png   \n",
            "  inflating: new_data/train/609.png  \n",
            "  inflating: new_data/train/147.png  \n",
            "  inflating: new_data/train/621.png  \n",
            "  inflating: new_data/train/635.png  \n",
            "  inflating: new_data/train/153.png  \n",
            "  inflating: new_data/train/386.png  \n",
            "  inflating: new_data/train/392.png  \n",
            "  inflating: new_data/train/379.png  \n",
            "  inflating: new_data/train/423.png  \n",
            "  inflating: new_data/train/345.png  \n",
            "  inflating: new_data/train/351.png  \n",
            "  inflating: new_data/train/437.png  \n"
          ]
        }
      ],
      "source": [
        "!unzip /content/new_data.zip\n",
        "\n"
      ]
    },
    {
      "cell_type": "markdown",
      "metadata": {
        "id": "vyTMYpgR_Hdi"
      },
      "source": [
        "# Mask R-CNN Training and Inference\n",
        "In this notebook we use Matterport's implementation of Mask R-CNN to train on a custom dataset, then use the trained weights to run inference on new images.\n",
        "\n",
        "This is part of a tutorial posted at http://www.immersivelimit.com/tutorials/using-mask-r-cnn-on-custom-coco-like-dataset, so check there for more details.\n",
        "\n",
        "### Not a beginner tutorial...\n",
        "This is not intended to be a complete beginner tutorial.\n",
        "- You should know how to clone a git repository from GitHub\n",
        "- You should have a decent understanding of Python programming\n",
        "- You should understand the basics of training deep neural networks. If you've never done it before, I wouldn't recommend starting here. Find a beginner deep learning tutorial/course and start there. There's lots of great free stuff on YouTube.\n",
        "\n",
        "## **Download the Free Training Dataset First!\n",
        "I've provided a free training dataset of cigarette butt images for use with this tutorial.\n",
        "1. Download it from here: http://www.immersivelimit.com/datasets/cigarette-butts\n",
        "2. Then extract the files and put it in the \"../datasets\" directory of this repo\n",
        "3. The code below will be looking for \"../datasets/cig_butts/train\", \"../datasets/cig_butts/val\", and \"../datasets/cig_butts/real_test\""
      ]
    },
    {
      "cell_type": "code",
      "execution_count": null,
      "metadata": {
        "collapsed": true,
        "id": "mKhSuxaw_Hdk"
      },
      "outputs": [],
      "source": [
        "import os\n",
        "import sys\n",
        "import json\n",
        "import numpy as np\n",
        "import time\n",
        "from PIL import Image, ImageDraw"
      ]
    },
    {
      "cell_type": "markdown",
      "metadata": {
        "id": "1JxKga8e_Hdl"
      },
      "source": [
        "## Import Matterport's \"mrcnn\" libraries\n",
        "1. I'm using a forked version of Matterport's Mask_RCNN git repo to make sure this code works, even if the main repo changes. As of July 29, 2018, there is a bug in Matterport's version that breaks loading an existing model that I've fixed in my version (and submitted a pull request to fix it in theirs).\n",
        "  - My version is here: https://github.com/akTwelve/Mask_RCNN\n",
        "  - The original is here: https://github.com/matterport/Mask_RCNN\n",
        "2. Update the code cell below to point to the root directory of the repo on your machine."
      ]
    },
    {
      "cell_type": "code",
      "execution_count": null,
      "metadata": {
        "id": "ZBXkc3fb_Hdl"
      },
      "outputs": [],
      "source": [
        "# Set the ROOT_DIR variable to the root directory of the Mask_RCNN git repo\n",
        "ROOT_DIR = '/content/Mask_RCNN'\n",
        "assert os.path.exists(ROOT_DIR), 'ROOT_DIR does not exist. Did you forget to read the instructions above? ;)'\n",
        "\n",
        "# Import mrcnn libraries\n",
        "sys.path.append(ROOT_DIR) \n",
        "from mrcnn.config import Config\n",
        "import mrcnn.utils as utils\n",
        "from mrcnn import visualize\n",
        "import mrcnn.model as modellib\n"
      ]
    },
    {
      "cell_type": "markdown",
      "metadata": {
        "id": "MBncmdhV_Hdl"
      },
      "source": [
        "## Set up logging and pre-trained model paths\n",
        "This will default to sub-directories in your mask_rcnn_dir, but if you want them somewhere else, updated it here.\n",
        "\n",
        "It will also download the pre-trained coco model."
      ]
    },
    {
      "cell_type": "code",
      "execution_count": null,
      "metadata": {
        "colab": {
          "base_uri": "https://localhost:8080/"
        },
        "id": "UfayfkGg_Hdl",
        "outputId": "f728b103-4ab8-4add-a367-d1f5d328f2e8"
      },
      "outputs": [
        {
          "name": "stdout",
          "output_type": "stream",
          "text": [
            "Downloading pretrained model to /content/Mask_RCNN/mask_rcnn_coco.h5 ...\n",
            "... done downloading pretrained model!\n"
          ]
        }
      ],
      "source": [
        "# Directory to save logs and trained model\n",
        "MODEL_DIR = os.path.join(ROOT_DIR, \"logs\")\n",
        "\n",
        "# Local path to trained weights file\n",
        "COCO_MODEL_PATH = os.path.join(ROOT_DIR, \"mask_rcnn_coco.h5\")\n",
        "\n",
        "# Download COCO trained weights from Releases if needed\n",
        "if not os.path.exists(COCO_MODEL_PATH):\n",
        "    utils.download_trained_weights(COCO_MODEL_PATH)"
      ]
    },
    {
      "cell_type": "markdown",
      "metadata": {
        "id": "SWley8pC_Hdl"
      },
      "source": [
        "## Configuration\n",
        "Define configurations for training on the Cigarette Butt dataset.\n",
        "### Note\n",
        "These are settings that worked on my machine (GTX 970 graphics card). If you are getting OOM (Out of Memory) errors, you may need to tweak the settings or your computer may not be powerful enough. If you have a better graphics card, you will want to tweak it to take advantage of that."
      ]
    },
    {
      "cell_type": "code",
      "execution_count": null,
      "metadata": {
        "colab": {
          "base_uri": "https://localhost:8080/"
        },
        "id": "wiPpa8Nl_Hdm",
        "outputId": "5e0f31d5-723d-49b4-ecb0-65cf9b7bad90"
      },
      "outputs": [
        {
          "name": "stdout",
          "output_type": "stream",
          "text": [
            "\n",
            "Configurations:\n",
            "BACKBONE                       resnet50\n",
            "BACKBONE_STRIDES               [4, 8, 16, 32, 64]\n",
            "BATCH_SIZE                     1\n",
            "BBOX_STD_DEV                   [0.1 0.1 0.2 0.2]\n",
            "COMPUTE_BACKBONE_SHAPE         None\n",
            "DETECTION_MAX_INSTANCES        100\n",
            "DETECTION_MIN_CONFIDENCE       0.7\n",
            "DETECTION_NMS_THRESHOLD        0.3\n",
            "FPN_CLASSIF_FC_LAYERS_SIZE     1024\n",
            "GPU_COUNT                      1\n",
            "GRADIENT_CLIP_NORM             5.0\n",
            "IMAGES_PER_GPU                 1\n",
            "IMAGE_CHANNEL_COUNT            3\n",
            "IMAGE_MAX_DIM                  256\n",
            "IMAGE_META_SIZE                39\n",
            "IMAGE_MIN_DIM                  256\n",
            "IMAGE_MIN_SCALE                0\n",
            "IMAGE_RESIZE_MODE              square\n",
            "IMAGE_SHAPE                    [256 256   3]\n",
            "LEARNING_MOMENTUM              0.9\n",
            "LEARNING_RATE                  0.001\n",
            "LOSS_WEIGHTS                   {'rpn_class_loss': 1.0, 'rpn_bbox_loss': 1.0, 'mrcnn_class_loss': 1.0, 'mrcnn_bbox_loss': 1.0, 'mrcnn_mask_loss': 1.0}\n",
            "MASK_POOL_SIZE                 14\n",
            "MASK_SHAPE                     [28, 28]\n",
            "MAX_GT_INSTANCES               50\n",
            "MEAN_PIXEL                     [123.7 116.8 103.9]\n",
            "MINI_MASK_SHAPE                (56, 56)\n",
            "NAME                           letters\n",
            "NUM_CLASSES                    27\n",
            "POOL_SIZE                      7\n",
            "POST_NMS_ROIS_INFERENCE        500\n",
            "POST_NMS_ROIS_TRAINING         1000\n",
            "PRE_NMS_LIMIT                  6000\n",
            "ROI_POSITIVE_RATIO             0.33\n",
            "RPN_ANCHOR_RATIOS              [0.5, 1, 2]\n",
            "RPN_ANCHOR_SCALES              (32, 64, 128, 256, 512)\n",
            "RPN_ANCHOR_STRIDE              1\n",
            "RPN_BBOX_STD_DEV               [0.1 0.1 0.2 0.2]\n",
            "RPN_NMS_THRESHOLD              0.7\n",
            "RPN_TRAIN_ANCHORS_PER_IMAGE    256\n",
            "STEPS_PER_EPOCH                1000\n",
            "TOP_DOWN_PYRAMID_SIZE          256\n",
            "TRAIN_BN                       False\n",
            "TRAIN_ROIS_PER_IMAGE           32\n",
            "USE_MINI_MASK                  True\n",
            "USE_RPN_ROIS                   True\n",
            "VALIDATION_STEPS               5\n",
            "WEIGHT_DECAY                   0.0001\n",
            "\n",
            "\n"
          ]
        }
      ],
      "source": [
        "class CigButtsConfig(Config):\n",
        "    \"\"\"Configuration for training on the cigarette butts dataset.\n",
        "    Derives from the base Config class and overrides values specific\n",
        "    to the cigarette butts dataset.\n",
        "    \"\"\"\n",
        "    # Give the configuration a recognizable name\n",
        "    NAME = \"letters\"\n",
        "\n",
        "    # Train on 1 GPU and 1 image per GPU. Batch size is 1 (GPUs * images/GPU).\n",
        "    GPU_COUNT = 1\n",
        "    IMAGES_PER_GPU = 1\n",
        "\n",
        "    # Number of classes (including background)\n",
        "    NUM_CLASSES = 27 # background + 1 (cig_butt)\n",
        "\n",
        "    # All of our training images are 512x512\n",
        "    IMAGE_MIN_DIM = 256\n",
        "    IMAGE_MAX_DIM = 256\n",
        "\n",
        "    # You can experiment with this number to see if it improves training\n",
        "    STEPS_PER_EPOCH = 1000\n",
        "\n",
        "    # This is how often validation is run. If you are using too much hard drive space\n",
        "    # on saved models (in the MODEL_DIR), try making this value larger.\n",
        "    VALIDATION_STEPS = 5\n",
        "    \n",
        "    # Matterport originally used resnet101, but I downsized to fit it on my graphics card\n",
        "    BACKBONE = 'resnet50'\n",
        "\n",
        "    # To be honest, I haven't taken the time to figure out what these do\n",
        "    RPN_ANCHOR_SCALES = (32, 64, 128, 256, 512)\n",
        "    TRAIN_ROIS_PER_IMAGE = 32\n",
        "    MAX_GT_INSTANCES = 50 \n",
        "    POST_NMS_ROIS_INFERENCE = 500 \n",
        "    POST_NMS_ROIS_TRAINING = 1000 \n",
        "\n",
        "    # ANH: I set this\n",
        "    # IMAGE_META_SIZE = 65\n",
        "    \n",
        "config = CigButtsConfig()\n",
        "config.display()"
      ]
    },
    {
      "cell_type": "markdown",
      "metadata": {
        "id": "qb58h3sx_Hdm"
      },
      "source": [
        "# Define the dataset\n",
        "I've attempted to make this generic to any COCO-like dataset. That means if you have another dataset defined in the COCO format, it should work."
      ]
    },
    {
      "cell_type": "code",
      "execution_count": null,
      "metadata": {
        "collapsed": true,
        "id": "3gNzIryc_Hdn"
      },
      "outputs": [],
      "source": [
        "class CocoLikeDataset(utils.Dataset):\n",
        "    \"\"\" Generates a COCO-like dataset, i.e. an image dataset annotated in the style of the COCO dataset.\n",
        "        See http://cocodataset.org/#home for more information.\n",
        "    \"\"\"\n",
        "    def load_data(self, annotation_json, images_dir):\n",
        "        \"\"\" Load the coco-like dataset from json\n",
        "        Args:\n",
        "            annotation_json: The path to the coco annotations json file\n",
        "            images_dir: The directory holding the images referred to by the json file\n",
        "        \"\"\"\n",
        "        # Load json from file\n",
        "        json_file = open(annotation_json)\n",
        "        coco_json = json.load(json_file)\n",
        "        json_file.close()\n",
        "        \n",
        "        # Add the class names using the base method from utils.Dataset\n",
        "        source_name = \"coco_like\"\n",
        "        for category in coco_json['categories']:\n",
        "            class_id = category['id']\n",
        "            class_name = category['name']\n",
        "            if class_id < 1:\n",
        "                print('Error: Class id for \"{}\" cannot be less than one. (0 is reserved for the background)'.format(class_name))\n",
        "                return\n",
        "            \n",
        "            self.add_class(source_name, class_id, class_name)\n",
        "        \n",
        "        # Get all annotations\n",
        "        annotations = {}\n",
        "        for annotation in coco_json['annotations']:\n",
        "            image_id = annotation['image_id']\n",
        "            if image_id not in annotations:\n",
        "                annotations[image_id] = []\n",
        "            annotations[image_id].append(annotation)\n",
        "        \n",
        "        # Get all images and add them to the dataset\n",
        "        seen_images = {}\n",
        "        for image in coco_json['images']:\n",
        "            image_id = image['id']\n",
        "            if image_id in seen_images:\n",
        "                print(\"Warning: Skipping duplicate image id: {}\".format(image))\n",
        "            else:\n",
        "                seen_images[image_id] = image\n",
        "                try:\n",
        "                    image_file_name = image['file_name']\n",
        "                    image_width = image['width']\n",
        "                    image_height = image['height']\n",
        "                except KeyError as key:\n",
        "                    print(\"Warning: Skipping image (id: {}) with missing key: {}\".format(image_id, key))\n",
        "                \n",
        "                image_path = os.path.abspath(os.path.join(images_dir, image_file_name))\n",
        "                image_annotations = annotations[image_id]\n",
        "                \n",
        "                # Add the image using the base method from utils.Dataset\n",
        "                self.add_image(\n",
        "                    source=source_name,\n",
        "                    image_id=image_id,\n",
        "                    path=image_path,\n",
        "                    width=image_width,\n",
        "                    height=image_height,\n",
        "                    annotations=image_annotations\n",
        "                )\n",
        "                \n",
        "    def load_mask(self, image_id):\n",
        "        \"\"\" Load instance masks for the given image.\n",
        "        MaskRCNN expects masks in the form of a bitmap [height, width, instances].\n",
        "        Args:\n",
        "            image_id: The id of the image to load masks for\n",
        "        Returns:\n",
        "            masks: A bool array of shape [height, width, instance count] with\n",
        "                one mask per instance.\n",
        "            class_ids: a 1D array of class IDs of the instance masks.\n",
        "        \"\"\"\n",
        "        image_info = self.image_info[image_id]\n",
        "        annotations = image_info['annotations']\n",
        "        instance_masks = []\n",
        "        class_ids = []\n",
        "        \n",
        "        for annotation in annotations:\n",
        "            class_id = annotation['category_id']\n",
        "            mask = Image.new('1', (image_info['width'], image_info['height']))\n",
        "            mask_draw = ImageDraw.ImageDraw(mask, '1')\n",
        "            for segmentation in annotation['segmentation']:\n",
        "                mask_draw.polygon(segmentation, fill=1)\n",
        "                bool_array = np.array(mask) > 0\n",
        "                instance_masks.append(bool_array)\n",
        "                class_ids.append(class_id)\n",
        "\n",
        "        mask = np.dstack(instance_masks)\n",
        "        class_ids = np.array(class_ids, dtype=np.int32)\n",
        "        \n",
        "        return mask, class_ids\n",
        "\n"
      ]
    },
    {
      "cell_type": "code",
      "execution_count": null,
      "metadata": {
        "id": "TQOR5GaiANZ8"
      },
      "outputs": [],
      "source": []
    },
    {
      "cell_type": "markdown",
      "metadata": {
        "id": "ty6nAm5c_Hdn"
      },
      "source": [
        "# Create the Training and Validation Datasets\n",
        "Make sure you download the training dataset linked at the top of this notebook. If you put the dataset somewhere else, update the paths below."
      ]
    },
    {
      "cell_type": "code",
      "execution_count": null,
      "metadata": {
        "collapsed": true,
        "id": "cKtB6GV0_Hdn"
      },
      "outputs": [],
      "source": [
        "dataset_train = CocoLikeDataset()\n",
        "dataset_train.load_data('/content/new_data/train.json', '/content/new_data/train')\n",
        "dataset_train.prepare()\n",
        "\n",
        "dataset_val = CocoLikeDataset()\n",
        "dataset_val.load_data('/content/new_data/test.json', '/content/new_data/test')\n",
        "dataset_val.prepare()"
      ]
    },
    {
      "cell_type": "markdown",
      "metadata": {
        "id": "Cq0ltQlG_Hdn"
      },
      "source": [
        "## Display a few images from the training dataset"
      ]
    },
    {
      "cell_type": "code",
      "execution_count": null,
      "metadata": {
        "colab": {
          "base_uri": "https://localhost:8080/",
          "height": 1000
        },
        "id": "yYxtkRxM_Hdn",
        "outputId": "2c3ac9dd-a0e2-4301-8687-1d16e992fd36"
      },
      "outputs": [
        {
          "data": {
            "image/png": "[encoded data removed]",
            "text/plain": [
              "<Figure size 1008x360 with 5 Axes>"
            ]
          },
          "metadata": {
            "needs_background": "light"
          },
          "output_type": "display_data"
        },
        {
          "data": {
            "image/png": "[encoded data removed]",
            "text/plain": [
              "<Figure size 1008x360 with 5 Axes>"
            ]
          },
          "metadata": {
            "needs_background": "light"
          },
          "output_type": "display_data"
        },
        {
          "data": {
            "image/png": "[encoded data removed]",
            "text/plain": [
              "<Figure size 1008x360 with 5 Axes>"
            ]
          },
          "metadata": {
            "needs_background": "light"
          },
          "output_type": "display_data"
        },
        {
          "data": {
            "image/png": "[encoded data removed]",
            "text/plain": [
              "<Figure size 1008x360 with 5 Axes>"
            ]
          },
          "metadata": {
            "needs_background": "light"
          },
          "output_type": "display_data"
        },
        {
          "data": {
            "image/png": "[encoded data removed]",
            "text/plain": [
              "<Figure size 1008x360 with 5 Axes>"
            ]
          },
          "metadata": {
            "needs_background": "light"
          },
          "output_type": "display_data"
        },
        {
          "data": {
            "image/png": "[encoded data removed]",
            "text/plain": [
              "<Figure size 1008x360 with 5 Axes>"
            ]
          },
          "metadata": {
            "needs_background": "light"
          },
          "output_type": "display_data"
        },
        {
          "data": {
            "image/png": "[encoded data removed]",
            "text/plain": [
              "<Figure size 1008x360 with 5 Axes>"
            ]
          },
          "metadata": {
            "needs_background": "light"
          },
          "output_type": "display_data"
        },
        {
          "data": {
            "image/png": "[encoded data removed]",
            "text/plain": [
              "<Figure size 1008x360 with 5 Axes>"
            ]
          },
          "metadata": {
            "needs_background": "light"
          },
          "output_type": "display_data"
        },
        {
          "data": {
            "image/png": "[encoded data removed]",
            "text/plain": [
              "<Figure size 1008x360 with 5 Axes>"
            ]
          },
          "metadata": {
            "needs_background": "light"
          },
          "output_type": "display_data"
        },
        {
          "data": {
            "image/png": "[encoded data removed]",
            "text/plain": [
              "<Figure size 1008x360 with 5 Axes>"
            ]
          },
          "metadata": {
            "needs_background": "light"
          },
          "output_type": "display_data"
        }
      ],
      "source": [
        "dataset = dataset_train\n",
        "image_ids = np.random.choice(dataset.image_ids, 10)\n",
        "for image_id in image_ids:\n",
        "    image = dataset.load_image(image_id)\n",
        "    mask, class_ids = dataset.load_mask(image_id)\n",
        "    visualize.display_top_masks(image, mask, class_ids, dataset.class_names)"
      ]
    },
    {
      "cell_type": "markdown",
      "metadata": {
        "id": "T920aR64_Hdn"
      },
      "source": [
        "# Create the Training Model and Train\n",
        "This code is largely borrowed from the train_shapes.ipynb notebook."
      ]
    },
    {
      "cell_type": "code",
      "execution_count": null,
      "metadata": {
        "collapsed": true,
        "id": "xS2lM3_K_Hdo"
      },
      "outputs": [],
      "source": [
        "# Create model in training mode\n",
        "model = modellib.MaskRCNN(mode=\"training\", config=config,\n",
        "                          model_dir=MODEL_DIR)"
      ]
    },
    {
      "cell_type": "code",
      "execution_count": null,
      "metadata": {
        "collapsed": true,
        "id": "DURfpkEW_Hdo"
      },
      "outputs": [],
      "source": [
        "# Which weights to start with?\n",
        "init_with = \"coco\"  # imagenet, coco, or last\n",
        "\n",
        "if init_with == \"imagenet\":\n",
        "    model.load_weights(model.get_imagenet_weights(), by_name=True)\n",
        "elif init_with == \"coco\":\n",
        "    # Load weights trained on MS COCO, but skip layers that\n",
        "    # are different due to the different number of classes\n",
        "    # See README for instructions to download the COCO weights\n",
        "    model.load_weights(COCO_MODEL_PATH, by_name=True,\n",
        "                       exclude=[\"mrcnn_class_logits\", \"mrcnn_bbox_fc\", \n",
        "                                \"mrcnn_bbox\", \"mrcnn_mask\"])\n",
        "elif init_width == \"last\":\n",
        "    # Load the last model you trained and continue training\n",
        "    model.load_weights(model.find_last(), by_name=True)"
      ]
    },
    {
      "cell_type": "code",
      "execution_count": null,
      "metadata": {
        "colab": {
          "base_uri": "https://localhost:8080/"
        },
        "id": "MEy7IcHA6s3P",
        "outputId": "e51a18d8-c158-4c4b-c413-51a781345b78"
      },
      "outputs": [
        {
          "name": "stdout",
          "output_type": "stream",
          "text": [
            "updating: content/Mask_RCNN/logs/ (stored 0%)\n",
            "  adding: content/Mask_RCNN/logs/letters20221213T2242/ (stored 0%)\n",
            "  adding: content/Mask_RCNN/logs/letters20221213T2242/mask_rcnn_letters_0012.h5 (deflated 9%)\n",
            "  adding: content/Mask_RCNN/logs/letters20221213T2242/mask_rcnn_letters_0013.h5 (deflated 9%)\n",
            "  adding: content/Mask_RCNN/logs/letters20221213T2242/mask_rcnn_letters_0002.h5 (deflated 9%)\n",
            "  adding: content/Mask_RCNN/logs/letters20221213T2242/mask_rcnn_letters_0005.h5 (deflated 9%)\n",
            "  adding: content/Mask_RCNN/logs/letters20221213T2242/mask_rcnn_letters_0009.h5 (deflated 9%)\n",
            "  adding: content/Mask_RCNN/logs/letters20221213T2242/mask_rcnn_letters_0016.h5 (deflated 9%)\n",
            "  adding: content/Mask_RCNN/logs/letters20221213T2242/mask_rcnn_letters_0015.h5 (deflated 9%)\n",
            "  adding: content/Mask_RCNN/logs/letters20221213T2242/mask_rcnn_letters_0018.h5 (deflated 9%)\n",
            "  adding: content/Mask_RCNN/logs/letters20221213T2242/mask_rcnn_letters_0008.h5 (deflated 9%)\n",
            "  adding: content/Mask_RCNN/logs/letters20221213T2242/events.out.tfevents.1670971348.f72e52a65cc0 (deflated 85%)\n",
            "  adding: content/Mask_RCNN/logs/letters20221213T2242/mask_rcnn_letters_0003.h5 (deflated 9%)\n",
            "  adding: content/Mask_RCNN/logs/letters20221213T2242/mask_rcnn_letters_0011.h5 (deflated 9%)\n",
            "  adding: content/Mask_RCNN/logs/letters20221213T2242/mask_rcnn_letters_0014.h5 (deflated 9%)\n",
            "  adding: content/Mask_RCNN/logs/letters20221213T2242/mask_rcnn_letters_0004.h5 (deflated 9%)\n",
            "  adding: content/Mask_RCNN/logs/letters20221213T2242/events.out.tfevents.1670972155.f72e52a65cc0 (deflated 87%)\n",
            "  adding: content/Mask_RCNN/logs/letters20221213T2242/mask_rcnn_letters_0019.h5 (deflated 9%)\n",
            "  adding: content/Mask_RCNN/logs/letters20221213T2242/events.out.tfevents.1670974674.f72e52a65cc0 (deflated 88%)\n",
            "  adding: content/Mask_RCNN/logs/letters20221213T2242/mask_rcnn_letters_0007.h5 (deflated 9%)\n",
            "  adding: content/Mask_RCNN/logs/letters20221213T2242/mask_rcnn_letters_0001.h5 (deflated 9%)\n",
            "  adding: content/Mask_RCNN/logs/letters20221213T2242/plugins/ (stored 0%)\n",
            "  adding: content/Mask_RCNN/logs/letters20221213T2242/plugins/profile/ (stored 0%)\n",
            "  adding: content/Mask_RCNN/logs/letters20221213T2242/plugins/profile/2022_12_13_22_56_04/ (stored 0%)\n",
            "  adding: content/Mask_RCNN/logs/letters20221213T2242/plugins/profile/2022_12_13_22_56_04/f72e52a65cc0.xplane.pb (deflated 81%)\n",
            "  adding: content/Mask_RCNN/logs/letters20221213T2242/plugins/profile/2022_12_13_22_56_04/f72e52a65cc0.kernel_stats.pb (deflated 92%)\n",
            "  adding: content/Mask_RCNN/logs/letters20221213T2242/plugins/profile/2022_12_13_22_56_04/f72e52a65cc0.overview_page.pb (deflated 61%)\n",
            "  adding: content/Mask_RCNN/logs/letters20221213T2242/plugins/profile/2022_12_13_22_56_04/f72e52a65cc0.input_pipeline.pb (deflated 60%)\n",
            "  adding: content/Mask_RCNN/logs/letters20221213T2242/plugins/profile/2022_12_13_22_56_04/f72e52a65cc0.trace.json.gz (deflated 1%)\n",
            "  adding: content/Mask_RCNN/logs/letters20221213T2242/plugins/profile/2022_12_13_22_56_04/f72e52a65cc0.memory_profile.json.gz (deflated 0%)\n",
            "  adding: content/Mask_RCNN/logs/letters20221213T2242/plugins/profile/2022_12_13_22_56_04/f72e52a65cc0.tensorflow_stats.pb (deflated 73%)\n",
            "  adding: content/Mask_RCNN/logs/letters20221213T2242/plugins/profile/2022_12_13_22_42_50/ (stored 0%)\n",
            "  adding: content/Mask_RCNN/logs/letters20221213T2242/plugins/profile/2022_12_13_22_42_50/f72e52a65cc0.xplane.pb (deflated 81%)\n",
            "  adding: content/Mask_RCNN/logs/letters20221213T2242/plugins/profile/2022_12_13_22_42_50/f72e52a65cc0.kernel_stats.pb (deflated 92%)\n",
            "  adding: content/Mask_RCNN/logs/letters20221213T2242/plugins/profile/2022_12_13_22_42_50/f72e52a65cc0.overview_page.pb (deflated 61%)\n",
            "  adding: content/Mask_RCNN/logs/letters20221213T2242/plugins/profile/2022_12_13_22_42_50/f72e52a65cc0.input_pipeline.pb (deflated 60%)\n",
            "  adding: content/Mask_RCNN/logs/letters20221213T2242/plugins/profile/2022_12_13_22_42_50/f72e52a65cc0.trace.json.gz (deflated 1%)\n",
            "  adding: content/Mask_RCNN/logs/letters20221213T2242/plugins/profile/2022_12_13_22_42_50/f72e52a65cc0.memory_profile.json.gz (deflated 0%)\n",
            "  adding: content/Mask_RCNN/logs/letters20221213T2242/plugins/profile/2022_12_13_22_42_50/f72e52a65cc0.tensorflow_stats.pb (deflated 73%)\n",
            "  adding: content/Mask_RCNN/logs/letters20221213T2242/events.out.tfevents.1670971370.f72e52a65cc0.profile-empty (deflated 5%)\n",
            "  adding: content/Mask_RCNN/logs/letters20221213T2242/mask_rcnn_letters_0010.h5 (deflated 9%)\n",
            "  adding: content/Mask_RCNN/logs/letters20221213T2242/mask_rcnn_letters_0017.h5 (deflated 9%)\n",
            "  adding: content/Mask_RCNN/logs/letters20221213T2242/mask_rcnn_letters_0020.h5 (deflated 9%)\n",
            "  adding: content/Mask_RCNN/logs/letters20221213T2242/mask_rcnn_letters_0006.h5 (deflated 9%)\n",
            "  adding: content/Mask_RCNN/logs/letters20221213T2241/ (stored 0%)\n"
          ]
        }
      ],
      "source": [
        "!zip -r '/content/logs.zip' '/content/Mask_RCNN/logs/' "
      ]
    },
    {
      "cell_type": "markdown",
      "metadata": {
        "id": "lOWc3yVK_Hdo"
      },
      "source": [
        "## Training\n",
        "\n",
        "Train in two stages:\n",
        "\n",
        "1. Only the heads. Here we're freezing all the backbone layers and training only the randomly initialized layers (i.e. the ones that we didn't use pre-trained weights from MS COCO). To train only the head layers, pass layers='heads' to the train() function.\n",
        "\n",
        "2. Fine-tune all layers. For this simple example it's not necessary, but we're including it to show the process. Simply pass layers=\"all to train all layers.\n",
        "\n"
      ]
    },
    {
      "cell_type": "code",
      "execution_count": null,
      "metadata": {
        "colab": {
          "base_uri": "https://localhost:8080/"
        },
        "id": "p7RsRA5c_Hdo",
        "outputId": "24f42336-b8e0-4b9d-9733-8883f9dbd117",
        "scrolled": true
      },
      "outputs": [
        {
          "name": "stdout",
          "output_type": "stream",
          "text": [
            "\n",
            "Starting at epoch 0. LR=0.001\n",
            "\n",
            "Checkpoint Path: /content/Mask_RCNN/logs/letters20221213T2242/mask_rcnn_letters_{epoch:04d}.h5\n",
            "Selecting layers to train\n",
            "fpn_c5p5               (Conv2D)\n",
            "fpn_c4p4               (Conv2D)\n",
            "fpn_c3p3               (Conv2D)\n",
            "fpn_c2p2               (Conv2D)\n",
            "fpn_p5                 (Conv2D)\n",
            "fpn_p2                 (Conv2D)\n",
            "fpn_p3                 (Conv2D)\n",
            "fpn_p4                 (Conv2D)\n",
            "rpn_model              (Functional)\n",
            "mrcnn_mask_conv1       (TimeDistributed)\n",
            "mrcnn_mask_bn1         (TimeDistributed)\n",
            "mrcnn_mask_conv2       (TimeDistributed)\n",
            "mrcnn_mask_bn2         (TimeDistributed)\n",
            "mrcnn_class_conv1      (TimeDistributed)\n",
            "mrcnn_class_bn1        (TimeDistributed)\n",
            "mrcnn_mask_conv3       (TimeDistributed)\n",
            "mrcnn_mask_bn3         (TimeDistributed)\n",
            "mrcnn_class_conv2      (TimeDistributed)\n",
            "mrcnn_class_bn2        (TimeDistributed)\n",
            "mrcnn_mask_conv4       (TimeDistributed)\n",
            "mrcnn_mask_bn4         (TimeDistributed)\n",
            "mrcnn_bbox_fc          (TimeDistributed)\n",
            "mrcnn_mask_deconv      (TimeDistributed)\n",
            "mrcnn_class_logits     (TimeDistributed)\n",
            "mrcnn_mask             (TimeDistributed)\n",
            "Epoch 1/20\n",
            "1000/1000 [==============================] - 121s 115ms/step - batch: 499.5000 - size: 1.0000 - loss: 5.5784 - rpn_class_loss: 0.1609 - rpn_bbox_loss: 1.0478 - mrcnn_class_loss: 0.9538 - mrcnn_bbox_loss: 0.4048 - mrcnn_mask_loss: 0.2219 - val_loss: 4.9617 - val_rpn_class_loss: 0.0718 - val_rpn_bbox_loss: 0.7931 - val_mrcnn_class_loss: 0.9912 - val_mrcnn_bbox_loss: 0.4113 - val_mrcnn_mask_loss: 0.2135\n",
            "Epoch 2/20\n",
            "1000/1000 [==============================] - 111s 111ms/step - batch: 499.5000 - size: 1.0000 - loss: 5.3000 - rpn_class_loss: 0.1678 - rpn_bbox_loss: 1.0467 - mrcnn_class_loss: 0.8603 - mrcnn_bbox_loss: 0.3673 - mrcnn_mask_loss: 0.2079 - val_loss: 5.7879 - val_rpn_class_loss: 0.0632 - val_rpn_bbox_loss: 1.0539 - val_mrcnn_class_loss: 0.7529 - val_mrcnn_bbox_loss: 0.6960 - val_mrcnn_mask_loss: 0.3279\n",
            "Epoch 3/20\n",
            "1000/1000 [==============================] - 109s 109ms/step - batch: 499.5000 - size: 1.0000 - loss: 4.9126 - rpn_class_loss: 0.1557 - rpn_bbox_loss: 0.9759 - mrcnn_class_loss: 0.7665 - mrcnn_bbox_loss: 0.3592 - mrcnn_mask_loss: 0.1990 - val_loss: 4.8553 - val_rpn_class_loss: 0.1618 - val_rpn_bbox_loss: 1.0291 - val_mrcnn_class_loss: 0.6606 - val_mrcnn_bbox_loss: 0.3903 - val_mrcnn_mask_loss: 0.1859\n",
            "Epoch 4/20\n",
            "1000/1000 [==============================] - 111s 111ms/step - batch: 499.5000 - size: 1.0000 - loss: 4.6079 - rpn_class_loss: 0.1660 - rpn_bbox_loss: 0.9649 - mrcnn_class_loss: 0.6399 - mrcnn_bbox_loss: 0.3340 - mrcnn_mask_loss: 0.1992 - val_loss: 5.4859 - val_rpn_class_loss: 0.1761 - val_rpn_bbox_loss: 1.2051 - val_mrcnn_class_loss: 0.7566 - val_mrcnn_bbox_loss: 0.3943 - val_mrcnn_mask_loss: 0.2109\n",
            "Epoch 5/20\n",
            "1000/1000 [==============================] - 110s 110ms/step - batch: 499.5000 - size: 1.0000 - loss: 4.1437 - rpn_class_loss: 0.1452 - rpn_bbox_loss: 0.8920 - mrcnn_class_loss: 0.5332 - mrcnn_bbox_loss: 0.3045 - mrcnn_mask_loss: 0.1970 - val_loss: 5.9395 - val_rpn_class_loss: 0.2307 - val_rpn_bbox_loss: 1.6551 - val_mrcnn_class_loss: 0.6696 - val_mrcnn_bbox_loss: 0.2205 - val_mrcnn_mask_loss: 0.1939\n",
            "Epoch 6/20\n",
            "1000/1000 [==============================] - 111s 111ms/step - batch: 499.5000 - size: 1.0000 - loss: 3.8823 - rpn_class_loss: 0.1420 - rpn_bbox_loss: 0.8862 - mrcnn_class_loss: 0.4437 - mrcnn_bbox_loss: 0.2854 - mrcnn_mask_loss: 0.1839 - val_loss: 4.5496 - val_rpn_class_loss: 0.1312 - val_rpn_bbox_loss: 0.7680 - val_mrcnn_class_loss: 0.6929 - val_mrcnn_bbox_loss: 0.4477 - val_mrcnn_mask_loss: 0.2349\n",
            "Epoch 7/20\n",
            "1000/1000 [==============================] - 110s 110ms/step - batch: 499.5000 - size: 1.0000 - loss: 3.5830 - rpn_class_loss: 0.1218 - rpn_bbox_loss: 0.8286 - mrcnn_class_loss: 0.3858 - mrcnn_bbox_loss: 0.2695 - mrcnn_mask_loss: 0.1857 - val_loss: 2.8888 - val_rpn_class_loss: 0.0918 - val_rpn_bbox_loss: 0.6170 - val_mrcnn_class_loss: 0.3000 - val_mrcnn_bbox_loss: 0.2527 - val_mrcnn_mask_loss: 0.1829\n",
            "Epoch 8/20\n",
            "1000/1000 [==============================] - 112s 112ms/step - batch: 499.5000 - size: 1.0000 - loss: 3.5284 - rpn_class_loss: 0.1238 - rpn_bbox_loss: 0.8405 - mrcnn_class_loss: 0.3516 - mrcnn_bbox_loss: 0.2694 - mrcnn_mask_loss: 0.1789 - val_loss: 4.4627 - val_rpn_class_loss: 0.3409 - val_rpn_bbox_loss: 0.9510 - val_mrcnn_class_loss: 0.4003 - val_mrcnn_bbox_loss: 0.3253 - val_mrcnn_mask_loss: 0.2138\n",
            "Epoch 9/20\n",
            "1000/1000 [==============================] - 111s 111ms/step - batch: 499.5000 - size: 1.0000 - loss: 3.4008 - rpn_class_loss: 0.1217 - rpn_bbox_loss: 0.8258 - mrcnn_class_loss: 0.3203 - mrcnn_bbox_loss: 0.2553 - mrcnn_mask_loss: 0.1773 - val_loss: 2.9471 - val_rpn_class_loss: 0.0948 - val_rpn_bbox_loss: 0.7115 - val_mrcnn_class_loss: 0.2658 - val_mrcnn_bbox_loss: 0.2412 - val_mrcnn_mask_loss: 0.1602\n",
            "Epoch 10/20\n",
            "1000/1000 [==============================] - 110s 110ms/step - batch: 499.5000 - size: 1.0000 - loss: 3.2649 - rpn_class_loss: 0.1060 - rpn_bbox_loss: 0.8118 - mrcnn_class_loss: 0.2917 - mrcnn_bbox_loss: 0.2486 - mrcnn_mask_loss: 0.1744 - val_loss: 3.9488 - val_rpn_class_loss: 0.0995 - val_rpn_bbox_loss: 1.2187 - val_mrcnn_class_loss: 0.2748 - val_mrcnn_bbox_loss: 0.2304 - val_mrcnn_mask_loss: 0.1510\n",
            "Epoch 11/20\n",
            "1000/1000 [==============================] - 112s 112ms/step - batch: 499.5000 - size: 1.0000 - loss: 3.1867 - rpn_class_loss: 0.1060 - rpn_bbox_loss: 0.7976 - mrcnn_class_loss: 0.2717 - mrcnn_bbox_loss: 0.2425 - mrcnn_mask_loss: 0.1755 - val_loss: 3.6285 - val_rpn_class_loss: 0.2635 - val_rpn_bbox_loss: 0.7771 - val_mrcnn_class_loss: 0.3209 - val_mrcnn_bbox_loss: 0.2440 - val_mrcnn_mask_loss: 0.2088\n",
            "Epoch 12/20\n",
            "1000/1000 [==============================] - 109s 109ms/step - batch: 499.5000 - size: 1.0000 - loss: 2.9920 - rpn_class_loss: 0.0986 - rpn_bbox_loss: 0.7564 - mrcnn_class_loss: 0.2479 - mrcnn_bbox_loss: 0.2210 - mrcnn_mask_loss: 0.1721 - val_loss: 3.0088 - val_rpn_class_loss: 0.0813 - val_rpn_bbox_loss: 0.7168 - val_mrcnn_class_loss: 0.2933 - val_mrcnn_bbox_loss: 0.2236 - val_mrcnn_mask_loss: 0.1895\n",
            "Epoch 13/20\n",
            "1000/1000 [==============================] - 111s 111ms/step - batch: 499.5000 - size: 1.0000 - loss: 2.9421 - rpn_class_loss: 0.0962 - rpn_bbox_loss: 0.7238 - mrcnn_class_loss: 0.2485 - mrcnn_bbox_loss: 0.2254 - mrcnn_mask_loss: 0.1772 - val_loss: 2.2918 - val_rpn_class_loss: 0.0672 - val_rpn_bbox_loss: 0.5311 - val_mrcnn_class_loss: 0.1960 - val_mrcnn_bbox_loss: 0.2012 - val_mrcnn_mask_loss: 0.1505\n",
            "Epoch 14/20\n",
            "1000/1000 [==============================] - 109s 109ms/step - batch: 499.5000 - size: 1.0000 - loss: 2.8868 - rpn_class_loss: 0.0946 - rpn_bbox_loss: 0.7396 - mrcnn_class_loss: 0.2213 - mrcnn_bbox_loss: 0.2183 - mrcnn_mask_loss: 0.1695 - val_loss: 3.1423 - val_rpn_class_loss: 0.0607 - val_rpn_bbox_loss: 0.8394 - val_mrcnn_class_loss: 0.3055 - val_mrcnn_bbox_loss: 0.2151 - val_mrcnn_mask_loss: 0.1504\n",
            "Epoch 15/20\n",
            "1000/1000 [==============================] - 110s 110ms/step - batch: 499.5000 - size: 1.0000 - loss: 2.7938 - rpn_class_loss: 0.0848 - rpn_bbox_loss: 0.7299 - mrcnn_class_loss: 0.2181 - mrcnn_bbox_loss: 0.2022 - mrcnn_mask_loss: 0.1619 - val_loss: 3.2711 - val_rpn_class_loss: 0.0516 - val_rpn_bbox_loss: 1.0163 - val_mrcnn_class_loss: 0.2652 - val_mrcnn_bbox_loss: 0.1553 - val_mrcnn_mask_loss: 0.1471\n",
            "Epoch 16/20\n",
            "1000/1000 [==============================] - 111s 111ms/step - batch: 499.5000 - size: 1.0000 - loss: 2.7997 - rpn_class_loss: 0.0987 - rpn_bbox_loss: 0.7225 - mrcnn_class_loss: 0.2131 - mrcnn_bbox_loss: 0.1976 - mrcnn_mask_loss: 0.1679 - val_loss: 3.1133 - val_rpn_class_loss: 0.0668 - val_rpn_bbox_loss: 0.7773 - val_mrcnn_class_loss: 0.3494 - val_mrcnn_bbox_loss: 0.1629 - val_mrcnn_mask_loss: 0.2003\n",
            "Epoch 17/20\n",
            "1000/1000 [==============================] - 109s 109ms/step - batch: 499.5000 - size: 1.0000 - loss: 2.5926 - rpn_class_loss: 0.0769 - rpn_bbox_loss: 0.6539 - mrcnn_class_loss: 0.2103 - mrcnn_bbox_loss: 0.1931 - mrcnn_mask_loss: 0.1621 - val_loss: 3.1479 - val_rpn_class_loss: 0.0783 - val_rpn_bbox_loss: 0.8825 - val_mrcnn_class_loss: 0.2748 - val_mrcnn_bbox_loss: 0.2142 - val_mrcnn_mask_loss: 0.1241\n",
            "Epoch 18/20\n",
            "1000/1000 [==============================] - 111s 111ms/step - batch: 499.5000 - size: 1.0000 - loss: 2.5506 - rpn_class_loss: 0.0821 - rpn_bbox_loss: 0.6658 - mrcnn_class_loss: 0.1842 - mrcnn_bbox_loss: 0.1822 - mrcnn_mask_loss: 0.1610 - val_loss: 3.2603 - val_rpn_class_loss: 0.0507 - val_rpn_bbox_loss: 0.7799 - val_mrcnn_class_loss: 0.3955 - val_mrcnn_bbox_loss: 0.2102 - val_mrcnn_mask_loss: 0.1938\n",
            "Epoch 19/20\n",
            "1000/1000 [==============================] - 109s 109ms/step - batch: 499.5000 - size: 1.0000 - loss: 2.4257 - rpn_class_loss: 0.0777 - rpn_bbox_loss: 0.6108 - mrcnn_class_loss: 0.1913 - mrcnn_bbox_loss: 0.1760 - mrcnn_mask_loss: 0.1571 - val_loss: 3.1460 - val_rpn_class_loss: 0.1070 - val_rpn_bbox_loss: 0.8860 - val_mrcnn_class_loss: 0.2919 - val_mrcnn_bbox_loss: 0.1254 - val_mrcnn_mask_loss: 0.1626\n",
            "Epoch 20/20\n",
            "1000/1000 [==============================] - 112s 112ms/step - batch: 499.5000 - size: 1.0000 - loss: 2.4822 - rpn_class_loss: 0.0824 - rpn_bbox_loss: 0.6498 - mrcnn_class_loss: 0.1790 - mrcnn_bbox_loss: 0.1730 - mrcnn_mask_loss: 0.1570 - val_loss: 3.1503 - val_rpn_class_loss: 0.0511 - val_rpn_bbox_loss: 0.7904 - val_mrcnn_class_loss: 0.2640 - val_mrcnn_bbox_loss: 0.2974 - val_mrcnn_mask_loss: 0.1723\n",
            "Training took 37.47 minutes\n"
          ]
        }
      ],
      "source": [
        "# Train the head branches\n",
        "# Passing layers=\"heads\" freezes all layers except the head\n",
        "# layers. You can also pass a regular expression to select\n",
        "# which layers to train by name pattern.\n",
        "start_train = time.time()\n",
        "model.train(dataset_train, dataset_val, \n",
        "            learning_rate=config.LEARNING_RATE, \n",
        "            epochs=20, \n",
        "            layers='heads')\n",
        "end_train = time.time()\n",
        "minutes = round((end_train - start_train) / 60, 2)\n",
        "print(f'Training took {minutes} minutes')"
      ]
    },
    {
      "cell_type": "code",
      "execution_count": null,
      "metadata": {
        "colab": {
          "base_uri": "https://localhost:8080/"
        },
        "id": "b6T1KK8l_Hdo",
        "outputId": "d82c56a2-5f6a-4430-dcfa-c979ba99eeb3",
        "scrolled": true
      },
      "outputs": [
        {
          "name": "stdout",
          "output_type": "stream",
          "text": [
            "\n",
            "Starting at epoch 20. LR=0.0001\n",
            "\n",
            "Checkpoint Path: /content/Mask_RCNN/logs/letters20221213T2242/mask_rcnn_letters_{epoch:04d}.h5\n",
            "Selecting layers to train\n",
            "conv1                  (Conv2D)\n",
            "bn_conv1               (BatchNorm)\n",
            "res2a_branch2a         (Conv2D)\n",
            "bn2a_branch2a          (BatchNorm)\n",
            "res2a_branch2b         (Conv2D)\n",
            "bn2a_branch2b          (BatchNorm)\n",
            "res2a_branch2c         (Conv2D)\n",
            "res2a_branch1          (Conv2D)\n",
            "bn2a_branch2c          (BatchNorm)\n",
            "bn2a_branch1           (BatchNorm)\n",
            "res2b_branch2a         (Conv2D)\n",
            "bn2b_branch2a          (BatchNorm)\n",
            "res2b_branch2b         (Conv2D)\n",
            "bn2b_branch2b          (BatchNorm)\n",
            "res2b_branch2c         (Conv2D)\n",
            "bn2b_branch2c          (BatchNorm)\n",
            "res2c_branch2a         (Conv2D)\n",
            "bn2c_branch2a          (BatchNorm)\n",
            "res2c_branch2b         (Conv2D)\n",
            "bn2c_branch2b          (BatchNorm)\n",
            "res2c_branch2c         (Conv2D)\n",
            "bn2c_branch2c          (BatchNorm)\n",
            "res3a_branch2a         (Conv2D)\n",
            "bn3a_branch2a          (BatchNorm)\n",
            "res3a_branch2b         (Conv2D)\n",
            "bn3a_branch2b          (BatchNorm)\n",
            "res3a_branch2c         (Conv2D)\n",
            "res3a_branch1          (Conv2D)\n",
            "bn3a_branch2c          (BatchNorm)\n",
            "bn3a_branch1           (BatchNorm)\n",
            "res3b_branch2a         (Conv2D)\n",
            "bn3b_branch2a          (BatchNorm)\n",
            "res3b_branch2b         (Conv2D)\n",
            "bn3b_branch2b          (BatchNorm)\n",
            "res3b_branch2c         (Conv2D)\n",
            "bn3b_branch2c          (BatchNorm)\n",
            "res3c_branch2a         (Conv2D)\n",
            "bn3c_branch2a          (BatchNorm)\n",
            "res3c_branch2b         (Conv2D)\n",
            "bn3c_branch2b          (BatchNorm)\n",
            "res3c_branch2c         (Conv2D)\n",
            "bn3c_branch2c          (BatchNorm)\n",
            "res3d_branch2a         (Conv2D)\n",
            "bn3d_branch2a          (BatchNorm)\n",
            "res3d_branch2b         (Conv2D)\n",
            "bn3d_branch2b          (BatchNorm)\n",
            "res3d_branch2c         (Conv2D)\n",
            "bn3d_branch2c          (BatchNorm)\n",
            "res4a_branch2a         (Conv2D)\n",
            "bn4a_branch2a          (BatchNorm)\n",
            "res4a_branch2b         (Conv2D)\n",
            "bn4a_branch2b          (BatchNorm)\n",
            "res4a_branch2c         (Conv2D)\n",
            "res4a_branch1          (Conv2D)\n",
            "bn4a_branch2c          (BatchNorm)\n",
            "bn4a_branch1           (BatchNorm)\n",
            "res4b_branch2a         (Conv2D)\n",
            "bn4b_branch2a          (BatchNorm)\n",
            "res4b_branch2b         (Conv2D)\n",
            "bn4b_branch2b          (BatchNorm)\n",
            "res4b_branch2c         (Conv2D)\n",
            "bn4b_branch2c          (BatchNorm)\n",
            "res4c_branch2a         (Conv2D)\n",
            "bn4c_branch2a          (BatchNorm)\n",
            "res4c_branch2b         (Conv2D)\n",
            "bn4c_branch2b          (BatchNorm)\n",
            "res4c_branch2c         (Conv2D)\n",
            "bn4c_branch2c          (BatchNorm)\n",
            "res4d_branch2a         (Conv2D)\n",
            "bn4d_branch2a          (BatchNorm)\n",
            "res4d_branch2b         (Conv2D)\n",
            "bn4d_branch2b          (BatchNorm)\n",
            "res4d_branch2c         (Conv2D)\n",
            "bn4d_branch2c          (BatchNorm)\n",
            "res4e_branch2a         (Conv2D)\n",
            "bn4e_branch2a          (BatchNorm)\n",
            "res4e_branch2b         (Conv2D)\n",
            "bn4e_branch2b          (BatchNorm)\n",
            "res4e_branch2c         (Conv2D)\n",
            "bn4e_branch2c          (BatchNorm)\n",
            "res4f_branch2a         (Conv2D)\n",
            "bn4f_branch2a          (BatchNorm)\n",
            "res4f_branch2b         (Conv2D)\n",
            "bn4f_branch2b          (BatchNorm)\n",
            "res4f_branch2c         (Conv2D)\n",
            "bn4f_branch2c          (BatchNorm)\n",
            "res5a_branch2a         (Conv2D)\n",
            "bn5a_branch2a          (BatchNorm)\n",
            "res5a_branch2b         (Conv2D)\n",
            "bn5a_branch2b          (BatchNorm)\n",
            "res5a_branch2c         (Conv2D)\n",
            "res5a_branch1          (Conv2D)\n",
            "bn5a_branch2c          (BatchNorm)\n",
            "bn5a_branch1           (BatchNorm)\n",
            "res5b_branch2a         (Conv2D)\n",
            "bn5b_branch2a          (BatchNorm)\n",
            "res5b_branch2b         (Conv2D)\n",
            "bn5b_branch2b          (BatchNorm)\n",
            "res5b_branch2c         (Conv2D)\n",
            "bn5b_branch2c          (BatchNorm)\n",
            "res5c_branch2a         (Conv2D)\n",
            "bn5c_branch2a          (BatchNorm)\n",
            "res5c_branch2b         (Conv2D)\n",
            "bn5c_branch2b          (BatchNorm)\n",
            "res5c_branch2c         (Conv2D)\n",
            "bn5c_branch2c          (BatchNorm)\n",
            "fpn_c5p5               (Conv2D)\n",
            "fpn_c4p4               (Conv2D)\n",
            "fpn_c3p3               (Conv2D)\n",
            "fpn_c2p2               (Conv2D)\n",
            "fpn_p5                 (Conv2D)\n",
            "fpn_p2                 (Conv2D)\n",
            "fpn_p3                 (Conv2D)\n",
            "fpn_p4                 (Conv2D)\n",
            "rpn_model              (Functional)\n",
            "anchors                (ConstLayer)\n",
            "mrcnn_mask_conv1       (TimeDistributed)\n",
            "mrcnn_mask_bn1         (TimeDistributed)\n",
            "mrcnn_mask_conv2       (TimeDistributed)\n",
            "mrcnn_mask_bn2         (TimeDistributed)\n",
            "mrcnn_class_conv1      (TimeDistributed)\n",
            "mrcnn_class_bn1        (TimeDistributed)\n",
            "mrcnn_mask_conv3       (TimeDistributed)\n",
            "mrcnn_mask_bn3         (TimeDistributed)\n",
            "mrcnn_class_conv2      (TimeDistributed)\n",
            "mrcnn_class_bn2        (TimeDistributed)\n",
            "mrcnn_mask_conv4       (TimeDistributed)\n",
            "mrcnn_mask_bn4         (TimeDistributed)\n",
            "mrcnn_bbox_fc          (TimeDistributed)\n",
            "mrcnn_mask_deconv      (TimeDistributed)\n",
            "mrcnn_class_logits     (TimeDistributed)\n",
            "mrcnn_mask             (TimeDistributed)\n",
            "Training took 1.58 minutes\n"
          ]
        }
      ],
      "source": [
        "# Fine tune all layers\n",
        "# Passing layers=\"all\" trains all layers. You can also \n",
        "# pass a regular expression to select which layers to\n",
        "# train by name pattern.\n",
        "start_train = time.time()\n",
        "model.train(dataset_train, dataset_val, \n",
        "            learning_rate=config.LEARNING_RATE / 10,\n",
        "            epochs=10, \n",
        "            layers=\"all\")\n",
        "end_train = time.time()\n",
        "minutes = round((end_train - start_train) / 60, 2)\n",
        "print(f'Training took {minutes} minutes')"
      ]
    },
    {
      "cell_type": "code",
      "execution_count": null,
      "metadata": {
        "id": "dw_KQRySMN9v"
      },
      "outputs": [],
      "source": [
        "# loads weights from last time, DO NOT RUN THIS IF TRAINING FROM SCRATCH\n",
        "!zip -r '/content/weights.zip' '/content/Mask_RCNN/logs/letters20221211T1647/mask_rcnn_letters_0021.h5'\n"
      ]
    },
    {
      "cell_type": "code",
      "execution_count": null,
      "metadata": {
        "colab": {
          "base_uri": "https://localhost:8080/"
        },
        "id": "G2Al1dCX4rtY",
        "outputId": "c5701908-c896-4369-ce7f-24d92caf84c4"
      },
      "outputs": [
        {
          "name": "stdout",
          "output_type": "stream",
          "text": [
            "The tensorboard extension is already loaded. To reload it, use:\n",
            "  %reload_ext tensorboard\n"
          ]
        }
      ],
      "source": [
        "%load_ext tensorboard\n",
        "import tensorflow as tf\n",
        "tensorboard_callback =tf.keras.callbacks.TensorBoard('/content/Mask_RCNN/logs', histogram_freq=1)"
      ]
    },
    {
      "cell_type": "code",
      "execution_count": null,
      "metadata": {
        "colab": {
          "base_uri": "https://localhost:8080/",
          "height": 1000
        },
        "id": "BJPo8qUf5u-J",
        "outputId": "65b08631-6783-44a4-b534-ba5436ec0e4d"
      },
      "outputs": [
        {
          "name": "stdout",
          "output_type": "stream",
          "text": [
            "Looking in indexes: https://pypi.org/simple, https://us-python.pkg.dev/colab-wheels/public/simple/\n",
            "Collecting tensorflow==2.9.0\n",
            "  Using cached tensorflow-2.9.0-cp38-cp38-manylinux_2_17_x86_64.manylinux2014_x86_64.whl (511.7 MB)\n",
            "Requirement already satisfied: protobuf>=3.9.2 in /usr/local/lib/python3.8/dist-packages (from tensorflow==2.9.0) (3.19.6)\n",
            "Requirement already satisfied: google-pasta>=0.1.1 in /usr/local/lib/python3.8/dist-packages (from tensorflow==2.9.0) (0.2.0)\n",
            "Requirement already satisfied: libclang>=13.0.0 in /usr/local/lib/python3.8/dist-packages (from tensorflow==2.9.0) (14.0.6)\n",
            "Requirement already satisfied: tensorboard<2.10,>=2.9 in /usr/local/lib/python3.8/dist-packages (from tensorflow==2.9.0) (2.9.1)\n",
            "Requirement already satisfied: termcolor>=1.1.0 in /usr/local/lib/python3.8/dist-packages (from tensorflow==2.9.0) (1.1.0)\n",
            "Requirement already satisfied: h5py>=2.9.0 in /usr/local/lib/python3.8/dist-packages (from tensorflow==2.9.0) (2.10.0)\n",
            "Requirement already satisfied: opt-einsum>=2.3.2 in /usr/local/lib/python3.8/dist-packages (from tensorflow==2.9.0) (3.3.0)\n",
            "Collecting numpy>=1.20\n",
            "  Downloading numpy-1.23.5-cp38-cp38-manylinux_2_17_x86_64.manylinux2014_x86_64.whl (17.1 MB)\n",
            "\u001b[K     |████████████████████████████████| 17.1 MB 5.8 MB/s \n",
            "\u001b[?25hRequirement already satisfied: wrapt>=1.11.0 in /usr/local/lib/python3.8/dist-packages (from tensorflow==2.9.0) (1.12.1)\n",
            "Requirement already satisfied: astunparse>=1.6.0 in /usr/local/lib/python3.8/dist-packages (from tensorflow==2.9.0) (1.6.3)\n",
            "Requirement already satisfied: typing-extensions>=3.6.6 in /usr/local/lib/python3.8/dist-packages (from tensorflow==2.9.0) (3.7.4.3)\n",
            "Requirement already satisfied: keras<2.10.0,>=2.9.0rc0 in /usr/local/lib/python3.8/dist-packages (from tensorflow==2.9.0) (2.9.0)\n",
            "Requirement already satisfied: flatbuffers<2,>=1.12 in /usr/local/lib/python3.8/dist-packages (from tensorflow==2.9.0) (1.12)\n",
            "Requirement already satisfied: tensorflow-io-gcs-filesystem>=0.23.1 in /usr/local/lib/python3.8/dist-packages (from tensorflow==2.9.0) (0.28.0)\n",
            "Collecting tensorflow-estimator<2.10.0,>=2.9.0rc0\n",
            "  Downloading tensorflow_estimator-2.9.0-py2.py3-none-any.whl (438 kB)\n",
            "\u001b[K     |████████████████████████████████| 438 kB 79.7 MB/s \n",
            "\u001b[?25hRequirement already satisfied: setuptools in /usr/local/lib/python3.8/dist-packages (from tensorflow==2.9.0) (57.4.0)\n",
            "Collecting absl-py>=1.0.0\n",
            "  Downloading absl_py-1.3.0-py3-none-any.whl (124 kB)\n",
            "\u001b[K     |████████████████████████████████| 124 kB 80.7 MB/s \n",
            "\u001b[?25hRequirement already satisfied: keras-preprocessing>=1.1.1 in /usr/local/lib/python3.8/dist-packages (from tensorflow==2.9.0) (1.1.2)\n",
            "Requirement already satisfied: grpcio<2.0,>=1.24.3 in /usr/local/lib/python3.8/dist-packages (from tensorflow==2.9.0) (1.32.0)\n",
            "Requirement already satisfied: gast<=0.4.0,>=0.2.1 in /usr/local/lib/python3.8/dist-packages (from tensorflow==2.9.0) (0.3.3)\n",
            "Requirement already satisfied: six>=1.12.0 in /usr/local/lib/python3.8/dist-packages (from tensorflow==2.9.0) (1.15.0)\n",
            "Requirement already satisfied: packaging in /usr/local/lib/python3.8/dist-packages (from tensorflow==2.9.0) (21.3)\n",
            "Requirement already satisfied: wheel<1.0,>=0.23.0 in /usr/local/lib/python3.8/dist-packages (from astunparse>=1.6.0->tensorflow==2.9.0) (0.38.4)\n",
            "Requirement already satisfied: tensorboard-plugin-wit>=1.6.0 in /usr/local/lib/python3.8/dist-packages (from tensorboard<2.10,>=2.9->tensorflow==2.9.0) (1.8.1)\n",
            "Requirement already satisfied: google-auth-oauthlib<0.5,>=0.4.1 in /usr/local/lib/python3.8/dist-packages (from tensorboard<2.10,>=2.9->tensorflow==2.9.0) (0.4.6)\n",
            "Requirement already satisfied: google-auth<3,>=1.6.3 in /usr/local/lib/python3.8/dist-packages (from tensorboard<2.10,>=2.9->tensorflow==2.9.0) (2.15.0)\n",
            "Requirement already satisfied: requests<3,>=2.21.0 in /usr/local/lib/python3.8/dist-packages (from tensorboard<2.10,>=2.9->tensorflow==2.9.0) (2.23.0)\n",
            "Requirement already satisfied: markdown>=2.6.8 in /usr/local/lib/python3.8/dist-packages (from tensorboard<2.10,>=2.9->tensorflow==2.9.0) (3.4.1)\n",
            "Requirement already satisfied: tensorboard-data-server<0.7.0,>=0.6.0 in /usr/local/lib/python3.8/dist-packages (from tensorboard<2.10,>=2.9->tensorflow==2.9.0) (0.6.1)\n",
            "Requirement already satisfied: werkzeug>=1.0.1 in /usr/local/lib/python3.8/dist-packages (from tensorboard<2.10,>=2.9->tensorflow==2.9.0) (1.0.1)\n",
            "Requirement already satisfied: cachetools<6.0,>=2.0.0 in /usr/local/lib/python3.8/dist-packages (from google-auth<3,>=1.6.3->tensorboard<2.10,>=2.9->tensorflow==2.9.0) (5.2.0)\n",
            "Requirement already satisfied: pyasn1-modules>=0.2.1 in /usr/local/lib/python3.8/dist-packages (from google-auth<3,>=1.6.3->tensorboard<2.10,>=2.9->tensorflow==2.9.0) (0.2.8)\n",
            "Requirement already satisfied: rsa<5,>=3.1.4 in /usr/local/lib/python3.8/dist-packages (from google-auth<3,>=1.6.3->tensorboard<2.10,>=2.9->tensorflow==2.9.0) (4.9)\n",
            "Requirement already satisfied: requests-oauthlib>=0.7.0 in /usr/local/lib/python3.8/dist-packages (from google-auth-oauthlib<0.5,>=0.4.1->tensorboard<2.10,>=2.9->tensorflow==2.9.0) (1.3.1)\n",
            "Requirement already satisfied: importlib-metadata>=4.4 in /usr/local/lib/python3.8/dist-packages (from markdown>=2.6.8->tensorboard<2.10,>=2.9->tensorflow==2.9.0) (4.13.0)\n",
            "Requirement already satisfied: zipp>=0.5 in /usr/local/lib/python3.8/dist-packages (from importlib-metadata>=4.4->markdown>=2.6.8->tensorboard<2.10,>=2.9->tensorflow==2.9.0) (3.11.0)\n",
            "Requirement already satisfied: pyasn1<0.5.0,>=0.4.6 in /usr/local/lib/python3.8/dist-packages (from pyasn1-modules>=0.2.1->google-auth<3,>=1.6.3->tensorboard<2.10,>=2.9->tensorflow==2.9.0) (0.4.8)\n",
            "Requirement already satisfied: chardet<4,>=3.0.2 in /usr/local/lib/python3.8/dist-packages (from requests<3,>=2.21.0->tensorboard<2.10,>=2.9->tensorflow==2.9.0) (3.0.4)\n",
            "Requirement already satisfied: urllib3!=1.25.0,!=1.25.1,<1.26,>=1.21.1 in /usr/local/lib/python3.8/dist-packages (from requests<3,>=2.21.0->tensorboard<2.10,>=2.9->tensorflow==2.9.0) (1.24.3)\n",
            "Requirement already satisfied: certifi>=2017.4.17 in /usr/local/lib/python3.8/dist-packages (from requests<3,>=2.21.0->tensorboard<2.10,>=2.9->tensorflow==2.9.0) (2022.9.24)\n",
            "Requirement already satisfied: idna<3,>=2.5 in /usr/local/lib/python3.8/dist-packages (from requests<3,>=2.21.0->tensorboard<2.10,>=2.9->tensorflow==2.9.0) (2.10)\n",
            "Requirement already satisfied: oauthlib>=3.0.0 in /usr/local/lib/python3.8/dist-packages (from requests-oauthlib>=0.7.0->google-auth-oauthlib<0.5,>=0.4.1->tensorboard<2.10,>=2.9->tensorflow==2.9.0) (3.2.2)\n",
            "Requirement already satisfied: pyparsing!=3.0.5,>=2.0.2 in /usr/local/lib/python3.8/dist-packages (from packaging->tensorflow==2.9.0) (3.0.9)\n",
            "Installing collected packages: numpy, absl-py, tensorflow-estimator, tensorflow\n",
            "  Attempting uninstall: numpy\n",
            "    Found existing installation: numpy 1.19.5\n",
            "    Uninstalling numpy-1.19.5:\n",
            "      Successfully uninstalled numpy-1.19.5\n",
            "  Attempting uninstall: absl-py\n",
            "    Found existing installation: absl-py 0.15.0\n",
            "    Uninstalling absl-py-0.15.0:\n",
            "      Successfully uninstalled absl-py-0.15.0\n",
            "  Attempting uninstall: tensorflow-estimator\n",
            "    Found existing installation: tensorflow-estimator 2.4.0\n",
            "    Uninstalling tensorflow-estimator-2.4.0:\n",
            "      Successfully uninstalled tensorflow-estimator-2.4.0\n",
            "\u001b[31mERROR: pip's dependency resolver does not currently take into account all the packages that are installed. This behaviour is the source of the following dependency conflicts.\n",
            "scipy 1.7.3 requires numpy<1.23.0,>=1.16.5, but you have numpy 1.23.5 which is incompatible.\n",
            "google-cloud-bigquery 3.3.6 requires grpcio<2.0dev,>=1.47.0, but you have grpcio 1.32.0 which is incompatible.\u001b[0m\n",
            "Successfully installed absl-py-1.3.0 numpy-1.23.5 tensorflow-2.9.0 tensorflow-estimator-2.9.0\n"
          ]
        },
        {
          "data": {
            "application/vnd.colab-display-data+json": {
              "pip_warning": {
                "packages": [
                  "absl",
                  "numpy",
                  "tensorflow"
                ]
              }
            }
          },
          "metadata": {},
          "output_type": "display_data"
        }
      ],
      "source": [
        "# !pip uninstall tensorflow\n",
        "!pip install tensorflow==2.9.0"
      ]
    },
    {
      "cell_type": "code",
      "execution_count": null,
      "metadata": {
        "colab": {
          "base_uri": "https://localhost:8080/",
          "height": 1000
        },
        "id": "Lg6sR2T6qP_o",
        "outputId": "5ad8514c-d415-4612-a223-177e8a917acd"
      },
      "outputs": [
        {
          "name": "stdout",
          "output_type": "stream",
          "text": [
            "2022-12-13 23:50:58.593537: I tensorflow/stream_executor/platform/default/dso_loader.cc:49] Successfully opened dynamic library libcudart.so.11.0\n",
            "\n",
            "NOTE: Using experimental fast data loading logic. To disable, pass\n",
            "    \"--load_fast=false\" and report issues on GitHub. More details:\n",
            "    https://github.com/tensorflow/tensorboard/issues/4784\n",
            "\n",
            "Serving TensorBoard on localhost; to expose to the network, use a proxy or pass --bind_all\n",
            "TensorBoard 2.9.1 at http://localhost:6006/ (Press CTRL+C to quit)\n",
            "^C\n",
            "No known TensorBoard instances running.\n"
          ]
        },
        {
          "data": {
            "application/javascript": "\n        (async () => {\n            const url = new URL(await google.colab.kernel.proxyPort(6006, {'cache': true}));\n            url.searchParams.set('tensorboardColab', 'true');\n            const iframe = document.createElement('iframe');\n            iframe.src = url;\n            iframe.setAttribute('width', '100%');\n            iframe.setAttribute('height', '1000');\n            iframe.setAttribute('frameborder', 0);\n            document.body.appendChild(iframe);\n        })();\n    ",
            "text/plain": [
              "<IPython.core.display.Javascript object>"
            ]
          },
          "metadata": {},
          "output_type": "display_data"
        }
      ],
      "source": [
        "# start tensorboard for visualization\n",
        "\n",
        "!tensorboard --logdir '/content/Mask_RCNN/logs'\n",
        "from tensorboard import notebook\n",
        "notebook.list()\n",
        "notebook.display(port=6006, height=1000)"
      ]
    },
    {
      "cell_type": "code",
      "execution_count": null,
      "metadata": {
        "colab": {
          "base_uri": "https://localhost:8080/",
          "height": 1000
        },
        "id": "4g18vGwY5VXV",
        "outputId": "9bc1e61e-e689-4bb7-b336-d796902c5208"
      },
      "outputs": [
        {
          "name": "stdout",
          "output_type": "stream",
          "text": [
            "No known TensorBoard instances running.\n"
          ]
        },
        {
          "data": {
            "application/javascript": "\n        (async () => {\n            const url = new URL(await google.colab.kernel.proxyPort(6006, {'cache': true}));\n            url.searchParams.set('tensorboardColab', 'true');\n            const iframe = document.createElement('iframe');\n            iframe.src = url;\n            iframe.setAttribute('width', '100%');\n            iframe.setAttribute('height', '1000');\n            iframe.setAttribute('frameborder', 0);\n            document.body.appendChild(iframe);\n        })();\n    ",
            "text/plain": [
              "<IPython.core.display.Javascript object>"
            ]
          },
          "metadata": {},
          "output_type": "display_data"
        }
      ],
      "source": [
        "from tensorboard import notebook\n",
        "notebook.list()\n",
        "notebook.display(port=6006, height=1000)"
      ]
    },
    {
      "cell_type": "code",
      "execution_count": null,
      "metadata": {
        "id": "sMoM_RpKLQhG"
      },
      "outputs": [],
      "source": [
        "from google.colab import files\n",
        "\n",
        "files.download('/content/weights.zip')"
      ]
    },
    {
      "cell_type": "code",
      "execution_count": null,
      "metadata": {
        "id": "zGY5x1UuMynP"
      },
      "outputs": [],
      "source": [
        "# import weights into Google Drive\n",
        "from google.colab import drive\n",
        "drive.mount('/content/drive')\n",
        "import shutil\n",
        "shutil.copy(\"/content/weights.zip\",\"/content/drive/MyDrive/\")\n"
      ]
    },
    {
      "cell_type": "code",
      "execution_count": null,
      "metadata": {
        "colab": {
          "base_uri": "https://localhost:8080/",
          "height": 53
        },
        "id": "cOIc1pMH8Z3q",
        "outputId": "b4ac9910-84d6-4f05-aefe-b6b6980e80bf"
      },
      "outputs": [
        {
          "name": "stdout",
          "output_type": "stream",
          "text": [
            "Mounted at /content/drive\n"
          ]
        },
        {
          "data": {
            "application/vnd.google.colaboratory.intrinsic+json": {
              "type": "string"
            },
            "text/plain": [
              "'/content/drive/MyDrive/logs.zip'"
            ]
          },
          "execution_count": 35,
          "metadata": {},
          "output_type": "execute_result"
        }
      ],
      "source": [
        "# import weights into Google Drive\n",
        "from google.colab import drive\n",
        "drive.mount('/content/drive')\n",
        "import shutil\n",
        "shutil.copy(\"/content/logs.zip\",\"/content/drive/MyDrive/\")"
      ]
    },
    {
      "cell_type": "markdown",
      "metadata": {
        "id": "tVr3LE0vQ6oX"
      },
      "source": [
        "# Testing - go here directly from start if model is trained!\n",
        "Run 1st command at the start, then go here"
      ]
    },
    {
      "cell_type": "code",
      "execution_count": null,
      "metadata": {
        "colab": {
          "base_uri": "https://localhost:8080/",
          "height": 1000
        },
        "id": "z6kUC5hHOEko",
        "outputId": "eeeb38ed-966b-4ae9-e760-1a2a57a56b1f"
      },
      "outputs": [
        {
          "name": "stdout",
          "output_type": "stream",
          "text": [
            "Found existing installation: tensorflow 2.9.0\n",
            "Uninstalling tensorflow-2.9.0:\n",
            "  Would remove:\n",
            "    /usr/local/bin/estimator_ckpt_converter\n",
            "    /usr/local/bin/import_pb_to_tensorboard\n",
            "    /usr/local/bin/saved_model_cli\n",
            "    /usr/local/bin/tensorboard\n",
            "    /usr/local/bin/tf_upgrade_v2\n",
            "    /usr/local/bin/tflite_convert\n",
            "    /usr/local/bin/toco\n",
            "    /usr/local/bin/toco_from_protos\n",
            "    /usr/local/lib/python3.8/dist-packages/tensorflow-2.9.0.dist-info/*\n",
            "    /usr/local/lib/python3.8/dist-packages/tensorflow/*\n",
            "Proceed (y/n)? y\n",
            "  Successfully uninstalled tensorflow-2.9.0\n",
            "Looking in indexes: https://pypi.org/simple, https://us-python.pkg.dev/colab-wheels/public/simple/\n",
            "Collecting tensorflow==2.4.0\n",
            "  Downloading tensorflow-2.4.0-cp38-cp38-manylinux2010_x86_64.whl (394.8 MB)\n",
            "\u001b[K     |████████████████████████████████| 394.8 MB 41 kB/s \n",
            "\u001b[?25hCollecting absl-py~=0.10\n",
            "  Downloading absl_py-0.15.0-py3-none-any.whl (132 kB)\n",
            "\u001b[K     |████████████████████████████████| 132 kB 69.6 MB/s \n",
            "\u001b[?25hRequirement already satisfied: six~=1.15.0 in /usr/local/lib/python3.8/dist-packages (from tensorflow==2.4.0) (1.15.0)\n",
            "Collecting tensorflow-estimator<2.5.0,>=2.4.0rc0\n",
            "  Downloading tensorflow_estimator-2.4.0-py2.py3-none-any.whl (462 kB)\n",
            "\u001b[K     |████████████████████████████████| 462 kB 80.5 MB/s \n",
            "\u001b[?25hCollecting wrapt~=1.12.1\n",
            "  Downloading wrapt-1.12.1.tar.gz (27 kB)\n",
            "Collecting gast==0.3.3\n",
            "  Downloading gast-0.3.3-py2.py3-none-any.whl (9.7 kB)\n",
            "Requirement already satisfied: tensorboard~=2.4 in /usr/local/lib/python3.8/dist-packages (from tensorflow==2.4.0) (2.9.1)\n",
            "Collecting grpcio~=1.32.0\n",
            "  Downloading grpcio-1.32.0-cp38-cp38-manylinux2014_x86_64.whl (3.8 MB)\n",
            "\u001b[K     |████████████████████████████████| 3.8 MB 44.1 MB/s \n",
            "\u001b[?25hRequirement already satisfied: google-pasta~=0.2 in /usr/local/lib/python3.8/dist-packages (from tensorflow==2.4.0) (0.2.0)\n",
            "Requirement already satisfied: flatbuffers~=1.12.0 in /usr/local/lib/python3.8/dist-packages (from tensorflow==2.4.0) (1.12)\n",
            "Collecting typing-extensions~=3.7.4\n",
            "  Downloading typing_extensions-3.7.4.3-py3-none-any.whl (22 kB)\n",
            "Requirement already satisfied: wheel~=0.35 in /usr/local/lib/python3.8/dist-packages (from tensorflow==2.4.0) (0.38.4)\n",
            "Collecting termcolor~=1.1.0\n",
            "  Downloading termcolor-1.1.0.tar.gz (3.9 kB)\n",
            "Requirement already satisfied: astunparse~=1.6.3 in /usr/local/lib/python3.8/dist-packages (from tensorflow==2.4.0) (1.6.3)\n",
            "Collecting h5py~=2.10.0\n",
            "  Downloading h5py-2.10.0-cp38-cp38-manylinux1_x86_64.whl (2.9 MB)\n",
            "\u001b[K     |████████████████████████████████| 2.9 MB 61.7 MB/s \n",
            "\u001b[?25hRequirement already satisfied: protobuf>=3.9.2 in /usr/local/lib/python3.8/dist-packages (from tensorflow==2.4.0) (3.19.6)\n",
            "Requirement already satisfied: keras-preprocessing~=1.1.2 in /usr/local/lib/python3.8/dist-packages (from tensorflow==2.4.0) (1.1.2)\n",
            "Requirement already satisfied: opt-einsum~=3.3.0 in /usr/local/lib/python3.8/dist-packages (from tensorflow==2.4.0) (3.3.0)\n",
            "Collecting numpy~=1.19.2\n",
            "  Downloading numpy-1.19.5-cp38-cp38-manylinux2010_x86_64.whl (14.9 MB)\n",
            "\u001b[K     |████████████████████████████████| 14.9 MB 839 kB/s \n",
            "\u001b[?25hRequirement already satisfied: tensorboard-data-server<0.7.0,>=0.6.0 in /usr/local/lib/python3.8/dist-packages (from tensorboard~=2.4->tensorflow==2.4.0) (0.6.1)\n",
            "Requirement already satisfied: requests<3,>=2.21.0 in /usr/local/lib/python3.8/dist-packages (from tensorboard~=2.4->tensorflow==2.4.0) (2.23.0)\n",
            "Requirement already satisfied: markdown>=2.6.8 in /usr/local/lib/python3.8/dist-packages (from tensorboard~=2.4->tensorflow==2.4.0) (3.4.1)\n",
            "Requirement already satisfied: google-auth<3,>=1.6.3 in /usr/local/lib/python3.8/dist-packages (from tensorboard~=2.4->tensorflow==2.4.0) (2.15.0)\n",
            "Requirement already satisfied: werkzeug>=1.0.1 in /usr/local/lib/python3.8/dist-packages (from tensorboard~=2.4->tensorflow==2.4.0) (1.0.1)\n",
            "Requirement already satisfied: google-auth-oauthlib<0.5,>=0.4.1 in /usr/local/lib/python3.8/dist-packages (from tensorboard~=2.4->tensorflow==2.4.0) (0.4.6)\n",
            "Requirement already satisfied: setuptools>=41.0.0 in /usr/local/lib/python3.8/dist-packages (from tensorboard~=2.4->tensorflow==2.4.0) (57.4.0)\n",
            "Requirement already satisfied: tensorboard-plugin-wit>=1.6.0 in /usr/local/lib/python3.8/dist-packages (from tensorboard~=2.4->tensorflow==2.4.0) (1.8.1)\n",
            "Requirement already satisfied: cachetools<6.0,>=2.0.0 in /usr/local/lib/python3.8/dist-packages (from google-auth<3,>=1.6.3->tensorboard~=2.4->tensorflow==2.4.0) (5.2.0)\n",
            "Requirement already satisfied: rsa<5,>=3.1.4 in /usr/local/lib/python3.8/dist-packages (from google-auth<3,>=1.6.3->tensorboard~=2.4->tensorflow==2.4.0) (4.9)\n",
            "Requirement already satisfied: pyasn1-modules>=0.2.1 in /usr/local/lib/python3.8/dist-packages (from google-auth<3,>=1.6.3->tensorboard~=2.4->tensorflow==2.4.0) (0.2.8)\n",
            "Requirement already satisfied: requests-oauthlib>=0.7.0 in /usr/local/lib/python3.8/dist-packages (from google-auth-oauthlib<0.5,>=0.4.1->tensorboard~=2.4->tensorflow==2.4.0) (1.3.1)\n",
            "Requirement already satisfied: importlib-metadata>=4.4 in /usr/local/lib/python3.8/dist-packages (from markdown>=2.6.8->tensorboard~=2.4->tensorflow==2.4.0) (4.13.0)\n",
            "Requirement already satisfied: zipp>=0.5 in /usr/local/lib/python3.8/dist-packages (from importlib-metadata>=4.4->markdown>=2.6.8->tensorboard~=2.4->tensorflow==2.4.0) (3.11.0)\n",
            "Requirement already satisfied: pyasn1<0.5.0,>=0.4.6 in /usr/local/lib/python3.8/dist-packages (from pyasn1-modules>=0.2.1->google-auth<3,>=1.6.3->tensorboard~=2.4->tensorflow==2.4.0) (0.4.8)\n",
            "Requirement already satisfied: idna<3,>=2.5 in /usr/local/lib/python3.8/dist-packages (from requests<3,>=2.21.0->tensorboard~=2.4->tensorflow==2.4.0) (2.10)\n",
            "Requirement already satisfied: urllib3!=1.25.0,!=1.25.1,<1.26,>=1.21.1 in /usr/local/lib/python3.8/dist-packages (from requests<3,>=2.21.0->tensorboard~=2.4->tensorflow==2.4.0) (1.24.3)\n",
            "Requirement already satisfied: chardet<4,>=3.0.2 in /usr/local/lib/python3.8/dist-packages (from requests<3,>=2.21.0->tensorboard~=2.4->tensorflow==2.4.0) (3.0.4)\n",
            "Requirement already satisfied: certifi>=2017.4.17 in /usr/local/lib/python3.8/dist-packages (from requests<3,>=2.21.0->tensorboard~=2.4->tensorflow==2.4.0) (2022.9.24)\n",
            "Requirement already satisfied: oauthlib>=3.0.0 in /usr/local/lib/python3.8/dist-packages (from requests-oauthlib>=0.7.0->google-auth-oauthlib<0.5,>=0.4.1->tensorboard~=2.4->tensorflow==2.4.0) (3.2.2)\n",
            "Building wheels for collected packages: termcolor, wrapt\n",
            "  Building wheel for termcolor (setup.py) ... \u001b[?25l\u001b[?25hdone\n",
            "  Created wheel for termcolor: filename=termcolor-1.1.0-py3-none-any.whl size=4849 sha256=32010b05151e1b9107299091a526249f502d5b37794ad0992886aa0f14ba0fa9\n",
            "  Stored in directory: /root/.cache/pip/wheels/a0/16/9c/5473df82468f958445479c59e784896fa24f4a5fc024b0f501\n",
            "  Building wheel for wrapt (setup.py) ... \u001b[?25l\u001b[?25hdone\n",
            "  Created wheel for wrapt: filename=wrapt-1.12.1-cp38-cp38-linux_x86_64.whl size=72344 sha256=685efdc64e07fcd8798bca1d3472254c69607fc76c09ed4519175a41d7f8308e\n",
            "  Stored in directory: /root/.cache/pip/wheels/5f/fd/9e/b6cf5890494cb8ef0b5eaff72e5d55a70fb56316007d6dfe73\n",
            "Successfully built termcolor wrapt\n",
            "Installing collected packages: numpy, grpcio, absl-py, wrapt, typing-extensions, termcolor, tensorflow-estimator, h5py, gast, tensorflow\n",
            "  Attempting uninstall: numpy\n",
            "    Found existing installation: numpy 1.21.6\n",
            "    Uninstalling numpy-1.21.6:\n",
            "      Successfully uninstalled numpy-1.21.6\n",
            "  Attempting uninstall: grpcio\n",
            "    Found existing installation: grpcio 1.51.1\n",
            "    Uninstalling grpcio-1.51.1:\n",
            "      Successfully uninstalled grpcio-1.51.1\n",
            "  Attempting uninstall: absl-py\n",
            "    Found existing installation: absl-py 1.3.0\n",
            "    Uninstalling absl-py-1.3.0:\n",
            "      Successfully uninstalled absl-py-1.3.0\n",
            "  Attempting uninstall: wrapt\n",
            "    Found existing installation: wrapt 1.14.1\n",
            "    Uninstalling wrapt-1.14.1:\n",
            "      Successfully uninstalled wrapt-1.14.1\n",
            "  Attempting uninstall: typing-extensions\n",
            "    Found existing installation: typing-extensions 4.4.0\n",
            "    Uninstalling typing-extensions-4.4.0:\n",
            "      Successfully uninstalled typing-extensions-4.4.0\n",
            "  Attempting uninstall: termcolor\n",
            "    Found existing installation: termcolor 2.1.1\n",
            "    Uninstalling termcolor-2.1.1:\n",
            "      Successfully uninstalled termcolor-2.1.1\n",
            "  Attempting uninstall: tensorflow-estimator\n",
            "    Found existing installation: tensorflow-estimator 2.9.0\n",
            "    Uninstalling tensorflow-estimator-2.9.0:\n",
            "      Successfully uninstalled tensorflow-estimator-2.9.0\n",
            "  Attempting uninstall: h5py\n",
            "    Found existing installation: h5py 3.1.0\n",
            "    Uninstalling h5py-3.1.0:\n",
            "      Successfully uninstalled h5py-3.1.0\n",
            "  Attempting uninstall: gast\n",
            "    Found existing installation: gast 0.4.0\n",
            "    Uninstalling gast-0.4.0:\n",
            "      Successfully uninstalled gast-0.4.0\n",
            "\u001b[31mERROR: pip's dependency resolver does not currently take into account all the packages that are installed. This behaviour is the source of the following dependency conflicts.\n",
            "pydantic 1.10.2 requires typing-extensions>=4.1.0, but you have typing-extensions 3.7.4.3 which is incompatible.\n",
            "jaxlib 0.3.25+cuda11.cudnn805 requires numpy>=1.20, but you have numpy 1.19.5 which is incompatible.\n",
            "jax 0.3.25 requires numpy>=1.20, but you have numpy 1.19.5 which is incompatible.\n",
            "grpcio-status 1.48.2 requires grpcio>=1.48.2, but you have grpcio 1.32.0 which is incompatible.\n",
            "google-cloud-bigquery 3.3.6 requires grpcio<2.0dev,>=1.47.0, but you have grpcio 1.32.0 which is incompatible.\n",
            "cupy-cuda11x 11.0.0 requires numpy<1.26,>=1.20, but you have numpy 1.19.5 which is incompatible.\n",
            "cmdstanpy 1.0.8 requires numpy>=1.21, but you have numpy 1.19.5 which is incompatible.\u001b[0m\n",
            "Successfully installed absl-py-0.15.0 gast-0.3.3 grpcio-1.32.0 h5py-2.10.0 numpy-1.19.5 tensorflow-2.4.0 tensorflow-estimator-2.4.0 termcolor-1.1.0 typing-extensions-3.7.4.3 wrapt-1.12.1\n"
          ]
        },
        {
          "data": {
            "application/vnd.colab-display-data+json": {
              "pip_warning": {
                "packages": [
                  "absl",
                  "gast",
                  "h5py",
                  "numpy",
                  "tensorflow",
                  "termcolor",
                  "typing_extensions",
                  "wrapt"
                ]
              }
            }
          },
          "metadata": {},
          "output_type": "display_data"
        }
      ],
      "source": [
        "!pip uninstall tensorflow -y\n",
        "!pip install tensorflow==2.4.0 -y"
      ]
    },
    {
      "cell_type": "code",
      "execution_count": null,
      "metadata": {
        "colab": {
          "base_uri": "https://localhost:8080/"
        },
        "id": "8v1wW1zt0Gm-",
        "outputId": "e5155409-8ca9-48d6-91c8-cd6ea3279b79"
      },
      "outputs": [
        {
          "name": "stdout",
          "output_type": "stream",
          "text": [
            "Drive already mounted at /content/drive; to attempt to forcibly remount, call drive.mount(\"/content/drive\", force_remount=True).\n"
          ]
        }
      ],
      "source": [
        "from google.colab import drive\n",
        "\n",
        "drive.mount('/content/drive')"
      ]
    },
    {
      "cell_type": "code",
      "execution_count": null,
      "metadata": {
        "id": "QqSsfMfb69tK"
      },
      "outputs": [],
      "source": [
        "!cp \"/content/drive/MyDrive/cs1430_finalproj_data/weights.zip\" \"weights.zip\"\n"
      ]
    },
    {
      "cell_type": "code",
      "execution_count": null,
      "metadata": {
        "colab": {
          "base_uri": "https://localhost:8080/"
        },
        "id": "PMA9QgBQ7wKP",
        "outputId": "c49adaae-6217-43a6-a975-114b75560376"
      },
      "outputs": [
        {
          "name": "stdout",
          "output_type": "stream",
          "text": [
            "Archive:  weights.zip\n",
            "   creating: content/\n",
            "  inflating: __MACOSX/._content      \n",
            "  inflating: content/.DS_Store       \n",
            "  inflating: __MACOSX/content/._.DS_Store  \n",
            "   creating: content/Mask_RCNN/\n",
            "  inflating: __MACOSX/content/._Mask_RCNN  \n",
            "  inflating: content/Mask_RCNN/.DS_Store  \n",
            "  inflating: __MACOSX/content/Mask_RCNN/._.DS_Store  \n",
            "   creating: content/Mask_RCNN/logs/\n",
            "  inflating: __MACOSX/content/Mask_RCNN/._logs  \n",
            "   creating: content/Mask_RCNN/logs/letters20221211T1647/\n",
            "  inflating: __MACOSX/content/Mask_RCNN/logs/._letters20221211T1647  \n",
            "  inflating: content/Mask_RCNN/logs/letters20221211T1647/mask_rcnn_letters_0021.h5  \n",
            "  inflating: __MACOSX/content/Mask_RCNN/logs/letters20221211T1647/._mask_rcnn_letters_0021.h5  \n"
          ]
        }
      ],
      "source": [
        "!unzip weights.zip"
      ]
    },
    {
      "cell_type": "markdown",
      "metadata": {
        "id": "U8EuTOdY_Hdo"
      },
      "source": [
        "# Prepare to run Inference\n",
        "Create a new InferenceConfig, then use it to create a new model."
      ]
    },
    {
      "cell_type": "code",
      "execution_count": null,
      "metadata": {
        "id": "5tApdZJ8vIU9"
      },
      "outputs": [],
      "source": [
        "# Rerun Configs for testing\n",
        "import os\n",
        "import sys\n",
        "import json\n",
        "import numpy as np\n",
        "import time\n",
        "from PIL import Image, ImageDraw"
      ]
    },
    {
      "cell_type": "code",
      "execution_count": null,
      "metadata": {
        "id": "t5pyHW3lu5Vl"
      },
      "outputs": [],
      "source": [
        "# Rerun Configs for testing\n",
        "# Set the ROOT_DIR variable to the root directory of the Mask_RCNN git repo\n",
        "ROOT_DIR = '/content/Mask_RCNN'\n",
        "assert os.path.exists(ROOT_DIR), 'ROOT_DIR does not exist. Did you forget to read the instructions above? ;)'\n",
        "\n",
        "# Import mrcnn libraries\n",
        "sys.path.append(ROOT_DIR) \n",
        "from mrcnn.config import Config\n",
        "import mrcnn.utils as utils\n",
        "from mrcnn import visualize\n",
        "import mrcnn.model as modellib"
      ]
    },
    {
      "cell_type": "code",
      "execution_count": null,
      "metadata": {
        "id": "atVu2cxKwFDa"
      },
      "outputs": [],
      "source": [
        "# Rerun Configs for testing\n",
        "# Directory to save logs and trained model\n",
        "MODEL_DIR = os.path.join(ROOT_DIR, \"logs\")\n",
        "\n",
        "# Local path to trained weights file # OUR TRAINED WEIGHTS FILE\n",
        "COCO_MODEL_PATH = os.path.join(ROOT_DIR, \"mask_rcnn_coco.h5\")\n",
        "\n",
        "# Download COCO trained weights from Releases if needed\n",
        "if not os.path.exists(COCO_MODEL_PATH):\n",
        "    utils.download_trained_weights(COCO_MODEL_PATH)"
      ]
    },
    {
      "cell_type": "code",
      "execution_count": null,
      "metadata": {
        "id": "7nqAifGOvr1T"
      },
      "outputs": [],
      "source": [
        "# Rerun Configs for testing\n",
        "class CigButtsConfig(Config):\n",
        "    \"\"\"Configuration for training on the cigarette butts dataset.\n",
        "    Derives from the base Config class and overrides values specific\n",
        "    to the cigarette butts dataset.\n",
        "    \"\"\"\n",
        "    # Give the configuration a recognizable name\n",
        "    NAME = \"letters\"\n",
        "\n",
        "    # Train on 1 GPU and 1 image per GPU. Batch size is 1 (GPUs * images/GPU).\n",
        "    GPU_COUNT = 1\n",
        "    IMAGES_PER_GPU = 1\n",
        "\n",
        "    # Number of classes (including background)\n",
        "    NUM_CLASSES = 27 # background + 1 (cig_butt)\n",
        "\n",
        "    # All of our training images are 512x512\n",
        "    IMAGE_MIN_DIM = 256\n",
        "    IMAGE_MAX_DIM = 256\n",
        "\n",
        "    # You can experiment with this number to see if it improves training\n",
        "    STEPS_PER_EPOCH = 1000\n",
        "\n",
        "    # This is how often validation is run. If you are using too much hard drive space\n",
        "    # on saved models (in the MODEL_DIR), try making this value larger.\n",
        "    VALIDATION_STEPS = 5\n",
        "    \n",
        "    # Matterport originally used resnet101, but I downsized to fit it on my graphics card\n",
        "    BACKBONE = 'resnet50'"
      ]
    },
    {
      "cell_type": "code",
      "execution_count": null,
      "metadata": {
        "collapsed": true,
        "id": "G0C-IvVE_Hdo"
      },
      "outputs": [],
      "source": [
        "class InferenceConfig(CigButtsConfig):\n",
        "    GPU_COUNT = 1\n",
        "    IMAGES_PER_GPU = 1\n",
        "    IMAGE_MIN_DIM = 256\n",
        "    IMAGE_MAX_DIM = 256\n",
        "    DETECTION_MIN_CONFIDENCE = 0.90\n",
        "    \n",
        "\n",
        "inference_config = InferenceConfig()"
      ]
    },
    {
      "cell_type": "code",
      "execution_count": null,
      "metadata": {
        "colab": {
          "base_uri": "https://localhost:8080/"
        },
        "collapsed": true,
        "id": "UwJERBGQ_Hdo",
        "outputId": "f0d52a0f-deef-44f6-b8be-f4189d9a2802"
      },
      "outputs": [
        {
          "name": "stderr",
          "output_type": "stream",
          "text": [
            "WARNING:tensorflow:From /usr/local/lib/python3.8/dist-packages/tensorflow/python/util/deprecation.py:605: calling map_fn_v2 (from tensorflow.python.ops.map_fn) with dtype is deprecated and will be removed in a future version.\n",
            "Instructions for updating:\n",
            "Use fn_output_signature instead\n"
          ]
        }
      ],
      "source": [
        "# Recreate the model in inference mode\n",
        "model = modellib.MaskRCNN(mode=\"inference\", \n",
        "                          config=inference_config,\n",
        "                          model_dir=MODEL_DIR)"
      ]
    },
    {
      "cell_type": "code",
      "execution_count": null,
      "metadata": {
        "colab": {
          "base_uri": "https://localhost:8080/"
        },
        "id": "zzK_U8Ks_Hdo",
        "outputId": "d6bb9a24-1c17-434f-b51b-c95ca802d2e2"
      },
      "outputs": [
        {
          "name": "stdout",
          "output_type": "stream",
          "text": [
            "Loading weights from  /content/Mask_RCNN/logs/letters20221213T2242/mask_rcnn_letters_0020.h5\n",
            "Re-starting from epoch 20\n"
          ]
        }
      ],
      "source": [
        "# Get path to saved weights\n",
        "# Either set a specific path or find last trained weights\n",
        "# model_path = os.path.join(ROOT_DIR, \".h5 file name here\")\n",
        "model_path = \"/content/Mask_RCNN/logs/letters20221213T2242/mask_rcnn_letters_0020.h5\"\n",
        "\n",
        "# Load trained weights (fill in path to trained weights here)\n",
        "assert model_path != \"\", \"Provide path to trained weights\"\n",
        "print(\"Loading weights from \", model_path)\n",
        "model.load_weights(model_path, by_name=True)"
      ]
    },
    {
      "cell_type": "markdown",
      "metadata": {
        "id": "qGIT-opv_Hdo"
      },
      "source": [
        "# Run Inference\n",
        "Run model.detect() on real images.\n",
        "\n",
        "We get some false positives, and some misses. More training images are likely needed to improve the results."
      ]
    },
    {
      "cell_type": "code",
      "execution_count": null,
      "metadata": {
        "id": "8osTp90ny5qe"
      },
      "outputs": [],
      "source": [
        "# Rerun Configs for testing\n",
        "class CocoLikeDataset(utils.Dataset):\n",
        "    \"\"\" Generates a COCO-like dataset, i.e. an image dataset annotated in the style of the COCO dataset.\n",
        "        See http://cocodataset.org/#home for more information.\n",
        "    \"\"\"\n",
        "    def load_data(self, annotation_json, images_dir):\n",
        "        \"\"\" Load the coco-like dataset from json\n",
        "        Args:\n",
        "            annotation_json: The path to the coco annotations json file\n",
        "            images_dir: The directory holding the images referred to by the json file\n",
        "        \"\"\"\n",
        "        # Load json from file\n",
        "        json_file = open(annotation_json)\n",
        "        coco_json = json.load(json_file)\n",
        "        json_file.close()\n",
        "        \n",
        "        # Add the class names using the base method from utils.Dataset\n",
        "        source_name = \"coco_like\"\n",
        "        for category in coco_json['categories']:\n",
        "            class_id = category['id']\n",
        "            class_name = category['name']\n",
        "            if class_id < 1:\n",
        "                print('Error: Class id for \"{}\" cannot be less than one. (0 is reserved for the background)'.format(class_name))\n",
        "                return\n",
        "            \n",
        "            self.add_class(source_name, class_id, class_name)\n",
        "        \n",
        "        # Get all annotations\n",
        "        annotations = {}\n",
        "        for annotation in coco_json['annotations']:\n",
        "            image_id = annotation['image_id']\n",
        "            if image_id not in annotations:\n",
        "                annotations[image_id] = []\n",
        "            annotations[image_id].append(annotation)\n",
        "        \n",
        "        # Get all images and add them to the dataset\n",
        "        seen_images = {}\n",
        "        for image in coco_json['images']:\n",
        "            image_id = image['id']\n",
        "            if image_id in seen_images:\n",
        "                print(\"Warning: Skipping duplicate image id: {}\".format(image))\n",
        "            else:\n",
        "                seen_images[image_id] = image\n",
        "                try:\n",
        "                    image_file_name = image['file_name']\n",
        "                    image_width = image['width']\n",
        "                    image_height = image['height']\n",
        "                except KeyError as key:\n",
        "                    print(\"Warning: Skipping image (id: {}) with missing key: {}\".format(image_id, key))\n",
        "                \n",
        "                image_path = os.path.abspath(os.path.join(images_dir, image_file_name))\n",
        "                image_annotations = annotations[image_id]\n",
        "                \n",
        "                # Add the image using the base method from utils.Dataset\n",
        "                self.add_image(\n",
        "                    source=source_name,\n",
        "                    image_id=image_id,\n",
        "                    path=image_path,\n",
        "                    width=image_width,\n",
        "                    height=image_height,\n",
        "                    annotations=image_annotations\n",
        "                )\n",
        "                \n",
        "    def load_mask(self, image_id):\n",
        "        \"\"\" Load instance masks for the given image.\n",
        "        MaskRCNN expects masks in the form of a bitmap [height, width, instances].\n",
        "        Args:\n",
        "            image_id: The id of the image to load masks for\n",
        "        Returns:\n",
        "            masks: A bool array of shape [height, width, instance count] with\n",
        "                one mask per instance.\n",
        "            class_ids: a 1D array of class IDs of the instance masks.\n",
        "        \"\"\"\n",
        "        image_info = self.image_info[image_id]\n",
        "        annotations = image_info['annotations']\n",
        "        instance_masks = []\n",
        "        class_ids = []\n",
        "        \n",
        "        for annotation in annotations:\n",
        "            class_id = annotation['category_id']\n",
        "            mask = Image.new('1', (image_info['width'], image_info['height']))\n",
        "            mask_draw = ImageDraw.ImageDraw(mask, '1')\n",
        "            for segmentation in annotation['segmentation']:\n",
        "                mask_draw.polygon(segmentation, fill=1)\n",
        "                bool_array = np.array(mask) > 0\n",
        "                instance_masks.append(bool_array)\n",
        "                class_ids.append(class_id)\n",
        "\n",
        "        mask = np.dstack(instance_masks)\n",
        "        class_ids = np.array(class_ids, dtype=np.int32)\n",
        "        \n",
        "        return mask, class_ids\n"
      ]
    },
    {
      "cell_type": "code",
      "execution_count": null,
      "metadata": {
        "colab": {
          "base_uri": "https://localhost:8080/"
        },
        "id": "nbEZeb1KTLiM",
        "outputId": "ea944100-f70b-426f-f671-34848502a1d0"
      },
      "outputs": [
        {
          "name": "stdout",
          "output_type": "stream",
          "text": [
            "Archive:  /content/new_data.zip\n",
            "replace new_data/.DS_Store? [y]es, [n]o, [A]ll, [N]one, [r]ename: "
          ]
        }
      ],
      "source": [
        "# Rerun Configs for testing\n",
        "!unzip /content/new_data.zip"
      ]
    },
    {
      "cell_type": "code",
      "execution_count": null,
      "metadata": {
        "id": "IQCTY9eUyY2l"
      },
      "outputs": [],
      "source": [
        "# Rerun Configs for testing\n",
        "dataset_train = CocoLikeDataset()\n",
        "dataset_train.load_data('/content/new_data/train.json', '/content/new_data/train')\n",
        "dataset_train.prepare()\n",
        "\n",
        "dataset_val = CocoLikeDataset()\n",
        "dataset_val.load_data('/content/new_data/test.json', '/content/new_data/test')\n",
        "dataset_val.prepare()"
      ]
    },
    {
      "cell_type": "code",
      "execution_count": null,
      "metadata": {
        "id": "QZWh-_MNM4Op"
      },
      "outputs": [],
      "source": [
        "# Variables to be passed onto postprocessing\n",
        "final_char_ids = []\n",
        "final_char_rois = []"
      ]
    },
    {
      "cell_type": "code",
      "execution_count": null,
      "metadata": {
        "colab": {
          "base_uri": "https://localhost:8080/",
          "height": 496
        },
        "id": "XpRugiNesMoO",
        "outputId": "78a72fea-fb7f-4f40-9868-8421ece1e39b"
      },
      "outputs": [
        {
          "ename": "FileNotFoundError",
          "evalue": "ignored",
          "output_type": "error",
          "traceback": [
            "\u001b[0;31m---------------------------------------------------------------------------\u001b[0m",
            "\u001b[0;31mFileNotFoundError\u001b[0m                         Traceback (most recent call last)",
            "\u001b[0;32m<ipython-input-12-9a8d83b018f0>\u001b[0m in \u001b[0;36m<module>\u001b[0;34m\u001b[0m\n\u001b[1;32m      1\u001b[0m \u001b[0;32mimport\u001b[0m \u001b[0mskimage\u001b[0m\u001b[0;34m\u001b[0m\u001b[0;34m\u001b[0m\u001b[0m\n\u001b[1;32m      2\u001b[0m \u001b[0;34m\u001b[0m\u001b[0m\n\u001b[0;32m----> 3\u001b[0;31m \u001b[0mimg\u001b[0m \u001b[0;34m=\u001b[0m \u001b[0mskimage\u001b[0m\u001b[0;34m.\u001b[0m\u001b[0mio\u001b[0m\u001b[0;34m.\u001b[0m\u001b[0mimread\u001b[0m\u001b[0;34m(\u001b[0m\u001b[0;34m\"/content/test_word_pair_2.jpg\"\u001b[0m\u001b[0;34m)\u001b[0m\u001b[0;34m\u001b[0m\u001b[0;34m\u001b[0m\u001b[0m\n\u001b[0m\u001b[1;32m      4\u001b[0m \u001b[0mimg_arr\u001b[0m \u001b[0;34m=\u001b[0m \u001b[0mnp\u001b[0m\u001b[0;34m.\u001b[0m\u001b[0marray\u001b[0m\u001b[0;34m(\u001b[0m\u001b[0mimg\u001b[0m\u001b[0;34m)\u001b[0m\u001b[0;34m\u001b[0m\u001b[0;34m\u001b[0m\u001b[0m\n\u001b[1;32m      5\u001b[0m \u001b[0mprint\u001b[0m\u001b[0;34m(\u001b[0m\u001b[0mimg_arr\u001b[0m\u001b[0;34m[\u001b[0m\u001b[0;36m0\u001b[0m\u001b[0;34m,\u001b[0m\u001b[0;36m0\u001b[0m\u001b[0;34m,\u001b[0m\u001b[0;34m:\u001b[0m\u001b[0;34m]\u001b[0m\u001b[0;34m)\u001b[0m\u001b[0;34m\u001b[0m\u001b[0;34m\u001b[0m\u001b[0m\n",
            "\u001b[0;32m/usr/local/lib/python3.8/dist-packages/skimage/io/_io.py\u001b[0m in \u001b[0;36mimread\u001b[0;34m(fname, as_gray, plugin, **plugin_args)\u001b[0m\n\u001b[1;32m     46\u001b[0m \u001b[0;34m\u001b[0m\u001b[0m\n\u001b[1;32m     47\u001b[0m     \u001b[0;32mwith\u001b[0m \u001b[0mfile_or_url_context\u001b[0m\u001b[0;34m(\u001b[0m\u001b[0mfname\u001b[0m\u001b[0;34m)\u001b[0m \u001b[0;32mas\u001b[0m \u001b[0mfname\u001b[0m\u001b[0;34m:\u001b[0m\u001b[0;34m\u001b[0m\u001b[0;34m\u001b[0m\u001b[0m\n\u001b[0;32m---> 48\u001b[0;31m         \u001b[0mimg\u001b[0m \u001b[0;34m=\u001b[0m \u001b[0mcall_plugin\u001b[0m\u001b[0;34m(\u001b[0m\u001b[0;34m'imread'\u001b[0m\u001b[0;34m,\u001b[0m \u001b[0mfname\u001b[0m\u001b[0;34m,\u001b[0m \u001b[0mplugin\u001b[0m\u001b[0;34m=\u001b[0m\u001b[0mplugin\u001b[0m\u001b[0;34m,\u001b[0m \u001b[0;34m**\u001b[0m\u001b[0mplugin_args\u001b[0m\u001b[0;34m)\u001b[0m\u001b[0;34m\u001b[0m\u001b[0;34m\u001b[0m\u001b[0m\n\u001b[0m\u001b[1;32m     49\u001b[0m \u001b[0;34m\u001b[0m\u001b[0m\n\u001b[1;32m     50\u001b[0m     \u001b[0;32mif\u001b[0m \u001b[0;32mnot\u001b[0m \u001b[0mhasattr\u001b[0m\u001b[0;34m(\u001b[0m\u001b[0mimg\u001b[0m\u001b[0;34m,\u001b[0m \u001b[0;34m'ndim'\u001b[0m\u001b[0;34m)\u001b[0m\u001b[0;34m:\u001b[0m\u001b[0;34m\u001b[0m\u001b[0;34m\u001b[0m\u001b[0m\n",
            "\u001b[0;32m/usr/local/lib/python3.8/dist-packages/skimage/io/manage_plugins.py\u001b[0m in \u001b[0;36mcall_plugin\u001b[0;34m(kind, *args, **kwargs)\u001b[0m\n\u001b[1;32m    205\u001b[0m                                (plugin, kind))\n\u001b[1;32m    206\u001b[0m \u001b[0;34m\u001b[0m\u001b[0m\n\u001b[0;32m--> 207\u001b[0;31m     \u001b[0;32mreturn\u001b[0m \u001b[0mfunc\u001b[0m\u001b[0;34m(\u001b[0m\u001b[0;34m*\u001b[0m\u001b[0margs\u001b[0m\u001b[0;34m,\u001b[0m \u001b[0;34m**\u001b[0m\u001b[0mkwargs\u001b[0m\u001b[0;34m)\u001b[0m\u001b[0;34m\u001b[0m\u001b[0;34m\u001b[0m\u001b[0m\n\u001b[0m\u001b[1;32m    208\u001b[0m \u001b[0;34m\u001b[0m\u001b[0m\n\u001b[1;32m    209\u001b[0m \u001b[0;34m\u001b[0m\u001b[0m\n",
            "\u001b[0;32m/usr/local/lib/python3.8/dist-packages/skimage/io/_plugins/imageio_plugin.py\u001b[0m in \u001b[0;36mimread\u001b[0;34m(*args, **kwargs)\u001b[0m\n\u001b[1;32m      8\u001b[0m \u001b[0;34m@\u001b[0m\u001b[0mwraps\u001b[0m\u001b[0;34m(\u001b[0m\u001b[0mimageio_imread\u001b[0m\u001b[0;34m)\u001b[0m\u001b[0;34m\u001b[0m\u001b[0;34m\u001b[0m\u001b[0m\n\u001b[1;32m      9\u001b[0m \u001b[0;32mdef\u001b[0m \u001b[0mimread\u001b[0m\u001b[0;34m(\u001b[0m\u001b[0;34m*\u001b[0m\u001b[0margs\u001b[0m\u001b[0;34m,\u001b[0m \u001b[0;34m**\u001b[0m\u001b[0mkwargs\u001b[0m\u001b[0;34m)\u001b[0m\u001b[0;34m:\u001b[0m\u001b[0;34m\u001b[0m\u001b[0;34m\u001b[0m\u001b[0m\n\u001b[0;32m---> 10\u001b[0;31m     \u001b[0;32mreturn\u001b[0m \u001b[0mnp\u001b[0m\u001b[0;34m.\u001b[0m\u001b[0masarray\u001b[0m\u001b[0;34m(\u001b[0m\u001b[0mimageio_imread\u001b[0m\u001b[0;34m(\u001b[0m\u001b[0;34m*\u001b[0m\u001b[0margs\u001b[0m\u001b[0;34m,\u001b[0m \u001b[0;34m**\u001b[0m\u001b[0mkwargs\u001b[0m\u001b[0;34m)\u001b[0m\u001b[0;34m)\u001b[0m\u001b[0;34m\u001b[0m\u001b[0;34m\u001b[0m\u001b[0m\n\u001b[0m",
            "\u001b[0;32m/usr/local/lib/python3.8/dist-packages/imageio/core/functions.py\u001b[0m in \u001b[0;36mimread\u001b[0;34m(uri, format, **kwargs)\u001b[0m\n\u001b[1;32m    263\u001b[0m \u001b[0;34m\u001b[0m\u001b[0m\n\u001b[1;32m    264\u001b[0m     \u001b[0;31m# Get reader and read first\u001b[0m\u001b[0;34m\u001b[0m\u001b[0;34m\u001b[0m\u001b[0;34m\u001b[0m\u001b[0m\n\u001b[0;32m--> 265\u001b[0;31m     \u001b[0mreader\u001b[0m \u001b[0;34m=\u001b[0m \u001b[0mread\u001b[0m\u001b[0;34m(\u001b[0m\u001b[0muri\u001b[0m\u001b[0;34m,\u001b[0m \u001b[0mformat\u001b[0m\u001b[0;34m,\u001b[0m \u001b[0;34m\"i\"\u001b[0m\u001b[0;34m,\u001b[0m \u001b[0;34m**\u001b[0m\u001b[0mkwargs\u001b[0m\u001b[0;34m)\u001b[0m\u001b[0;34m\u001b[0m\u001b[0;34m\u001b[0m\u001b[0m\n\u001b[0m\u001b[1;32m    266\u001b[0m     \u001b[0;32mwith\u001b[0m \u001b[0mreader\u001b[0m\u001b[0;34m:\u001b[0m\u001b[0;34m\u001b[0m\u001b[0;34m\u001b[0m\u001b[0m\n\u001b[1;32m    267\u001b[0m         \u001b[0;32mreturn\u001b[0m \u001b[0mreader\u001b[0m\u001b[0;34m.\u001b[0m\u001b[0mget_data\u001b[0m\u001b[0;34m(\u001b[0m\u001b[0;36m0\u001b[0m\u001b[0;34m)\u001b[0m\u001b[0;34m\u001b[0m\u001b[0;34m\u001b[0m\u001b[0m\n",
            "\u001b[0;32m/usr/local/lib/python3.8/dist-packages/imageio/core/functions.py\u001b[0m in \u001b[0;36mget_reader\u001b[0;34m(uri, format, mode, **kwargs)\u001b[0m\n\u001b[1;32m    170\u001b[0m \u001b[0;34m\u001b[0m\u001b[0m\n\u001b[1;32m    171\u001b[0m     \u001b[0;31m# Create request object\u001b[0m\u001b[0;34m\u001b[0m\u001b[0;34m\u001b[0m\u001b[0;34m\u001b[0m\u001b[0m\n\u001b[0;32m--> 172\u001b[0;31m     \u001b[0mrequest\u001b[0m \u001b[0;34m=\u001b[0m \u001b[0mRequest\u001b[0m\u001b[0;34m(\u001b[0m\u001b[0muri\u001b[0m\u001b[0;34m,\u001b[0m \u001b[0;34m\"r\"\u001b[0m \u001b[0;34m+\u001b[0m \u001b[0mmode\u001b[0m\u001b[0;34m,\u001b[0m \u001b[0;34m**\u001b[0m\u001b[0mkwargs\u001b[0m\u001b[0;34m)\u001b[0m\u001b[0;34m\u001b[0m\u001b[0;34m\u001b[0m\u001b[0m\n\u001b[0m\u001b[1;32m    173\u001b[0m \u001b[0;34m\u001b[0m\u001b[0m\n\u001b[1;32m    174\u001b[0m     \u001b[0;31m# Get format\u001b[0m\u001b[0;34m\u001b[0m\u001b[0;34m\u001b[0m\u001b[0;34m\u001b[0m\u001b[0m\n",
            "\u001b[0;32m/usr/local/lib/python3.8/dist-packages/imageio/core/request.py\u001b[0m in \u001b[0;36m__init__\u001b[0;34m(self, uri, mode, **kwargs)\u001b[0m\n\u001b[1;32m    122\u001b[0m \u001b[0;34m\u001b[0m\u001b[0m\n\u001b[1;32m    123\u001b[0m         \u001b[0;31m# Parse what was given\u001b[0m\u001b[0;34m\u001b[0m\u001b[0;34m\u001b[0m\u001b[0;34m\u001b[0m\u001b[0m\n\u001b[0;32m--> 124\u001b[0;31m         \u001b[0mself\u001b[0m\u001b[0;34m.\u001b[0m\u001b[0m_parse_uri\u001b[0m\u001b[0;34m(\u001b[0m\u001b[0muri\u001b[0m\u001b[0;34m)\u001b[0m\u001b[0;34m\u001b[0m\u001b[0;34m\u001b[0m\u001b[0m\n\u001b[0m\u001b[1;32m    125\u001b[0m \u001b[0;34m\u001b[0m\u001b[0m\n\u001b[1;32m    126\u001b[0m         \u001b[0;31m# Set extension\u001b[0m\u001b[0;34m\u001b[0m\u001b[0;34m\u001b[0m\u001b[0;34m\u001b[0m\u001b[0m\n",
            "\u001b[0;32m/usr/local/lib/python3.8/dist-packages/imageio/core/request.py\u001b[0m in \u001b[0;36m_parse_uri\u001b[0;34m(self, uri)\u001b[0m\n\u001b[1;32m    258\u001b[0m                 \u001b[0;31m# Reading: check that the file exists (but is allowed a dir)\u001b[0m\u001b[0;34m\u001b[0m\u001b[0;34m\u001b[0m\u001b[0;34m\u001b[0m\u001b[0m\n\u001b[1;32m    259\u001b[0m                 \u001b[0;32mif\u001b[0m \u001b[0;32mnot\u001b[0m \u001b[0mos\u001b[0m\u001b[0;34m.\u001b[0m\u001b[0mpath\u001b[0m\u001b[0;34m.\u001b[0m\u001b[0mexists\u001b[0m\u001b[0;34m(\u001b[0m\u001b[0mfn\u001b[0m\u001b[0;34m)\u001b[0m\u001b[0;34m:\u001b[0m\u001b[0;34m\u001b[0m\u001b[0;34m\u001b[0m\u001b[0m\n\u001b[0;32m--> 260\u001b[0;31m                     \u001b[0;32mraise\u001b[0m \u001b[0mFileNotFoundError\u001b[0m\u001b[0;34m(\u001b[0m\u001b[0;34m\"No such file: '%s'\"\u001b[0m \u001b[0;34m%\u001b[0m \u001b[0mfn\u001b[0m\u001b[0;34m)\u001b[0m\u001b[0;34m\u001b[0m\u001b[0;34m\u001b[0m\u001b[0m\n\u001b[0m\u001b[1;32m    261\u001b[0m             \u001b[0;32melse\u001b[0m\u001b[0;34m:\u001b[0m\u001b[0;34m\u001b[0m\u001b[0;34m\u001b[0m\u001b[0m\n\u001b[1;32m    262\u001b[0m                 \u001b[0;31m# Writing: check that the directory to write to does exist\u001b[0m\u001b[0;34m\u001b[0m\u001b[0;34m\u001b[0m\u001b[0;34m\u001b[0m\u001b[0m\n",
            "\u001b[0;31mFileNotFoundError\u001b[0m: No such file: '/content/test_word_pair_2.jpg'"
          ]
        }
      ],
      "source": [
        "import skimage\n",
        "\n",
        "img = skimage.io.imread(\"/content/test_word_pair_2.jpg\")\n",
        "img_arr = np.array(img)\n",
        "print(img_arr[0,0,:])\n",
        "results = model.detect([img_arr], verbose=1)\n",
        "r = results[0]\n",
        "visualize.display_instances(img, r['rois'], r['masks'], r['class_ids'], \n",
        "                                dataset_val.class_names, r['scores'], figsize=(5,5))\n",
        "\n",
        "final_char_ids = r['class_ids']\n",
        "final_char_rois = r['rois']"
      ]
    },
    {
      "cell_type": "code",
      "execution_count": null,
      "metadata": {
        "colab": {
          "base_uri": "https://localhost:8080/",
          "height": 1000
        },
        "id": "4z0ccYRE_Hdo",
        "outputId": "240e96ad-43ab-4ff1-fff1-82d63c681307",
        "scrolled": false
      },
      "outputs": [
        {
          "name": "stdout",
          "output_type": "stream",
          "text": [
            "Processing 1 images\n",
            "image                    shape: (256, 256, 3)         min:    0.00000  max:  255.00000  uint8\n",
            "molded_images            shape: (1, 256, 256, 3)      min: -123.70000  max:  151.10000  float64\n",
            "image_metas              shape: (1, 39)               min:    0.00000  max:  256.00000  int64\n",
            "anchors                  shape: (1, 16368, 4)         min:   -1.41976  max:    2.16878  float32\n"
          ]
        },
        {
          "name": "stderr",
          "output_type": "stream",
          "text": [
            "/usr/local/lib/python3.8/dist-packages/tensorflow/python/keras/engine/training.py:2325: UserWarning: `Model.state_updates` will be removed in a future version. This property should not be used in TensorFlow 2.0, as `updates` are applied automatically.\n",
            "  warnings.warn('`Model.state_updates` will be removed in a future version. '\n"
          ]
        },
        {
          "data": {
            "image/png": "[encoded data removed]",
            "text/plain": [
              "<Figure size 360x360 with 1 Axes>"
            ]
          },
          "metadata": {
            "needs_background": "light"
          },
          "output_type": "display_data"
        },
        {
          "name": "stdout",
          "output_type": "stream",
          "text": [
            "Processing 1 images\n",
            "image                    shape: (256, 256, 3)         min:    0.00000  max:  255.00000  uint8\n",
            "molded_images            shape: (1, 256, 256, 3)      min: -123.70000  max:  151.10000  float64\n",
            "image_metas              shape: (1, 39)               min:    0.00000  max:  256.00000  int64\n",
            "anchors                  shape: (1, 16368, 4)         min:   -1.41976  max:    2.16878  float32\n"
          ]
        },
        {
          "data": {
            "image/png": "[encoded data removed]",
            "text/plain": [
              "<Figure size 360x360 with 1 Axes>"
            ]
          },
          "metadata": {
            "needs_background": "light"
          },
          "output_type": "display_data"
        },
        {
          "name": "stdout",
          "output_type": "stream",
          "text": [
            "Processing 1 images\n",
            "image                    shape: (256, 256, 3)         min:    0.00000  max:  255.00000  uint8\n",
            "molded_images            shape: (1, 256, 256, 3)      min: -123.70000  max:  151.10000  float64\n",
            "image_metas              shape: (1, 39)               min:    0.00000  max:  256.00000  int64\n",
            "anchors                  shape: (1, 16368, 4)         min:   -1.41976  max:    2.16878  float32\n"
          ]
        },
        {
          "data": {
            "image/png": "[encoded data removed]",
            "text/plain": [
              "<Figure size 360x360 with 1 Axes>"
            ]
          },
          "metadata": {
            "needs_background": "light"
          },
          "output_type": "display_data"
        },
        {
          "name": "stdout",
          "output_type": "stream",
          "text": [
            "Processing 1 images\n",
            "image                    shape: (256, 256, 3)         min:    0.00000  max:  255.00000  uint8\n",
            "molded_images            shape: (1, 256, 256, 3)      min: -123.70000  max:  151.10000  float64\n",
            "image_metas              shape: (1, 39)               min:    0.00000  max:  256.00000  int64\n",
            "anchors                  shape: (1, 16368, 4)         min:   -1.41976  max:    2.16878  float32\n"
          ]
        },
        {
          "data": {
            "image/png": "[encoded data removed]",
            "text/plain": [
              "<Figure size 360x360 with 1 Axes>"
            ]
          },
          "metadata": {
            "needs_background": "light"
          },
          "output_type": "display_data"
        },
        {
          "name": "stdout",
          "output_type": "stream",
          "text": [
            "Processing 1 images\n",
            "image                    shape: (256, 256, 3)         min:    0.00000  max:  255.00000  uint8\n",
            "molded_images            shape: (1, 256, 256, 3)      min: -123.70000  max:  151.10000  float64\n",
            "image_metas              shape: (1, 39)               min:    0.00000  max:  256.00000  int64\n",
            "anchors                  shape: (1, 16368, 4)         min:   -1.41976  max:    2.16878  float32\n"
          ]
        },
        {
          "ename": "KeyboardInterrupt",
          "evalue": "ignored",
          "output_type": "error",
          "traceback": [
            "\u001b[0;31m---------------------------------------------------------------------------\u001b[0m",
            "\u001b[0;31mKeyboardInterrupt\u001b[0m                         Traceback (most recent call last)",
            "\u001b[0;32m<ipython-input-13-1aeb860b09e2>\u001b[0m in \u001b[0;36m<module>\u001b[0;34m\u001b[0m\n\u001b[1;32m      9\u001b[0m     \u001b[0mimg\u001b[0m \u001b[0;34m=\u001b[0m \u001b[0mskimage\u001b[0m\u001b[0;34m.\u001b[0m\u001b[0mio\u001b[0m\u001b[0;34m.\u001b[0m\u001b[0mimread\u001b[0m\u001b[0;34m(\u001b[0m\u001b[0mimage_path\u001b[0m\u001b[0;34m)\u001b[0m\u001b[0;34m\u001b[0m\u001b[0;34m\u001b[0m\u001b[0m\n\u001b[1;32m     10\u001b[0m     \u001b[0mimg_arr\u001b[0m \u001b[0;34m=\u001b[0m \u001b[0mnp\u001b[0m\u001b[0;34m.\u001b[0m\u001b[0marray\u001b[0m\u001b[0;34m(\u001b[0m\u001b[0mimg\u001b[0m\u001b[0;34m)\u001b[0m\u001b[0;34m\u001b[0m\u001b[0;34m\u001b[0m\u001b[0m\n\u001b[0;32m---> 11\u001b[0;31m     \u001b[0mresults\u001b[0m \u001b[0;34m=\u001b[0m \u001b[0mmodel\u001b[0m\u001b[0;34m.\u001b[0m\u001b[0mdetect\u001b[0m\u001b[0;34m(\u001b[0m\u001b[0;34m[\u001b[0m\u001b[0mimg_arr\u001b[0m\u001b[0;34m]\u001b[0m\u001b[0;34m,\u001b[0m \u001b[0mverbose\u001b[0m\u001b[0;34m=\u001b[0m\u001b[0;36m1\u001b[0m\u001b[0;34m)\u001b[0m\u001b[0;34m\u001b[0m\u001b[0;34m\u001b[0m\u001b[0m\n\u001b[0m\u001b[1;32m     12\u001b[0m     \u001b[0mr\u001b[0m \u001b[0;34m=\u001b[0m \u001b[0mresults\u001b[0m\u001b[0;34m[\u001b[0m\u001b[0;36m0\u001b[0m\u001b[0;34m]\u001b[0m\u001b[0;34m\u001b[0m\u001b[0;34m\u001b[0m\u001b[0m\n\u001b[1;32m     13\u001b[0m     visualize.display_instances(img, r['rois'], r['masks'], r['class_ids'], \n",
            "\u001b[0;32m/content/Mask_RCNN/mrcnn/model.py\u001b[0m in \u001b[0;36mdetect\u001b[0;34m(self, images, verbose)\u001b[0m\n\u001b[1;32m   2515\u001b[0m         \u001b[0;31m# Run object detection\u001b[0m\u001b[0;34m\u001b[0m\u001b[0;34m\u001b[0m\u001b[0;34m\u001b[0m\u001b[0m\n\u001b[1;32m   2516\u001b[0m         \u001b[0mdetections\u001b[0m\u001b[0;34m,\u001b[0m \u001b[0m_\u001b[0m\u001b[0;34m,\u001b[0m \u001b[0m_\u001b[0m\u001b[0;34m,\u001b[0m \u001b[0mmrcnn_mask\u001b[0m\u001b[0;34m,\u001b[0m \u001b[0m_\u001b[0m\u001b[0;34m,\u001b[0m \u001b[0m_\u001b[0m\u001b[0;34m,\u001b[0m \u001b[0m_\u001b[0m \u001b[0;34m=\u001b[0m\u001b[0;31m\\\u001b[0m\u001b[0;34m\u001b[0m\u001b[0;34m\u001b[0m\u001b[0m\n\u001b[0;32m-> 2517\u001b[0;31m             \u001b[0mself\u001b[0m\u001b[0;34m.\u001b[0m\u001b[0mkeras_model\u001b[0m\u001b[0;34m.\u001b[0m\u001b[0mpredict\u001b[0m\u001b[0;34m(\u001b[0m\u001b[0;34m[\u001b[0m\u001b[0mmolded_images\u001b[0m\u001b[0;34m,\u001b[0m \u001b[0mimage_metas\u001b[0m\u001b[0;34m,\u001b[0m \u001b[0manchors\u001b[0m\u001b[0;34m]\u001b[0m\u001b[0;34m,\u001b[0m \u001b[0mverbose\u001b[0m\u001b[0;34m=\u001b[0m\u001b[0;36m0\u001b[0m\u001b[0;34m)\u001b[0m\u001b[0;34m\u001b[0m\u001b[0;34m\u001b[0m\u001b[0m\n\u001b[0m\u001b[1;32m   2518\u001b[0m         \u001b[0;31m# Process detections\u001b[0m\u001b[0;34m\u001b[0m\u001b[0;34m\u001b[0m\u001b[0;34m\u001b[0m\u001b[0m\n\u001b[1;32m   2519\u001b[0m         \u001b[0mresults\u001b[0m \u001b[0;34m=\u001b[0m \u001b[0;34m[\u001b[0m\u001b[0;34m]\u001b[0m\u001b[0;34m\u001b[0m\u001b[0;34m\u001b[0m\u001b[0m\n",
            "\u001b[0;32m/usr/local/lib/python3.8/dist-packages/tensorflow/python/keras/engine/training_v1.py\u001b[0m in \u001b[0;36mpredict\u001b[0;34m(self, x, batch_size, verbose, steps, callbacks, max_queue_size, workers, use_multiprocessing)\u001b[0m\n\u001b[1;32m    980\u001b[0m \u001b[0;34m\u001b[0m\u001b[0m\n\u001b[1;32m    981\u001b[0m     \u001b[0mfunc\u001b[0m \u001b[0;34m=\u001b[0m \u001b[0mself\u001b[0m\u001b[0;34m.\u001b[0m\u001b[0m_select_training_loop\u001b[0m\u001b[0;34m(\u001b[0m\u001b[0mx\u001b[0m\u001b[0;34m)\u001b[0m\u001b[0;34m\u001b[0m\u001b[0;34m\u001b[0m\u001b[0m\n\u001b[0;32m--> 982\u001b[0;31m     return func.predict(\n\u001b[0m\u001b[1;32m    983\u001b[0m         \u001b[0mself\u001b[0m\u001b[0;34m,\u001b[0m\u001b[0;34m\u001b[0m\u001b[0;34m\u001b[0m\u001b[0m\n\u001b[1;32m    984\u001b[0m         \u001b[0mx\u001b[0m\u001b[0;34m=\u001b[0m\u001b[0mx\u001b[0m\u001b[0;34m,\u001b[0m\u001b[0;34m\u001b[0m\u001b[0;34m\u001b[0m\u001b[0m\n",
            "\u001b[0;32m/usr/local/lib/python3.8/dist-packages/tensorflow/python/keras/engine/training_arrays_v1.py\u001b[0m in \u001b[0;36mpredict\u001b[0;34m(self, model, x, batch_size, verbose, steps, callbacks, **kwargs)\u001b[0m\n\u001b[1;32m    704\u001b[0m     x, _, _ = model._standardize_user_data(\n\u001b[1;32m    705\u001b[0m         x, check_steps=True, steps_name='steps', steps=steps)\n\u001b[0;32m--> 706\u001b[0;31m     return predict_loop(\n\u001b[0m\u001b[1;32m    707\u001b[0m         \u001b[0mmodel\u001b[0m\u001b[0;34m,\u001b[0m\u001b[0;34m\u001b[0m\u001b[0;34m\u001b[0m\u001b[0m\n\u001b[1;32m    708\u001b[0m         \u001b[0mx\u001b[0m\u001b[0;34m,\u001b[0m\u001b[0;34m\u001b[0m\u001b[0;34m\u001b[0m\u001b[0m\n",
            "\u001b[0;32m/usr/local/lib/python3.8/dist-packages/tensorflow/python/keras/engine/training_arrays_v1.py\u001b[0m in \u001b[0;36mmodel_iteration\u001b[0;34m(model, inputs, targets, sample_weights, batch_size, epochs, verbose, callbacks, val_inputs, val_targets, val_sample_weights, shuffle, initial_epoch, steps_per_epoch, validation_steps, validation_freq, mode, validation_in_fit, prepared_feed_values_from_dataset, steps_name, **kwargs)\u001b[0m\n\u001b[1;32m    382\u001b[0m \u001b[0;34m\u001b[0m\u001b[0m\n\u001b[1;32m    383\u001b[0m         \u001b[0;31m# Get outputs.\u001b[0m\u001b[0;34m\u001b[0m\u001b[0;34m\u001b[0m\u001b[0;34m\u001b[0m\u001b[0m\n\u001b[0;32m--> 384\u001b[0;31m         \u001b[0mbatch_outs\u001b[0m \u001b[0;34m=\u001b[0m \u001b[0mf\u001b[0m\u001b[0;34m(\u001b[0m\u001b[0mins_batch\u001b[0m\u001b[0;34m)\u001b[0m\u001b[0;34m\u001b[0m\u001b[0;34m\u001b[0m\u001b[0m\n\u001b[0m\u001b[1;32m    385\u001b[0m         \u001b[0;32mif\u001b[0m \u001b[0;32mnot\u001b[0m \u001b[0misinstance\u001b[0m\u001b[0;34m(\u001b[0m\u001b[0mbatch_outs\u001b[0m\u001b[0;34m,\u001b[0m \u001b[0mlist\u001b[0m\u001b[0;34m)\u001b[0m\u001b[0;34m:\u001b[0m\u001b[0;34m\u001b[0m\u001b[0;34m\u001b[0m\u001b[0m\n\u001b[1;32m    386\u001b[0m           \u001b[0mbatch_outs\u001b[0m \u001b[0;34m=\u001b[0m \u001b[0;34m[\u001b[0m\u001b[0mbatch_outs\u001b[0m\u001b[0;34m]\u001b[0m\u001b[0;34m\u001b[0m\u001b[0;34m\u001b[0m\u001b[0m\n",
            "\u001b[0;32m/usr/local/lib/python3.8/dist-packages/tensorflow/python/keras/backend.py\u001b[0m in \u001b[0;36m__call__\u001b[0;34m(self, inputs)\u001b[0m\n\u001b[1;32m   3954\u001b[0m       \u001b[0mself\u001b[0m\u001b[0;34m.\u001b[0m\u001b[0m_make_callable\u001b[0m\u001b[0;34m(\u001b[0m\u001b[0mfeed_arrays\u001b[0m\u001b[0;34m,\u001b[0m \u001b[0mfeed_symbols\u001b[0m\u001b[0;34m,\u001b[0m \u001b[0msymbol_vals\u001b[0m\u001b[0;34m,\u001b[0m \u001b[0msession\u001b[0m\u001b[0;34m)\u001b[0m\u001b[0;34m\u001b[0m\u001b[0;34m\u001b[0m\u001b[0m\n\u001b[1;32m   3955\u001b[0m \u001b[0;34m\u001b[0m\u001b[0m\n\u001b[0;32m-> 3956\u001b[0;31m     fetched = self._callable_fn(*array_vals,\n\u001b[0m\u001b[1;32m   3957\u001b[0m                                 run_metadata=self.run_metadata)\n\u001b[1;32m   3958\u001b[0m     \u001b[0mself\u001b[0m\u001b[0;34m.\u001b[0m\u001b[0m_call_fetch_callbacks\u001b[0m\u001b[0;34m(\u001b[0m\u001b[0mfetched\u001b[0m\u001b[0;34m[\u001b[0m\u001b[0;34m-\u001b[0m\u001b[0mlen\u001b[0m\u001b[0;34m(\u001b[0m\u001b[0mself\u001b[0m\u001b[0;34m.\u001b[0m\u001b[0m_fetches\u001b[0m\u001b[0;34m)\u001b[0m\u001b[0;34m:\u001b[0m\u001b[0;34m]\u001b[0m\u001b[0;34m)\u001b[0m\u001b[0;34m\u001b[0m\u001b[0;34m\u001b[0m\u001b[0m\n",
            "\u001b[0;32m/usr/local/lib/python3.8/dist-packages/tensorflow/python/client/session.py\u001b[0m in \u001b[0;36m__call__\u001b[0;34m(self, *args, **kwargs)\u001b[0m\n\u001b[1;32m   1478\u001b[0m       \u001b[0;32mtry\u001b[0m\u001b[0;34m:\u001b[0m\u001b[0;34m\u001b[0m\u001b[0;34m\u001b[0m\u001b[0m\n\u001b[1;32m   1479\u001b[0m         \u001b[0mrun_metadata_ptr\u001b[0m \u001b[0;34m=\u001b[0m \u001b[0mtf_session\u001b[0m\u001b[0;34m.\u001b[0m\u001b[0mTF_NewBuffer\u001b[0m\u001b[0;34m(\u001b[0m\u001b[0;34m)\u001b[0m \u001b[0;32mif\u001b[0m \u001b[0mrun_metadata\u001b[0m \u001b[0;32melse\u001b[0m \u001b[0;32mNone\u001b[0m\u001b[0;34m\u001b[0m\u001b[0;34m\u001b[0m\u001b[0m\n\u001b[0;32m-> 1480\u001b[0;31m         ret = tf_session.TF_SessionRunCallable(self._session._session,\n\u001b[0m\u001b[1;32m   1481\u001b[0m                                                \u001b[0mself\u001b[0m\u001b[0;34m.\u001b[0m\u001b[0m_handle\u001b[0m\u001b[0;34m,\u001b[0m \u001b[0margs\u001b[0m\u001b[0;34m,\u001b[0m\u001b[0;34m\u001b[0m\u001b[0;34m\u001b[0m\u001b[0m\n\u001b[1;32m   1482\u001b[0m                                                run_metadata_ptr)\n",
            "\u001b[0;31mKeyboardInterrupt\u001b[0m: "
          ]
        }
      ],
      "source": [
        "import skimage\n",
        "real_test_dir = '/content/new_data/test'\n",
        "image_paths = []\n",
        "for filename in os.listdir(real_test_dir):\n",
        "    if os.path.splitext(filename)[1].lower() in ['.png', '.jpg', '.jpeg']:\n",
        "        image_paths.append(os.path.join(real_test_dir, filename))\n",
        "\n",
        "for image_path in image_paths:\n",
        "    img = skimage.io.imread(image_path)\n",
        "    img_arr = np.array(img)\n",
        "    results = model.detect([img_arr], verbose=1)\n",
        "    r = results[0]\n",
        "    visualize.display_instances(img, r['rois'], r['masks'], r['class_ids'], \n",
        "                                dataset_val.class_names, r['scores'], figsize=(5,5))\n",
        "    "
      ]
    },
    {
      "cell_type": "code",
      "execution_count": null,
      "metadata": {
        "collapsed": true,
        "id": "pWmzWLUk_Hdo"
      },
      "outputs": [],
      "source": [
        "# test on words\n",
        "import skimage\n",
        "real_test_dir = '/content/word_data/test'\n",
        "image_paths = []\n",
        "for filename in os.listdir(real_test_dir):\n",
        "    if os.path.splitext(filename)[1].lower() in ['.png', '.jpg', '.jpeg']:\n",
        "        image_paths.append(os.path.join(real_test_dir, filename))\n",
        "\n",
        "for image_path in image_paths:\n",
        "    img = skimage.io.imread(image_path)\n",
        "    img_arr = np.array(img)\n",
        "    results = model.detect([img_arr], verbose=1)\n",
        "    r = results[0]\n",
        "    visualize.display_instances(img, r['rois'], r['masks'], r['class_ids'], \n",
        "                                dataset_val.class_names, r['scores'], figsize=(5,5))\n",
        "    "
      ]
    },
    {
      "cell_type": "markdown",
      "metadata": {
        "id": "fH4-VhFwMZn0"
      },
      "source": [
        "# Processing letters into strings\n",
        "\n",
        "Letter concatenation & word concatenation"
      ]
    },
    {
      "cell_type": "code",
      "execution_count": null,
      "metadata": {
        "colab": {
          "base_uri": "https://localhost:8080/"
        },
        "id": "9UlLMe6PTiSe",
        "outputId": "c508e9ac-f3fb-4949-d312-db8327fa4d96"
      },
      "outputs": [
        {
          "name": "stdout",
          "output_type": "stream",
          "text": [
            "Looking in indexes: https://pypi.org/simple, https://us-python.pkg.dev/colab-wheels/public/simple/\n",
            "Collecting googletrans==3.1.0a0\n",
            "  Downloading googletrans-3.1.0a0.tar.gz (19 kB)\n",
            "Collecting httpx==0.13.3\n",
            "  Downloading httpx-0.13.3-py3-none-any.whl (55 kB)\n",
            "\u001b[K     |████████████████████████████████| 55 kB 3.9 MB/s \n",
            "\u001b[?25hCollecting sniffio\n",
            "  Downloading sniffio-1.3.0-py3-none-any.whl (10 kB)\n",
            "Collecting httpcore==0.9.*\n",
            "  Downloading httpcore-0.9.1-py3-none-any.whl (42 kB)\n",
            "\u001b[K     |████████████████████████████████| 42 kB 1.5 MB/s \n",
            "\u001b[?25hRequirement already satisfied: certifi in /usr/local/lib/python3.8/dist-packages (from httpx==0.13.3->googletrans==3.1.0a0) (2022.9.24)\n",
            "Collecting rfc3986<2,>=1.3\n",
            "  Downloading rfc3986-1.5.0-py2.py3-none-any.whl (31 kB)\n",
            "Requirement already satisfied: chardet==3.* in /usr/local/lib/python3.8/dist-packages (from httpx==0.13.3->googletrans==3.1.0a0) (3.0.4)\n",
            "Requirement already satisfied: idna==2.* in /usr/local/lib/python3.8/dist-packages (from httpx==0.13.3->googletrans==3.1.0a0) (2.10)\n",
            "Collecting hstspreload\n",
            "  Downloading hstspreload-2022.12.1-py3-none-any.whl (1.5 MB)\n",
            "\u001b[K     |████████████████████████████████| 1.5 MB 62.5 MB/s \n",
            "\u001b[?25hCollecting h2==3.*\n",
            "  Downloading h2-3.2.0-py2.py3-none-any.whl (65 kB)\n",
            "\u001b[K     |████████████████████████████████| 65 kB 4.1 MB/s \n",
            "\u001b[?25hCollecting h11<0.10,>=0.8\n",
            "  Downloading h11-0.9.0-py2.py3-none-any.whl (53 kB)\n",
            "\u001b[K     |████████████████████████████████| 53 kB 2.8 MB/s \n",
            "\u001b[?25hCollecting hpack<4,>=3.0\n",
            "  Downloading hpack-3.0.0-py2.py3-none-any.whl (38 kB)\n",
            "Collecting hyperframe<6,>=5.2.0\n",
            "  Downloading hyperframe-5.2.0-py2.py3-none-any.whl (12 kB)\n",
            "Building wheels for collected packages: googletrans\n",
            "  Building wheel for googletrans (setup.py) ... \u001b[?25l\u001b[?25hdone\n",
            "  Created wheel for googletrans: filename=googletrans-3.1.0a0-py3-none-any.whl size=16368 sha256=bba4ee4e9137346f302b1e7aec81c75554388137f52eb65f3afb891ed8508e6e\n",
            "  Stored in directory: /root/.cache/pip/wheels/dd/59/af/8d6c96a719763990f1c548e36b17d9efdfb767f42f7ff39f53\n",
            "Successfully built googletrans\n",
            "Installing collected packages: hyperframe, hpack, sniffio, h2, h11, rfc3986, httpcore, hstspreload, httpx, googletrans\n",
            "Successfully installed googletrans-3.1.0a0 h11-0.9.0 h2-3.2.0 hpack-3.0.0 hstspreload-2022.12.1 httpcore-0.9.1 httpx-0.13.3 hyperframe-5.2.0 rfc3986-1.5.0 sniffio-1.3.0\n"
          ]
        }
      ],
      "source": [
        "!pip install googletrans==3.1.0a0"
      ]
    },
    {
      "cell_type": "code",
      "execution_count": null,
      "metadata": {
        "id": "SLM43RncN6Wt"
      },
      "outputs": [],
      "source": [
        "# import argparse\n",
        "# import keras_ocr\n",
        "# import matplotlib.pyplot as plt\n",
        "from googletrans import Translator\n",
        "from googletrans import constants\n",
        "# import matplotlib.pyplot as plt\n",
        "from PIL import Image, ImageDraw, ImageFont\n",
        "import numpy as np\n",
        "# from random import randint\n",
        "from math import sqrt\n",
        "import math"
      ]
    },
    {
      "cell_type": "code",
      "execution_count": null,
      "metadata": {
        "id": "468WR9Q2MY-L"
      },
      "outputs": [],
      "source": [
        "def char_concat(char_ids, bounding_boxes):\n",
        "    alphabet = 'abcdefghijklmnopqrstuvwxyz'\n",
        "    charboxDict = {}\n",
        "    for i in range(len(char_ids)):\n",
        "        char_id = char_ids[i] - 1\n",
        "        char = alphabet[char_id]\n",
        "        char_bounding_box = bounding_boxes[i]\n",
        "        # x & y are reversed in input\n",
        "        char_tleft = (char_bounding_box[1], char_bounding_box[0])\n",
        "        char_bright = (char_bounding_box[3], char_bounding_box[2])\n",
        "        char_tright = (char_bright[0], char_tleft[1])\n",
        "        char_bleft = (char_tleft[0], char_bright[1])\n",
        "        key_tuple = (char, char_tleft, char_tright, char_bright, char_bleft)\n",
        "        charboxDict[key_tuple] = 1\n",
        "    print(\"charboxDict\", charboxDict)\n",
        "\n",
        "    char_size = len(charboxDict.keys())\n",
        "    current_word_index = 0\n",
        "    while current_word_index < char_size:\n",
        "        textboxes = list(charboxDict.keys())\n",
        "        current_textbox = textboxes[current_word_index]\n",
        "        minDistance = math.inf\n",
        "        closestTextbox = textboxes[0]\n",
        "        closestTextboxIndex = 0\n",
        "        for index, textbox in enumerate(textboxes):\n",
        "            # if it's current word index, then skip\n",
        "            if (index == current_word_index):\n",
        "                continue\n",
        "            # if it's not the current word, we process\n",
        "            current_tright = current_textbox[2]\n",
        "            index_tleft = textbox[1]\n",
        "            # we find the closest text box TO THE RIGHT\n",
        "            distance = sqrt((current_tright[0] - index_tleft[0])**2 + (current_tright[1] - index_tleft[1])**2)\n",
        "            if (distance < minDistance):\n",
        "                minDistance = distance\n",
        "                closestTextbox = textbox\n",
        "                closestTextboxIndex = index\n",
        "        \n",
        "        # after we have gotten the min distance:\n",
        "        current_bright = current_textbox[3]\n",
        "        current_tright = current_textbox[2]\n",
        "        height = sqrt((current_bright[0] - current_tright[0])**2 + (current_bright[1] - current_tright[1])**2)\n",
        "        em = height * 1.5\n",
        "        closest_bleft = closestTextbox[4]\n",
        "        closest_tleft = closestTextbox[1]\n",
        "        closest_height = sqrt((closest_bleft[0] - closest_tleft[0])**2 + (closest_bleft[1] - closest_tleft[1])**2)\n",
        "        if (minDistance < 0.5 * em and closest_height > height * 0.5 and closest_height < height * 1.5):\n",
        "            # we connect this textbox with the closest textbox (to the right)\n",
        "            closest_textbox_tright = closestTextbox[2]\n",
        "            closest_textbox_bright = closestTextbox[3]\n",
        "            current_bleft = current_textbox[4]\n",
        "            current_tleft = current_textbox[1]\n",
        "            connected_text = current_textbox[0] + closestTextbox[0]\n",
        "            connected_textbox = (connected_text, current_tleft, closest_textbox_tright, closest_textbox_bright, current_bleft)\n",
        "\n",
        "            # we pop out current textbox:\n",
        "            charboxDict.pop(current_textbox)\n",
        "            # decrease current_index & char_size:\n",
        "            current_word_index -= 1\n",
        "            char_size -= 1\n",
        "\n",
        "            # we pop out closest textbox:\n",
        "            charboxDict.pop(closestTextbox)\n",
        "            # decrease current_index & char_size, ACCORDINGLY:\n",
        "            if (current_word_index > closestTextboxIndex):\n",
        "                current_word_index -= 1\n",
        "            char_size -= 1\n",
        "\n",
        "            # we add newest connected textbox:\n",
        "            charboxDict[connected_textbox] = 1\n",
        "            char_size += 1\n",
        "\n",
        "        current_word_index += 1\n",
        "    \n",
        "    concatenated_chars = list(charboxDict.keys())\n",
        "    return concatenated_chars # return words & bounding box"
      ]
    },
    {
      "cell_type": "code",
      "execution_count": null,
      "metadata": {
        "colab": {
          "base_uri": "https://localhost:8080/"
        },
        "id": "Y2EmHRyyMrXN",
        "outputId": "7c78f487-5420-473a-eeb7-a80930502a4c"
      },
      "outputs": [
        {
          "name": "stdout",
          "output_type": "stream",
          "text": [
            "charboxDict {('t', (83, 49), (102, 49), (102, 80), (83, 80)): 1, ('a', (175, 57), (198, 57), (198, 80), (175, 80)): 1, ('d', (143, 46), (162, 46), (162, 80), (143, 80)): 1, ('o', (51, 56), (79, 56), (79, 80), (51, 80)): 1, ('h', (21, 45), (41, 45), (41, 80), (21, 80)): 1, ('y', (203, 55), (230, 55), (230, 88), (203, 88)): 1}\n"
          ]
        }
      ],
      "source": [
        "# Concatenate letters into words\n",
        "# final_char_ids = [ 2,  1,  2, 25]\n",
        "# final_char_rois = [[ 80, 119, 109, 141],\n",
        "#                   [ 87,  78, 108, 105],\n",
        "#                   [ 81,  44, 112,  66],\n",
        "#                   [ 85, 151, 120, 182]]\n",
        "processed_words = char_concat(final_char_ids, final_char_rois)"
      ]
    },
    {
      "cell_type": "code",
      "execution_count": null,
      "metadata": {
        "id": "MTsMcyGAOSNN"
      },
      "outputs": [],
      "source": [
        "# Define path to image\n",
        "prediction_image_path = '/content/test_word_pair_2.jpg'"
      ]
    },
    {
      "cell_type": "code",
      "execution_count": null,
      "metadata": {
        "id": "lXqAKcl1NZS7"
      },
      "outputs": [],
      "source": [
        "def overlay(detected_words, src_lang, dest_lang):\n",
        "    # pipleline = keras_ocr.pipeline.Pipeline()\n",
        "    # images = [keras_ocr.tools.read('test.png'), keras_ocr.tools.read('billboard.jpg')]\n",
        "    # images = [keras_ocr.tools.read('test.png'), keras_ocr.tools.read(ARGS.img_path)]\n",
        "    # print(\"ARGS.img_path\", ARGS.img_path)\n",
        "\n",
        "    # prediction_groups = pipleline.recognize(images)\n",
        "    # fig, axs = plt.subplots(nrows=len(images), figsize=(10, 20))\n",
        "    # for ax, image, predictions in zip(axs, images, prediction_groups):\n",
        "    #     keras_ocr.tools.drawAnnotations(image=image, \n",
        "    #                                     predictions=predictions, \n",
        "    #                                     ax=ax)\n",
        "\n",
        "    pillow_image = Image.open(prediction_image_path)\n",
        "    # pillow_image = Image.open(ARGS.img_path)\n",
        "    pillow_image = pillow_image.convert(\"RGBA\")\n",
        "\n",
        "    textboxDict = {}\n",
        "    # for text, box in prediction_groups[1]:\n",
        "    for text, text_tleft, text_tright, text_bright, text_bleft in detected_words:\n",
        "        # text_tleft = (box[0][0], box[0][1])\n",
        "        # text_tright = (box[1][0], box[1][1])\n",
        "        # text_bright = (box[2][0], box[2][1])\n",
        "        # text_bleft = (box[3][0], box[3][1]) # to calc height\n",
        "        key_tuple = (text, text_tleft, text_tright, text_bright, text_bleft)\n",
        "        textboxDict[key_tuple] = 1\n",
        "\n",
        "    word_size = len(textboxDict.keys())\n",
        "    current_word_index = 0\n",
        "    while current_word_index < word_size:\n",
        "        textboxes = list(textboxDict.keys())\n",
        "        current_textbox = textboxes[current_word_index]\n",
        "        minDistance = math.inf\n",
        "        closestTextbox = textboxes[0]\n",
        "        closestTextboxIndex = 0\n",
        "        for index, textbox in enumerate(textboxes):\n",
        "            # if it's current word index, then skip\n",
        "            if (index == current_word_index):\n",
        "                continue\n",
        "            # if it's not the current word, we process\n",
        "            current_tright = current_textbox[2]\n",
        "            index_tleft = textbox[1]\n",
        "            # we find the closest text box TO THE RIGHT\n",
        "            distance = sqrt((current_tright[0] - index_tleft[0])**2 + (current_tright[1] - index_tleft[1])**2)\n",
        "            if (distance < minDistance):\n",
        "                minDistance = distance\n",
        "                closestTextbox = textbox\n",
        "                closestTextboxIndex = index\n",
        "        \n",
        "        # after we have gotten the min distance:\n",
        "        current_bright = current_textbox[3]\n",
        "        current_tright = current_textbox[2]\n",
        "        height = sqrt((current_bright[0] - current_tright[0])**2 + (current_bright[1] - current_tright[1])**2)\n",
        "        em = height * 1.5\n",
        "        closest_bleft = closestTextbox[4]\n",
        "        closest_tleft = closestTextbox[1]\n",
        "        closest_height = sqrt((closest_bleft[0] - closest_tleft[0])**2 + (closest_bleft[1] - closest_tleft[1])**2)\n",
        "        if (minDistance < 1.2 * em and closest_height > height * 0.5 and closest_height < height * 1.5):\n",
        "            # we connect this textbox with the closest textbox (to the right)\n",
        "            closest_textbox_tright = closestTextbox[2]\n",
        "            closest_textbox_bright = closestTextbox[3]\n",
        "            current_bleft = current_textbox[4]\n",
        "            current_tleft = current_textbox[1]\n",
        "            connected_text = current_textbox[0] + \" \" + closestTextbox[0]\n",
        "            connected_textbox = (connected_text, current_tleft, closest_textbox_tright, closest_textbox_bright, current_bleft)\n",
        "\n",
        "            # we pop out current textbox:\n",
        "            textboxDict.pop(current_textbox)\n",
        "            # decrease current_index & word_size:\n",
        "            current_word_index -= 1\n",
        "            word_size -= 1\n",
        "\n",
        "            # we pop out closest textbox:\n",
        "            textboxDict.pop(closestTextbox)\n",
        "            # decrease current_index & word_size, ACCORDINGLY:\n",
        "            if (current_word_index > closestTextboxIndex):\n",
        "                current_word_index -= 1\n",
        "            word_size -= 1\n",
        "\n",
        "            # we add newest connected textbox:\n",
        "            textboxDict[connected_textbox] = 1\n",
        "            word_size += 1\n",
        "\n",
        "        current_word_index += 1\n",
        "    print(\"new textboxDict\", textboxDict)\n",
        "\n",
        "    concatenated_words = list(textboxDict.keys())\n",
        "    # adding translation --------------------\n",
        "    translate_client = Translator()\n",
        "    all_text = [textbox[0] for textbox in concatenated_words]\n",
        "\n",
        "    print(\"Original text in {}: {}\".format(constants.LANGUAGES[src_lang], all_text))\n",
        "    translation_list = translate_client.translate(all_text, src = src_lang, dest = dest_lang)\n",
        "    translated_text_list = [text.text for text in translation_list]\n",
        "    print(\"Translated text in {}: {}\".format(constants.LANGUAGES[dest_lang], translated_text_list))\n",
        "    \n",
        "    # replace text with translation\n",
        "    for index in range(len(concatenated_words)):\n",
        "        list_textbox = list(concatenated_words[index])\n",
        "        list_textbox[0] = translated_text_list[index]\n",
        "        concatenated_words[index] = tuple(list_textbox)\n",
        "    # adding translation --------------------\n",
        "\n",
        "    for text, text_tleft, text_tright, text_bright, text_bleft in concatenated_words:\n",
        "        # corners = np.array(box)\n",
        "        tleft = text_tleft\n",
        "        tright = text_tright\n",
        "        bright = text_bright\n",
        "        bleft = text_bleft\n",
        "        width = int(sqrt((tright[0] - tleft[0])**2 + (tright[1] - tleft[1])**2))\n",
        "        height = int(sqrt((tright[0] - bright[0])**2 + (tright[1] - bright[1])**2))\n",
        "        overlay_img = Image.new('RGBA', (width, height), color='blue')\n",
        "        # calculating font size -------------------------\n",
        "        font_size = 1\n",
        "        font = ImageFont.truetype(\"Lato-Regular.ttf\", font_size)\n",
        "        max_fraction = 0.90\n",
        "\n",
        "        breakpoint = max_fraction * height\n",
        "        jumpsize = 75\n",
        "        while True:\n",
        "            #print(\"hello\")\n",
        "            if font_size < breakpoint:\n",
        "                font_size += jumpsize\n",
        "                print(font_size)\n",
        "            else:\n",
        "                jumpsize = jumpsize // 2\n",
        "                font_size -= jumpsize\n",
        "            font = ImageFont.truetype(\"Lato-Regular.ttf\", font_size)\n",
        "            if jumpsize <= 1:\n",
        "                break\n",
        "        # calculating font size -------------------------\n",
        "        imgDraw = ImageDraw.Draw(overlay_img)\n",
        "        imgDraw.text((0, 0), text, fill=(255, 255, 0), font=font)\n",
        "\n",
        "        # FOR SOME EDGE CASES, THIS APPROACH MIGHT NOT WORK\n",
        "        current_vector = np.array([1,0])\n",
        "        original_vector = np.array([tright[0] - tleft[0], tright[1] - tleft[1]])\n",
        "        # normalizing original_vector\n",
        "        original_vector = original_vector / np.linalg.norm(original_vector)\n",
        "        # calculating the rotation angle # this angle is equal to the vertical angle\n",
        "        theta = np.arccos(np.dot(current_vector, original_vector))\n",
        "        # getting the height\n",
        "        additional_height = np.sin(theta) * width\n",
        "        # converting theta from radian to degree\n",
        "        theta = np.degrees(theta)\n",
        "        if (tleft[1] < tright[1]):\n",
        "            theta = -theta\n",
        "        rotated_overlay_img = overlay_img.rotate(theta, expand=True, resample=Image.BICUBIC, fillcolor=(0,0,0,0))\n",
        "        pillow_image.paste(rotated_overlay_img, (int(tleft[0]), int(tleft[1] - additional_height)), mask=rotated_overlay_img)\n",
        "\n",
        "    # pillow_image.show()\n",
        "    display(pillow_image)"
      ]
    },
    {
      "cell_type": "code",
      "execution_count": null,
      "metadata": {
        "colab": {
          "base_uri": "https://localhost:8080/",
          "height": 378
        },
        "id": "k2PnIHXeQBjk",
        "outputId": "b4f943ea-01ee-46aa-a29f-1043c8ca3c40"
      },
      "outputs": [
        {
          "name": "stdout",
          "output_type": "stream",
          "text": [
            "new textboxDict {('h ot day', (21, 45), (230, 55), (230, 88), (21, 80)): 1}\n",
            "Original text in english: ['h ot day']\n",
            "Translated text in french: ['journée chaude']\n",
            "76\n",
            "39\n",
            "30\n",
            "30\n"
          ]
        },
        {
          "data": {
            "image/png": "[encoded data removed]",
            "text/plain": [
              "<PIL.Image.Image image mode=RGBA size=260x242 at 0x7F536EA78970>"
            ]
          },
          "metadata": {},
          "output_type": "display_data"
        }
      ],
      "source": [
        "overlay(processed_words, \"en\", \"fr\")"
      ]
    }
  ],
  "metadata": {
    "accelerator": "GPU",
    "colab": {
      "collapsed_sections": [
        "tVr3LE0vQ6oX",
        "U8EuTOdY_Hdo",
        "qGIT-opv_Hdo",
        "fH4-VhFwMZn0"
      ],
      "provenance": []
    },
    "gpuClass": "standard",
    "kernelspec": {
      "display_name": "Python 3",
      "name": "python3"
    },
    "language_info": {
      "name": "python"
    }
  },
  "nbformat": 4,
  "nbformat_minor": 0
}
